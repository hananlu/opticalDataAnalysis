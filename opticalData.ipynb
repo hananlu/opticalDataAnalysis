{
 "cells": [
  {
   "cell_type": "code",
   "execution_count": 1,
   "id": "90c6ef2d-489c-4522-8b12-bd3e947455d8",
   "metadata": {},
   "outputs": [],
   "source": [
    "import pandas as pd\n",
    "import numpy as np\n",
    "import seaborn as sns\n",
    "import matplotlib.pyplot as plt"
   ]
  },
  {
   "cell_type": "code",
   "execution_count": 2,
   "id": "b5ef5730-e7b1-445a-a75a-f5b6da555ea9",
   "metadata": {},
   "outputs": [],
   "source": [
    "# pip install openpyxl\n",
    "# !pip install -U scikit-learn scipy matplotlib"
   ]
  },
  {
   "cell_type": "markdown",
   "id": "db4eba45-4d6d-4d67-ac7b-7e3a78c94c01",
   "metadata": {},
   "source": [
    "# Exploaratory Data"
   ]
  },
  {
   "cell_type": "markdown",
   "id": "b342ab60-c3a1-4217-9f50-d72646f22bd3",
   "metadata": {},
   "source": [
    "Overview dataset and check number rows and columns in dataset"
   ]
  },
  {
   "cell_type": "code",
   "execution_count": 3,
   "id": "7cf2714d-d76a-4964-a580-47849a5fb3cd",
   "metadata": {},
   "outputs": [
    {
     "data": {
      "text/html": [
       "<div>\n",
       "<style scoped>\n",
       "    .dataframe tbody tr th:only-of-type {\n",
       "        vertical-align: middle;\n",
       "    }\n",
       "\n",
       "    .dataframe tbody tr th {\n",
       "        vertical-align: top;\n",
       "    }\n",
       "\n",
       "    .dataframe thead th {\n",
       "        text-align: right;\n",
       "    }\n",
       "</style>\n",
       "<table border=\"1\" class=\"dataframe\">\n",
       "  <thead>\n",
       "    <tr style=\"text-align: right;\">\n",
       "      <th></th>\n",
       "      <th>Kanal</th>\n",
       "      <th>spasi_kanal (GHz)</th>\n",
       "      <th>power (dBm)</th>\n",
       "      <th>panjang_kabel (Km)</th>\n",
       "      <th>redaman (dBm/km)</th>\n",
       "      <th>frekuensi (THz)</th>\n",
       "      <th>osnr 1 (dB)</th>\n",
       "      <th>q_factor 1</th>\n",
       "      <th>Nilai BER 1</th>\n",
       "      <th>Kondisi BER</th>\n",
       "      <th>Level</th>\n",
       "    </tr>\n",
       "  </thead>\n",
       "  <tbody>\n",
       "    <tr>\n",
       "      <th>0</th>\n",
       "      <td>8</td>\n",
       "      <td>200</td>\n",
       "      <td>2</td>\n",
       "      <td>50</td>\n",
       "      <td>0.1</td>\n",
       "      <td>191.5</td>\n",
       "      <td>36.93</td>\n",
       "      <td>16.66</td>\n",
       "      <td>1.217760e-62</td>\n",
       "      <td>Baik</td>\n",
       "      <td>Optimal</td>\n",
       "    </tr>\n",
       "    <tr>\n",
       "      <th>1</th>\n",
       "      <td>4</td>\n",
       "      <td>200</td>\n",
       "      <td>2</td>\n",
       "      <td>50</td>\n",
       "      <td>0.0</td>\n",
       "      <td>191.5</td>\n",
       "      <td>36.93</td>\n",
       "      <td>16.65</td>\n",
       "      <td>1.388090e-62</td>\n",
       "      <td>Baik</td>\n",
       "      <td>Optimal</td>\n",
       "    </tr>\n",
       "    <tr>\n",
       "      <th>2</th>\n",
       "      <td>4</td>\n",
       "      <td>200</td>\n",
       "      <td>2</td>\n",
       "      <td>50</td>\n",
       "      <td>0.1</td>\n",
       "      <td>191.5</td>\n",
       "      <td>36.93</td>\n",
       "      <td>16.58</td>\n",
       "      <td>4.486180e-62</td>\n",
       "      <td>Baik</td>\n",
       "      <td>Optimal</td>\n",
       "    </tr>\n",
       "    <tr>\n",
       "      <th>3</th>\n",
       "      <td>16</td>\n",
       "      <td>200</td>\n",
       "      <td>5</td>\n",
       "      <td>50</td>\n",
       "      <td>0.0</td>\n",
       "      <td>191.5</td>\n",
       "      <td>36.91</td>\n",
       "      <td>16.51</td>\n",
       "      <td>1.551160e-61</td>\n",
       "      <td>Baik</td>\n",
       "      <td>Optimal</td>\n",
       "    </tr>\n",
       "    <tr>\n",
       "      <th>4</th>\n",
       "      <td>16</td>\n",
       "      <td>200</td>\n",
       "      <td>2</td>\n",
       "      <td>50</td>\n",
       "      <td>0.1</td>\n",
       "      <td>191.5</td>\n",
       "      <td>36.93</td>\n",
       "      <td>16.50</td>\n",
       "      <td>1.720510e-61</td>\n",
       "      <td>Baik</td>\n",
       "      <td>Optimal</td>\n",
       "    </tr>\n",
       "  </tbody>\n",
       "</table>\n",
       "</div>"
      ],
      "text/plain": [
       "   Kanal  spasi_kanal (GHz)  power (dBm)  panjang_kabel (Km)  \\\n",
       "0      8                200            2                  50   \n",
       "1      4                200            2                  50   \n",
       "2      4                200            2                  50   \n",
       "3     16                200            5                  50   \n",
       "4     16                200            2                  50   \n",
       "\n",
       "   redaman (dBm/km)  frekuensi (THz)  osnr 1 (dB)  q_factor 1   Nilai BER 1  \\\n",
       "0               0.1            191.5        36.93       16.66  1.217760e-62   \n",
       "1               0.0            191.5        36.93       16.65  1.388090e-62   \n",
       "2               0.1            191.5        36.93       16.58  4.486180e-62   \n",
       "3               0.0            191.5        36.91       16.51  1.551160e-61   \n",
       "4               0.1            191.5        36.93       16.50  1.720510e-61   \n",
       "\n",
       "  Kondisi BER    Level  \n",
       "0        Baik  Optimal  \n",
       "1        Baik  Optimal  \n",
       "2        Baik  Optimal  \n",
       "3        Baik  Optimal  \n",
       "4        Baik  Optimal  "
      ]
     },
     "execution_count": 3,
     "metadata": {},
     "output_type": "execute_result"
    }
   ],
   "source": [
    "df = pd.read_excel(\"./dataset/datasetOptikRandom.xlsx\")\n",
    "df.head()"
   ]
  },
  {
   "cell_type": "code",
   "execution_count": 4,
   "id": "e3d00e0b-5eb5-489a-a177-dc7b4bc876cc",
   "metadata": {},
   "outputs": [
    {
     "data": {
      "text/plain": [
       "(900, 11)"
      ]
     },
     "execution_count": 4,
     "metadata": {},
     "output_type": "execute_result"
    }
   ],
   "source": [
    "df.shape"
   ]
  },
  {
   "cell_type": "markdown",
   "id": "fcd2edf0-cdf8-42da-9d34-6395f1883b12",
   "metadata": {},
   "source": [
    "Rename columns in dataset"
   ]
  },
  {
   "cell_type": "code",
   "execution_count": 5,
   "id": "8cdbd934-c0bf-469a-a49b-bef628d27db5",
   "metadata": {},
   "outputs": [],
   "source": [
    "df.columns = df.columns.str.lower().str.replace(\" \",\"_\")\n",
    "df.rename(columns={\"osnr_1_(db)\":\"osnr_(db)\",\n",
    "                  \"q_factor_1\":\"q_factor\",\n",
    "                  \"nilai_ber_1\":\"nilai_ber\"}, inplace=True)"
   ]
  },
  {
   "cell_type": "code",
   "execution_count": 6,
   "id": "92765479-9184-4195-90c1-46d9de713dbc",
   "metadata": {},
   "outputs": [
    {
     "data": {
      "text/html": [
       "<div>\n",
       "<style scoped>\n",
       "    .dataframe tbody tr th:only-of-type {\n",
       "        vertical-align: middle;\n",
       "    }\n",
       "\n",
       "    .dataframe tbody tr th {\n",
       "        vertical-align: top;\n",
       "    }\n",
       "\n",
       "    .dataframe thead th {\n",
       "        text-align: right;\n",
       "    }\n",
       "</style>\n",
       "<table border=\"1\" class=\"dataframe\">\n",
       "  <thead>\n",
       "    <tr style=\"text-align: right;\">\n",
       "      <th></th>\n",
       "      <th>kanal</th>\n",
       "      <th>spasi_kanal_(ghz)</th>\n",
       "      <th>power_(dbm)</th>\n",
       "      <th>panjang_kabel_(km)</th>\n",
       "      <th>redaman_(dbm/km)</th>\n",
       "      <th>frekuensi_(thz)</th>\n",
       "      <th>osnr_(db)</th>\n",
       "      <th>q_factor</th>\n",
       "      <th>nilai_ber</th>\n",
       "      <th>kondisi_ber</th>\n",
       "      <th>level</th>\n",
       "    </tr>\n",
       "  </thead>\n",
       "  <tbody>\n",
       "    <tr>\n",
       "      <th>0</th>\n",
       "      <td>8</td>\n",
       "      <td>200</td>\n",
       "      <td>2</td>\n",
       "      <td>50</td>\n",
       "      <td>0.1</td>\n",
       "      <td>191.5</td>\n",
       "      <td>36.93</td>\n",
       "      <td>16.66</td>\n",
       "      <td>1.217760e-62</td>\n",
       "      <td>Baik</td>\n",
       "      <td>Optimal</td>\n",
       "    </tr>\n",
       "    <tr>\n",
       "      <th>1</th>\n",
       "      <td>4</td>\n",
       "      <td>200</td>\n",
       "      <td>2</td>\n",
       "      <td>50</td>\n",
       "      <td>0.0</td>\n",
       "      <td>191.5</td>\n",
       "      <td>36.93</td>\n",
       "      <td>16.65</td>\n",
       "      <td>1.388090e-62</td>\n",
       "      <td>Baik</td>\n",
       "      <td>Optimal</td>\n",
       "    </tr>\n",
       "    <tr>\n",
       "      <th>2</th>\n",
       "      <td>4</td>\n",
       "      <td>200</td>\n",
       "      <td>2</td>\n",
       "      <td>50</td>\n",
       "      <td>0.1</td>\n",
       "      <td>191.5</td>\n",
       "      <td>36.93</td>\n",
       "      <td>16.58</td>\n",
       "      <td>4.486180e-62</td>\n",
       "      <td>Baik</td>\n",
       "      <td>Optimal</td>\n",
       "    </tr>\n",
       "    <tr>\n",
       "      <th>3</th>\n",
       "      <td>16</td>\n",
       "      <td>200</td>\n",
       "      <td>5</td>\n",
       "      <td>50</td>\n",
       "      <td>0.0</td>\n",
       "      <td>191.5</td>\n",
       "      <td>36.91</td>\n",
       "      <td>16.51</td>\n",
       "      <td>1.551160e-61</td>\n",
       "      <td>Baik</td>\n",
       "      <td>Optimal</td>\n",
       "    </tr>\n",
       "    <tr>\n",
       "      <th>4</th>\n",
       "      <td>16</td>\n",
       "      <td>200</td>\n",
       "      <td>2</td>\n",
       "      <td>50</td>\n",
       "      <td>0.1</td>\n",
       "      <td>191.5</td>\n",
       "      <td>36.93</td>\n",
       "      <td>16.50</td>\n",
       "      <td>1.720510e-61</td>\n",
       "      <td>Baik</td>\n",
       "      <td>Optimal</td>\n",
       "    </tr>\n",
       "  </tbody>\n",
       "</table>\n",
       "</div>"
      ],
      "text/plain": [
       "   kanal  spasi_kanal_(ghz)  power_(dbm)  panjang_kabel_(km)  \\\n",
       "0      8                200            2                  50   \n",
       "1      4                200            2                  50   \n",
       "2      4                200            2                  50   \n",
       "3     16                200            5                  50   \n",
       "4     16                200            2                  50   \n",
       "\n",
       "   redaman_(dbm/km)  frekuensi_(thz)  osnr_(db)  q_factor     nilai_ber  \\\n",
       "0               0.1            191.5      36.93     16.66  1.217760e-62   \n",
       "1               0.0            191.5      36.93     16.65  1.388090e-62   \n",
       "2               0.1            191.5      36.93     16.58  4.486180e-62   \n",
       "3               0.0            191.5      36.91     16.51  1.551160e-61   \n",
       "4               0.1            191.5      36.93     16.50  1.720510e-61   \n",
       "\n",
       "  kondisi_ber    level  \n",
       "0        Baik  Optimal  \n",
       "1        Baik  Optimal  \n",
       "2        Baik  Optimal  \n",
       "3        Baik  Optimal  \n",
       "4        Baik  Optimal  "
      ]
     },
     "execution_count": 6,
     "metadata": {},
     "output_type": "execute_result"
    }
   ],
   "source": [
    "df.head()"
   ]
  },
  {
   "cell_type": "markdown",
   "id": "fd2f278d-6062-4749-87d6-10aad28eafdd",
   "metadata": {},
   "source": [
    "Descriptive statistic to check mean, count, standard devitiation, q1, q1 for numerical value"
   ]
  },
  {
   "cell_type": "code",
   "execution_count": 7,
   "id": "8cf718ba-f5d8-44d6-b82a-30eb58407b3a",
   "metadata": {},
   "outputs": [
    {
     "data": {
      "text/html": [
       "<div>\n",
       "<style scoped>\n",
       "    .dataframe tbody tr th:only-of-type {\n",
       "        vertical-align: middle;\n",
       "    }\n",
       "\n",
       "    .dataframe tbody tr th {\n",
       "        vertical-align: top;\n",
       "    }\n",
       "\n",
       "    .dataframe thead th {\n",
       "        text-align: right;\n",
       "    }\n",
       "</style>\n",
       "<table border=\"1\" class=\"dataframe\">\n",
       "  <thead>\n",
       "    <tr style=\"text-align: right;\">\n",
       "      <th></th>\n",
       "      <th>kanal</th>\n",
       "      <th>spasi_kanal_(ghz)</th>\n",
       "      <th>power_(dbm)</th>\n",
       "      <th>panjang_kabel_(km)</th>\n",
       "      <th>redaman_(dbm/km)</th>\n",
       "      <th>frekuensi_(thz)</th>\n",
       "      <th>osnr_(db)</th>\n",
       "      <th>q_factor</th>\n",
       "      <th>nilai_ber</th>\n",
       "    </tr>\n",
       "  </thead>\n",
       "  <tbody>\n",
       "    <tr>\n",
       "      <th>count</th>\n",
       "      <td>900.000000</td>\n",
       "      <td>900.000000</td>\n",
       "      <td>900.000000</td>\n",
       "      <td>900.000000</td>\n",
       "      <td>900.000000</td>\n",
       "      <td>900.0</td>\n",
       "      <td>900.000000</td>\n",
       "      <td>900.000000</td>\n",
       "      <td>9.000000e+02</td>\n",
       "    </tr>\n",
       "    <tr>\n",
       "      <th>mean</th>\n",
       "      <td>8.960000</td>\n",
       "      <td>125.000000</td>\n",
       "      <td>2.500000</td>\n",
       "      <td>58.666667</td>\n",
       "      <td>0.180000</td>\n",
       "      <td>191.5</td>\n",
       "      <td>31.821456</td>\n",
       "      <td>9.658111</td>\n",
       "      <td>2.271000e-08</td>\n",
       "    </tr>\n",
       "    <tr>\n",
       "      <th>std</th>\n",
       "      <td>5.097772</td>\n",
       "      <td>55.633674</td>\n",
       "      <td>1.708775</td>\n",
       "      <td>7.976607</td>\n",
       "      <td>0.146141</td>\n",
       "      <td>0.0</td>\n",
       "      <td>5.885542</td>\n",
       "      <td>3.407319</td>\n",
       "      <td>1.105307e-07</td>\n",
       "    </tr>\n",
       "    <tr>\n",
       "      <th>min</th>\n",
       "      <td>4.000000</td>\n",
       "      <td>50.000000</td>\n",
       "      <td>0.000000</td>\n",
       "      <td>50.000000</td>\n",
       "      <td>0.000000</td>\n",
       "      <td>191.5</td>\n",
       "      <td>21.910000</td>\n",
       "      <td>4.570000</td>\n",
       "      <td>1.217760e-62</td>\n",
       "    </tr>\n",
       "    <tr>\n",
       "      <th>25%</th>\n",
       "      <td>4.000000</td>\n",
       "      <td>100.000000</td>\n",
       "      <td>1.000000</td>\n",
       "      <td>50.000000</td>\n",
       "      <td>0.100000</td>\n",
       "      <td>191.5</td>\n",
       "      <td>31.770000</td>\n",
       "      <td>7.330000</td>\n",
       "      <td>1.470750e-36</td>\n",
       "    </tr>\n",
       "    <tr>\n",
       "      <th>50%</th>\n",
       "      <td>8.000000</td>\n",
       "      <td>125.000000</td>\n",
       "      <td>2.500000</td>\n",
       "      <td>60.000000</td>\n",
       "      <td>0.200000</td>\n",
       "      <td>191.5</td>\n",
       "      <td>31.985000</td>\n",
       "      <td>8.880000</td>\n",
       "      <td>5.745470e-19</td>\n",
       "    </tr>\n",
       "    <tr>\n",
       "      <th>75%</th>\n",
       "      <td>16.000000</td>\n",
       "      <td>150.000000</td>\n",
       "      <td>4.000000</td>\n",
       "      <td>70.000000</td>\n",
       "      <td>0.300000</td>\n",
       "      <td>191.5</td>\n",
       "      <td>36.455000</td>\n",
       "      <td>12.577500</td>\n",
       "      <td>1.148067e-13</td>\n",
       "    </tr>\n",
       "    <tr>\n",
       "      <th>max</th>\n",
       "      <td>16.000000</td>\n",
       "      <td>200.000000</td>\n",
       "      <td>5.000000</td>\n",
       "      <td>70.000000</td>\n",
       "      <td>0.500000</td>\n",
       "      <td>191.5</td>\n",
       "      <td>36.970000</td>\n",
       "      <td>16.660000</td>\n",
       "      <td>1.856940e-06</td>\n",
       "    </tr>\n",
       "  </tbody>\n",
       "</table>\n",
       "</div>"
      ],
      "text/plain": [
       "            kanal  spasi_kanal_(ghz)  power_(dbm)  panjang_kabel_(km)  \\\n",
       "count  900.000000         900.000000   900.000000          900.000000   \n",
       "mean     8.960000         125.000000     2.500000           58.666667   \n",
       "std      5.097772          55.633674     1.708775            7.976607   \n",
       "min      4.000000          50.000000     0.000000           50.000000   \n",
       "25%      4.000000         100.000000     1.000000           50.000000   \n",
       "50%      8.000000         125.000000     2.500000           60.000000   \n",
       "75%     16.000000         150.000000     4.000000           70.000000   \n",
       "max     16.000000         200.000000     5.000000           70.000000   \n",
       "\n",
       "       redaman_(dbm/km)  frekuensi_(thz)   osnr_(db)    q_factor     nilai_ber  \n",
       "count        900.000000            900.0  900.000000  900.000000  9.000000e+02  \n",
       "mean           0.180000            191.5   31.821456    9.658111  2.271000e-08  \n",
       "std            0.146141              0.0    5.885542    3.407319  1.105307e-07  \n",
       "min            0.000000            191.5   21.910000    4.570000  1.217760e-62  \n",
       "25%            0.100000            191.5   31.770000    7.330000  1.470750e-36  \n",
       "50%            0.200000            191.5   31.985000    8.880000  5.745470e-19  \n",
       "75%            0.300000            191.5   36.455000   12.577500  1.148067e-13  \n",
       "max            0.500000            191.5   36.970000   16.660000  1.856940e-06  "
      ]
     },
     "execution_count": 7,
     "metadata": {},
     "output_type": "execute_result"
    }
   ],
   "source": [
    "df.describe()"
   ]
  },
  {
   "cell_type": "markdown",
   "id": "bda6f634-cf1b-4e7c-910b-484699db795d",
   "metadata": {},
   "source": [
    "Checking the data type of each column, we found two object values"
   ]
  },
  {
   "cell_type": "code",
   "execution_count": 8,
   "id": "012b0726-d389-405c-8963-c63f38750ac7",
   "metadata": {},
   "outputs": [
    {
     "data": {
      "text/plain": [
       "kanal                   int64\n",
       "spasi_kanal_(ghz)       int64\n",
       "power_(dbm)             int64\n",
       "panjang_kabel_(km)      int64\n",
       "redaman_(dbm/km)      float64\n",
       "frekuensi_(thz)       float64\n",
       "osnr_(db)             float64\n",
       "q_factor              float64\n",
       "nilai_ber             float64\n",
       "kondisi_ber            object\n",
       "level                  object\n",
       "dtype: object"
      ]
     },
     "execution_count": 8,
     "metadata": {},
     "output_type": "execute_result"
    }
   ],
   "source": [
    "df.dtypes"
   ]
  },
  {
   "cell_type": "markdown",
   "id": "113376db-66ce-4341-88b4-c0d76e3f443f",
   "metadata": {},
   "source": [
    "Check missing value and duplucated in the dataset, we know that there is no missing value and duplcated data"
   ]
  },
  {
   "cell_type": "code",
   "execution_count": 9,
   "id": "8d26cf56-5ce8-445c-8cad-749450f5c377",
   "metadata": {},
   "outputs": [
    {
     "data": {
      "text/plain": [
       "kanal                 0\n",
       "spasi_kanal_(ghz)     0\n",
       "power_(dbm)           0\n",
       "panjang_kabel_(km)    0\n",
       "redaman_(dbm/km)      0\n",
       "frekuensi_(thz)       0\n",
       "osnr_(db)             0\n",
       "q_factor              0\n",
       "nilai_ber             0\n",
       "kondisi_ber           0\n",
       "level                 0\n",
       "dtype: int64"
      ]
     },
     "execution_count": 9,
     "metadata": {},
     "output_type": "execute_result"
    }
   ],
   "source": [
    "df.isnull().sum()"
   ]
  },
  {
   "cell_type": "code",
   "execution_count": 10,
   "id": "47e6282b-7894-407b-bf7f-064c6f2463af",
   "metadata": {},
   "outputs": [
    {
     "data": {
      "text/plain": [
       "0"
      ]
     },
     "execution_count": 10,
     "metadata": {},
     "output_type": "execute_result"
    }
   ],
   "source": [
    "df.duplicated().sum()"
   ]
  },
  {
   "cell_type": "markdown",
   "id": "bf720f8e-0ffd-474f-b052-8cf07e0bbed8",
   "metadata": {},
   "source": [
    "check value of each category in column level"
   ]
  },
  {
   "cell_type": "code",
   "execution_count": 11,
   "id": "31fa321a-33da-4171-b3d9-df9af7607e5d",
   "metadata": {},
   "outputs": [
    {
     "data": {
      "text/plain": [
       "level\n",
       "Optimal        741\n",
       "Repairing       80\n",
       "Maintenance     79\n",
       "Name: count, dtype: int64"
      ]
     },
     "execution_count": 11,
     "metadata": {},
     "output_type": "execute_result"
    }
   ],
   "source": [
    "df[\"level\"].value_counts()"
   ]
  },
  {
   "cell_type": "code",
   "execution_count": 12,
   "id": "c843c383-dca5-4424-9f92-bdb290ae03c9",
   "metadata": {},
   "outputs": [
    {
     "data": {
      "text/html": [
       "<div>\n",
       "<style scoped>\n",
       "    .dataframe tbody tr th:only-of-type {\n",
       "        vertical-align: middle;\n",
       "    }\n",
       "\n",
       "    .dataframe tbody tr th {\n",
       "        vertical-align: top;\n",
       "    }\n",
       "\n",
       "    .dataframe thead th {\n",
       "        text-align: right;\n",
       "    }\n",
       "</style>\n",
       "<table border=\"1\" class=\"dataframe\">\n",
       "  <thead>\n",
       "    <tr style=\"text-align: right;\">\n",
       "      <th></th>\n",
       "      <th>kanal</th>\n",
       "      <th>spasi_kanal_(ghz)</th>\n",
       "      <th>power_(dbm)</th>\n",
       "      <th>panjang_kabel_(km)</th>\n",
       "      <th>redaman_(dbm/km)</th>\n",
       "      <th>frekuensi_(thz)</th>\n",
       "      <th>osnr_(db)</th>\n",
       "      <th>q_factor</th>\n",
       "      <th>nilai_ber</th>\n",
       "      <th>kondisi_ber</th>\n",
       "      <th>level</th>\n",
       "    </tr>\n",
       "  </thead>\n",
       "  <tbody>\n",
       "    <tr>\n",
       "      <th>0</th>\n",
       "      <td>8</td>\n",
       "      <td>50</td>\n",
       "      <td>0</td>\n",
       "      <td>50</td>\n",
       "      <td>0.0</td>\n",
       "      <td>191.5</td>\n",
       "      <td>22.25</td>\n",
       "      <td>7.51</td>\n",
       "      <td>2.954850e-14</td>\n",
       "      <td>Baik</td>\n",
       "      <td>Optimal</td>\n",
       "    </tr>\n",
       "    <tr>\n",
       "      <th>1</th>\n",
       "      <td>4</td>\n",
       "      <td>150</td>\n",
       "      <td>2</td>\n",
       "      <td>70</td>\n",
       "      <td>0.2</td>\n",
       "      <td>191.5</td>\n",
       "      <td>36.41</td>\n",
       "      <td>7.62</td>\n",
       "      <td>1.311500e-14</td>\n",
       "      <td>Baik</td>\n",
       "      <td>Optimal</td>\n",
       "    </tr>\n",
       "    <tr>\n",
       "      <th>2</th>\n",
       "      <td>4</td>\n",
       "      <td>50</td>\n",
       "      <td>3</td>\n",
       "      <td>50</td>\n",
       "      <td>0.3</td>\n",
       "      <td>191.5</td>\n",
       "      <td>22.16</td>\n",
       "      <td>7.32</td>\n",
       "      <td>1.273600e-13</td>\n",
       "      <td>Baik</td>\n",
       "      <td>Optimal</td>\n",
       "    </tr>\n",
       "    <tr>\n",
       "      <th>3</th>\n",
       "      <td>16</td>\n",
       "      <td>50</td>\n",
       "      <td>0</td>\n",
       "      <td>50</td>\n",
       "      <td>0.1</td>\n",
       "      <td>191.5</td>\n",
       "      <td>22.10</td>\n",
       "      <td>7.43</td>\n",
       "      <td>5.470690e-14</td>\n",
       "      <td>Baik</td>\n",
       "      <td>Optimal</td>\n",
       "    </tr>\n",
       "    <tr>\n",
       "      <th>4</th>\n",
       "      <td>16</td>\n",
       "      <td>100</td>\n",
       "      <td>3</td>\n",
       "      <td>60</td>\n",
       "      <td>0.1</td>\n",
       "      <td>191.5</td>\n",
       "      <td>31.85</td>\n",
       "      <td>9.83</td>\n",
       "      <td>4.377560e-23</td>\n",
       "      <td>Baik</td>\n",
       "      <td>Optimal</td>\n",
       "    </tr>\n",
       "  </tbody>\n",
       "</table>\n",
       "</div>"
      ],
      "text/plain": [
       "   kanal  spasi_kanal_(ghz)  power_(dbm)  panjang_kabel_(km)  \\\n",
       "0      8                 50            0                  50   \n",
       "1      4                150            2                  70   \n",
       "2      4                 50            3                  50   \n",
       "3     16                 50            0                  50   \n",
       "4     16                100            3                  60   \n",
       "\n",
       "   redaman_(dbm/km)  frekuensi_(thz)  osnr_(db)  q_factor     nilai_ber  \\\n",
       "0               0.0            191.5      22.25      7.51  2.954850e-14   \n",
       "1               0.2            191.5      36.41      7.62  1.311500e-14   \n",
       "2               0.3            191.5      22.16      7.32  1.273600e-13   \n",
       "3               0.1            191.5      22.10      7.43  5.470690e-14   \n",
       "4               0.1            191.5      31.85      9.83  4.377560e-23   \n",
       "\n",
       "  kondisi_ber    level  \n",
       "0        Baik  Optimal  \n",
       "1        Baik  Optimal  \n",
       "2        Baik  Optimal  \n",
       "3        Baik  Optimal  \n",
       "4        Baik  Optimal  "
      ]
     },
     "execution_count": 12,
     "metadata": {},
     "output_type": "execute_result"
    }
   ],
   "source": [
    "df = df.sample(frac = 1).reset_index(drop=True)\n",
    "df.head()"
   ]
  },
  {
   "cell_type": "markdown",
   "id": "381c1692-a99b-4b01-b932-7c750a587f59",
   "metadata": {},
   "source": [
    "Check unique values in each columns"
   ]
  },
  {
   "cell_type": "code",
   "execution_count": 13,
   "id": "caeb5269-2f23-48d6-bd95-743620e2acdc",
   "metadata": {},
   "outputs": [
    {
     "name": "stdout",
     "output_type": "stream",
     "text": [
      "Nilai Unique Value Setiap Kolom\n",
      "\n",
      "kanal 3\n",
      "spasi_kanal_(ghz) 4\n",
      "power_(dbm) 6\n",
      "panjang_kabel_(km) 3\n",
      "redaman_(dbm/km) 6\n",
      "frekuensi_(thz) 1\n",
      "osnr_(db) 88\n",
      "q_factor 482\n",
      "nilai_ber 894\n",
      "kondisi_ber 4\n",
      "level 3\n"
     ]
    }
   ],
   "source": [
    "print(\"Nilai Unique Value Setiap Kolom\\n\")\n",
    "for i in df.columns:\n",
    "  print(f\"{i} {df[i].nunique()}\")"
   ]
  },
  {
   "cell_type": "markdown",
   "id": "92d401bf-5e0f-47f2-ac5b-b531b17b9485",
   "metadata": {},
   "source": [
    "Outlier Analysis"
   ]
  },
  {
   "cell_type": "code",
   "execution_count": 14,
   "id": "76d14e27-2639-43d4-9136-5d8fb1dc9271",
   "metadata": {},
   "outputs": [],
   "source": [
    "def check_outlier(col):\n",
    "  q1 = df[col].quantile(0.25)\n",
    "  q3 = df[col].quantile(0.75)\n",
    "\n",
    "  iqr = q3 - q1\n",
    "  upper = 1.5 * iqr + q3\n",
    "  lower = 1.5 * iqr - q1\n",
    "\n",
    "  return df[(df[col] < lower) | (df[col] > upper)]"
   ]
  },
  {
   "cell_type": "code",
   "execution_count": 15,
   "id": "a1d8ded6-2f62-4c8f-bff2-a641a76b3275",
   "metadata": {},
   "outputs": [
    {
     "data": {
      "text/html": [
       "<div>\n",
       "<style scoped>\n",
       "    .dataframe tbody tr th:only-of-type {\n",
       "        vertical-align: middle;\n",
       "    }\n",
       "\n",
       "    .dataframe tbody tr th {\n",
       "        vertical-align: top;\n",
       "    }\n",
       "\n",
       "    .dataframe thead th {\n",
       "        text-align: right;\n",
       "    }\n",
       "</style>\n",
       "<table border=\"1\" class=\"dataframe\">\n",
       "  <thead>\n",
       "    <tr style=\"text-align: right;\">\n",
       "      <th></th>\n",
       "      <th>kanal</th>\n",
       "      <th>spasi_kanal_(ghz)</th>\n",
       "      <th>power_(dbm)</th>\n",
       "      <th>panjang_kabel_(km)</th>\n",
       "      <th>redaman_(dbm/km)</th>\n",
       "      <th>frekuensi_(thz)</th>\n",
       "      <th>osnr_(db)</th>\n",
       "      <th>q_factor</th>\n",
       "      <th>nilai_ber</th>\n",
       "      <th>kondisi_ber</th>\n",
       "      <th>level</th>\n",
       "    </tr>\n",
       "  </thead>\n",
       "  <tbody>\n",
       "  </tbody>\n",
       "</table>\n",
       "</div>"
      ],
      "text/plain": [
       "Empty DataFrame\n",
       "Columns: [kanal, spasi_kanal_(ghz), power_(dbm), panjang_kabel_(km), redaman_(dbm/km), frekuensi_(thz), osnr_(db), q_factor, nilai_ber, kondisi_ber, level]\n",
       "Index: []"
      ]
     },
     "execution_count": 15,
     "metadata": {},
     "output_type": "execute_result"
    }
   ],
   "source": [
    "check_outlier(\"osnr_(db)\")"
   ]
  },
  {
   "cell_type": "code",
   "execution_count": 16,
   "id": "ca1e1fc4-e272-416e-9790-2804837dd047",
   "metadata": {},
   "outputs": [
    {
     "data": {
      "text/html": [
       "<div>\n",
       "<style scoped>\n",
       "    .dataframe tbody tr th:only-of-type {\n",
       "        vertical-align: middle;\n",
       "    }\n",
       "\n",
       "    .dataframe tbody tr th {\n",
       "        vertical-align: top;\n",
       "    }\n",
       "\n",
       "    .dataframe thead th {\n",
       "        text-align: right;\n",
       "    }\n",
       "</style>\n",
       "<table border=\"1\" class=\"dataframe\">\n",
       "  <thead>\n",
       "    <tr style=\"text-align: right;\">\n",
       "      <th></th>\n",
       "      <th>kanal</th>\n",
       "      <th>spasi_kanal_(ghz)</th>\n",
       "      <th>power_(dbm)</th>\n",
       "      <th>panjang_kabel_(km)</th>\n",
       "      <th>redaman_(dbm/km)</th>\n",
       "      <th>frekuensi_(thz)</th>\n",
       "      <th>osnr_(db)</th>\n",
       "      <th>q_factor</th>\n",
       "      <th>nilai_ber</th>\n",
       "      <th>kondisi_ber</th>\n",
       "      <th>level</th>\n",
       "    </tr>\n",
       "  </thead>\n",
       "  <tbody>\n",
       "  </tbody>\n",
       "</table>\n",
       "</div>"
      ],
      "text/plain": [
       "Empty DataFrame\n",
       "Columns: [kanal, spasi_kanal_(ghz), power_(dbm), panjang_kabel_(km), redaman_(dbm/km), frekuensi_(thz), osnr_(db), q_factor, nilai_ber, kondisi_ber, level]\n",
       "Index: []"
      ]
     },
     "execution_count": 16,
     "metadata": {},
     "output_type": "execute_result"
    }
   ],
   "source": [
    "check_outlier(\"q_factor\")"
   ]
  },
  {
   "cell_type": "code",
   "execution_count": 17,
   "id": "0ca4cd99-006c-45c3-9a02-7a7006688734",
   "metadata": {},
   "outputs": [
    {
     "data": {
      "text/html": [
       "<div>\n",
       "<style scoped>\n",
       "    .dataframe tbody tr th:only-of-type {\n",
       "        vertical-align: middle;\n",
       "    }\n",
       "\n",
       "    .dataframe tbody tr th {\n",
       "        vertical-align: top;\n",
       "    }\n",
       "\n",
       "    .dataframe thead th {\n",
       "        text-align: right;\n",
       "    }\n",
       "</style>\n",
       "<table border=\"1\" class=\"dataframe\">\n",
       "  <thead>\n",
       "    <tr style=\"text-align: right;\">\n",
       "      <th></th>\n",
       "      <th>kanal</th>\n",
       "      <th>spasi_kanal_(ghz)</th>\n",
       "      <th>power_(dbm)</th>\n",
       "      <th>panjang_kabel_(km)</th>\n",
       "      <th>redaman_(dbm/km)</th>\n",
       "      <th>frekuensi_(thz)</th>\n",
       "      <th>osnr_(db)</th>\n",
       "      <th>q_factor</th>\n",
       "      <th>nilai_ber</th>\n",
       "      <th>kondisi_ber</th>\n",
       "      <th>level</th>\n",
       "    </tr>\n",
       "  </thead>\n",
       "  <tbody>\n",
       "    <tr>\n",
       "      <th>0</th>\n",
       "      <td>8</td>\n",
       "      <td>50</td>\n",
       "      <td>0</td>\n",
       "      <td>50</td>\n",
       "      <td>0.0</td>\n",
       "      <td>191.5</td>\n",
       "      <td>22.25</td>\n",
       "      <td>7.51</td>\n",
       "      <td>2.954850e-14</td>\n",
       "      <td>Baik</td>\n",
       "      <td>Optimal</td>\n",
       "    </tr>\n",
       "    <tr>\n",
       "      <th>1</th>\n",
       "      <td>4</td>\n",
       "      <td>150</td>\n",
       "      <td>2</td>\n",
       "      <td>70</td>\n",
       "      <td>0.2</td>\n",
       "      <td>191.5</td>\n",
       "      <td>36.41</td>\n",
       "      <td>7.62</td>\n",
       "      <td>1.311500e-14</td>\n",
       "      <td>Baik</td>\n",
       "      <td>Optimal</td>\n",
       "    </tr>\n",
       "    <tr>\n",
       "      <th>2</th>\n",
       "      <td>4</td>\n",
       "      <td>50</td>\n",
       "      <td>3</td>\n",
       "      <td>50</td>\n",
       "      <td>0.3</td>\n",
       "      <td>191.5</td>\n",
       "      <td>22.16</td>\n",
       "      <td>7.32</td>\n",
       "      <td>1.273600e-13</td>\n",
       "      <td>Baik</td>\n",
       "      <td>Optimal</td>\n",
       "    </tr>\n",
       "    <tr>\n",
       "      <th>3</th>\n",
       "      <td>16</td>\n",
       "      <td>50</td>\n",
       "      <td>0</td>\n",
       "      <td>50</td>\n",
       "      <td>0.1</td>\n",
       "      <td>191.5</td>\n",
       "      <td>22.10</td>\n",
       "      <td>7.43</td>\n",
       "      <td>5.470690e-14</td>\n",
       "      <td>Baik</td>\n",
       "      <td>Optimal</td>\n",
       "    </tr>\n",
       "    <tr>\n",
       "      <th>4</th>\n",
       "      <td>16</td>\n",
       "      <td>100</td>\n",
       "      <td>3</td>\n",
       "      <td>60</td>\n",
       "      <td>0.1</td>\n",
       "      <td>191.5</td>\n",
       "      <td>31.85</td>\n",
       "      <td>9.83</td>\n",
       "      <td>4.377560e-23</td>\n",
       "      <td>Baik</td>\n",
       "      <td>Optimal</td>\n",
       "    </tr>\n",
       "    <tr>\n",
       "      <th>...</th>\n",
       "      <td>...</td>\n",
       "      <td>...</td>\n",
       "      <td>...</td>\n",
       "      <td>...</td>\n",
       "      <td>...</td>\n",
       "      <td>...</td>\n",
       "      <td>...</td>\n",
       "      <td>...</td>\n",
       "      <td>...</td>\n",
       "      <td>...</td>\n",
       "      <td>...</td>\n",
       "    </tr>\n",
       "    <tr>\n",
       "      <th>895</th>\n",
       "      <td>4</td>\n",
       "      <td>150</td>\n",
       "      <td>0</td>\n",
       "      <td>60</td>\n",
       "      <td>0.0</td>\n",
       "      <td>191.5</td>\n",
       "      <td>36.26</td>\n",
       "      <td>10.37</td>\n",
       "      <td>1.620970e-25</td>\n",
       "      <td>Baik</td>\n",
       "      <td>Optimal</td>\n",
       "    </tr>\n",
       "    <tr>\n",
       "      <th>896</th>\n",
       "      <td>16</td>\n",
       "      <td>100</td>\n",
       "      <td>4</td>\n",
       "      <td>50</td>\n",
       "      <td>0.2</td>\n",
       "      <td>191.5</td>\n",
       "      <td>31.94</td>\n",
       "      <td>13.03</td>\n",
       "      <td>4.329310e-39</td>\n",
       "      <td>Baik</td>\n",
       "      <td>Optimal</td>\n",
       "    </tr>\n",
       "    <tr>\n",
       "      <th>897</th>\n",
       "      <td>16</td>\n",
       "      <td>50</td>\n",
       "      <td>2</td>\n",
       "      <td>50</td>\n",
       "      <td>0.0</td>\n",
       "      <td>191.5</td>\n",
       "      <td>22.25</td>\n",
       "      <td>7.44</td>\n",
       "      <td>5.182560e-14</td>\n",
       "      <td>Baik</td>\n",
       "      <td>Optimal</td>\n",
       "    </tr>\n",
       "    <tr>\n",
       "      <th>898</th>\n",
       "      <td>16</td>\n",
       "      <td>150</td>\n",
       "      <td>3</td>\n",
       "      <td>70</td>\n",
       "      <td>0.2</td>\n",
       "      <td>191.5</td>\n",
       "      <td>36.37</td>\n",
       "      <td>7.49</td>\n",
       "      <td>3.504740e-14</td>\n",
       "      <td>Baik</td>\n",
       "      <td>Optimal</td>\n",
       "    </tr>\n",
       "    <tr>\n",
       "      <th>899</th>\n",
       "      <td>16</td>\n",
       "      <td>50</td>\n",
       "      <td>1</td>\n",
       "      <td>60</td>\n",
       "      <td>0.4</td>\n",
       "      <td>191.5</td>\n",
       "      <td>22.15</td>\n",
       "      <td>4.88</td>\n",
       "      <td>5.399830e-07</td>\n",
       "      <td>Buruk</td>\n",
       "      <td>Repairing</td>\n",
       "    </tr>\n",
       "  </tbody>\n",
       "</table>\n",
       "<p>883 rows × 11 columns</p>\n",
       "</div>"
      ],
      "text/plain": [
       "     kanal  spasi_kanal_(ghz)  power_(dbm)  panjang_kabel_(km)  \\\n",
       "0        8                 50            0                  50   \n",
       "1        4                150            2                  70   \n",
       "2        4                 50            3                  50   \n",
       "3       16                 50            0                  50   \n",
       "4       16                100            3                  60   \n",
       "..     ...                ...          ...                 ...   \n",
       "895      4                150            0                  60   \n",
       "896     16                100            4                  50   \n",
       "897     16                 50            2                  50   \n",
       "898     16                150            3                  70   \n",
       "899     16                 50            1                  60   \n",
       "\n",
       "     redaman_(dbm/km)  frekuensi_(thz)  osnr_(db)  q_factor     nilai_ber  \\\n",
       "0                 0.0            191.5      22.25      7.51  2.954850e-14   \n",
       "1                 0.2            191.5      36.41      7.62  1.311500e-14   \n",
       "2                 0.3            191.5      22.16      7.32  1.273600e-13   \n",
       "3                 0.1            191.5      22.10      7.43  5.470690e-14   \n",
       "4                 0.1            191.5      31.85      9.83  4.377560e-23   \n",
       "..                ...              ...        ...       ...           ...   \n",
       "895               0.0            191.5      36.26     10.37  1.620970e-25   \n",
       "896               0.2            191.5      31.94     13.03  4.329310e-39   \n",
       "897               0.0            191.5      22.25      7.44  5.182560e-14   \n",
       "898               0.2            191.5      36.37      7.49  3.504740e-14   \n",
       "899               0.4            191.5      22.15      4.88  5.399830e-07   \n",
       "\n",
       "    kondisi_ber      level  \n",
       "0          Baik    Optimal  \n",
       "1          Baik    Optimal  \n",
       "2          Baik    Optimal  \n",
       "3          Baik    Optimal  \n",
       "4          Baik    Optimal  \n",
       "..          ...        ...  \n",
       "895        Baik    Optimal  \n",
       "896        Baik    Optimal  \n",
       "897        Baik    Optimal  \n",
       "898        Baik    Optimal  \n",
       "899       Buruk  Repairing  \n",
       "\n",
       "[883 rows x 11 columns]"
      ]
     },
     "execution_count": 17,
     "metadata": {},
     "output_type": "execute_result"
    }
   ],
   "source": [
    "check_outlier(\"nilai_ber\")"
   ]
  },
  {
   "cell_type": "code",
   "execution_count": 18,
   "id": "688ad4dd-c17b-4c3b-8826-6083e77b9238",
   "metadata": {},
   "outputs": [
    {
     "data": {
      "image/png": "[encoded data removed]",
      "text/plain": [
       "<Figure size 600x500 with 3 Axes>"
      ]
     },
     "metadata": {},
     "output_type": "display_data"
    }
   ],
   "source": [
    "fig, ax = plt.subplots(1, 3, figsize=(6, 5))\n",
    "\n",
    "ax[0].boxplot(df[\"osnr_(db)\"])\n",
    "ax[1].boxplot(df[\"q_factor\"])\n",
    "ax[2].boxplot(df[\"nilai_ber\"])\n",
    "\n",
    "ax[0].set_title(\"OSNR\")\n",
    "ax[1].set_title(\"Q Factor\")\n",
    "ax[2].set_title(\"BER\")\n",
    "\n",
    "plt.subplots_adjust(wspace=0.5)\n",
    "\n",
    "plt.show()"
   ]
  },
  {
   "cell_type": "code",
   "execution_count": 19,
   "id": "fe25c768-5977-4e21-8d42-394ee1250f5d",
   "metadata": {},
   "outputs": [
    {
     "name": "stderr",
     "output_type": "stream",
     "text": [
      "C:\\Users\\hanan\\AppData\\Local\\Temp\\ipykernel_6500\\486263855.py:1: UserWarning: \n",
      "\n",
      "`distplot` is a deprecated function and will be removed in seaborn v0.14.0.\n",
      "\n",
      "Please adapt your code to use either `displot` (a figure-level function with\n",
      "similar flexibility) or `histplot` (an axes-level function for histograms).\n",
      "\n",
      "For a guide to updating your code to use the new functions, please see\n",
      "https://gist.github.com/mwaskom/de44147ed2974457ad6372750bbe5751\n",
      "\n",
      "  sns.distplot(x=df[\"nilai_ber\"], kde=True)\n"
     ]
    },
    {
     "data": {
      "image/png": "[encoded data removed]",
      "text/plain": [
       "<Figure size 640x480 with 1 Axes>"
      ]
     },
     "metadata": {},
     "output_type": "display_data"
    }
   ],
   "source": [
    "sns.distplot(x=df[\"nilai_ber\"], kde=True)\n",
    "\n",
    "plt.xlabel(\"Nilai BER\")\n",
    "\n",
    "plt.title(\"Distribusi Nilai BER\")\n",
    "\n",
    "plt.show()"
   ]
  },
  {
   "cell_type": "code",
   "execution_count": 20,
   "id": "d597e835-5a4f-49a1-b504-ee03cced1087",
   "metadata": {},
   "outputs": [
    {
     "data": {
      "text/plain": [
       "level\n",
       "Optimal        741\n",
       "Repairing       80\n",
       "Maintenance     79\n",
       "Name: count, dtype: int64"
      ]
     },
     "execution_count": 20,
     "metadata": {},
     "output_type": "execute_result"
    }
   ],
   "source": [
    "df['level'].value_counts()"
   ]
  },
  {
   "cell_type": "markdown",
   "id": "e6d6ff8d-842d-430c-bc53-21ad344796d3",
   "metadata": {},
   "source": [
    "Categorical Encoding"
   ]
  },
  {
   "cell_type": "code",
   "execution_count": 21,
   "id": "9f55ac09-28fd-4929-8c06-32b73bd5f7f4",
   "metadata": {},
   "outputs": [],
   "source": [
    "df[\"level\"] = df[\"level\"].apply(lambda x: 0 if x == \"Optimal\" else 1 if x == \"Maintenance\" else 2)"
   ]
  },
  {
   "cell_type": "code",
   "execution_count": 22,
   "id": "cfc54706-c4a0-40dd-90f0-34b61ade6b71",
   "metadata": {},
   "outputs": [
    {
     "data": {
      "text/plain": [
       "level\n",
       "0    741\n",
       "2     80\n",
       "1     79\n",
       "Name: count, dtype: int64"
      ]
     },
     "execution_count": 22,
     "metadata": {},
     "output_type": "execute_result"
    }
   ],
   "source": [
    "df['level'].value_counts()"
   ]
  },
  {
   "cell_type": "code",
   "execution_count": 23,
   "id": "f152faca-f629-4b2a-845f-da1aa32f6835",
   "metadata": {},
   "outputs": [
    {
     "data": {
      "image/png": "[encoded data removed]",
      "text/plain": [
       "<Figure size 1200x800 with 7 Axes>"
      ]
     },
     "metadata": {},
     "output_type": "display_data"
    }
   ],
   "source": [
    "fig, ax = plt.subplots(ncols=3, nrows=3, figsize=(12, 8), sharex=True)\n",
    "\n",
    "sns.scatterplot(y='kanal', x=\"nilai_ber\", data=df, ax=ax[0, 0])\n",
    "sns.scatterplot(y='spasi_kanal_(ghz)', x=\"nilai_ber\", data=df, ax=ax[0, 1])\n",
    "sns.scatterplot(y='power_(dbm)', x=\"nilai_ber\", data=df, ax=ax[0, 2])\n",
    "sns.scatterplot(y='panjang_kabel_(km)', x=\"nilai_ber\", data=df, ax=ax[1, 0])\n",
    "sns.scatterplot(y='redaman_(dbm/km)', x=\"nilai_ber\", data=df, ax=ax[1, 1])\n",
    "sns.scatterplot(y='osnr_(db)', x=\"nilai_ber\", data=df, ax=ax[1, 2])\n",
    "sns.scatterplot(y='q_factor', x=\"nilai_ber\", data=df, ax=ax[2, 0])\n",
    "\n",
    "fig.delaxes(ax=ax[2, 1])\n",
    "fig.delaxes(ax=ax[2, 2])\n",
    "\n",
    "plt.tight_layout()\n",
    "\n",
    "plt.show()"
   ]
  },
  {
   "cell_type": "code",
   "execution_count": 24,
   "id": "14086a5e-04f0-4464-8b85-a5d2713e06fd",
   "metadata": {},
   "outputs": [],
   "source": [
    "count_plot = [\"kanal\", \"spasi_kanal_(ghz)\",\t\"power_(dbm)\",\t\"panjang_kabel_(km)\",\t\"redaman_(dbm/km)\",\t\"kondisi_ber\",\t\"level\"]"
   ]
  },
  {
   "cell_type": "code",
   "execution_count": 25,
   "id": "2edaeeb3-fb02-445e-960a-d69d8f14b159",
   "metadata": {},
   "outputs": [
    {
     "data": {
      "image/png": "[encoded data removed]",
      "text/plain": [
       "<Figure size 600x400 with 1 Axes>"
      ]
     },
     "metadata": {},
     "output_type": "display_data"
    },
    {
     "data": {
      "image/png": "[encoded data removed]",
      "text/plain": [
       "<Figure size 600x400 with 1 Axes>"
      ]
     },
     "metadata": {},
     "output_type": "display_data"
    },
    {
     "data": {
      "image/png": "[encoded data removed]",
      "text/plain": [
       "<Figure size 600x400 with 1 Axes>"
      ]
     },
     "metadata": {},
     "output_type": "display_data"
    },
    {
     "data": {
      "image/png": "[encoded data removed]",
      "text/plain": [
       "<Figure size 600x400 with 1 Axes>"
      ]
     },
     "metadata": {},
     "output_type": "display_data"
    },
    {
     "data": {
      "image/png": "[encoded data removed]",
      "text/plain": [
       "<Figure size 600x400 with 1 Axes>"
      ]
     },
     "metadata": {},
     "output_type": "display_data"
    },
    {
     "data": {
      "image/png": "[encoded data removed]",
      "text/plain": [
       "<Figure size 600x400 with 1 Axes>"
      ]
     },
     "metadata": {},
     "output_type": "display_data"
    },
    {
     "data": {
      "image/png": "[encoded data removed]",
      "text/plain": [
       "<Figure size 600x400 with 1 Axes>"
      ]
     },
     "metadata": {},
     "output_type": "display_data"
    }
   ],
   "source": [
    "for i in count_plot:\n",
    "  plt.figure(figsize=(6,4))\n",
    "  c = sns.countplot(x = df[i])\n",
    "  for i in c.containers:\n",
    "    c.bar_label(i)\n",
    "\n",
    "plt.show()"
   ]
  },
  {
   "cell_type": "markdown",
   "id": "a44343cd-3999-42d3-90aa-52b27b0a3380",
   "metadata": {},
   "source": [
    "# Feature Selection"
   ]
  },
  {
   "cell_type": "code",
   "execution_count": 29,
   "id": "aa27f20e-6e87-4430-ae89-8f0f0402fb1f",
   "metadata": {},
   "outputs": [
    {
     "ename": "KeyError",
     "evalue": "\"['frekuensi_(thz)', 'nilai_ber', 'kondisi_ber'] not found in axis\"",
     "output_type": "error",
     "traceback": [
      "\u001b[1;31m---------------------------------------------------------------------------\u001b[0m",
      "\u001b[1;31mKeyError\u001b[0m                                  Traceback (most recent call last)",
      "Cell \u001b[1;32mIn[29], line 1\u001b[0m\n\u001b[1;32m----> 1\u001b[0m df\u001b[38;5;241m.\u001b[39mdrop(columns\u001b[38;5;241m=\u001b[39m[\u001b[38;5;124m\"\u001b[39m\u001b[38;5;124mfrekuensi_(thz)\u001b[39m\u001b[38;5;124m\"\u001b[39m, \u001b[38;5;124m\"\u001b[39m\u001b[38;5;124mnilai_ber\u001b[39m\u001b[38;5;124m\"\u001b[39m, \u001b[38;5;124m\"\u001b[39m\u001b[38;5;124mkondisi_ber\u001b[39m\u001b[38;5;124m\"\u001b[39m], axis\u001b[38;5;241m=\u001b[39m\u001b[38;5;241m1\u001b[39m, inplace\u001b[38;5;241m=\u001b[39m\u001b[38;5;28;01mTrue\u001b[39;00m)\n",
      "File \u001b[1;32m~\\anaconda3\\envs\\notebook\\Lib\\site-packages\\pandas\\core\\frame.py:5344\u001b[0m, in \u001b[0;36mDataFrame.drop\u001b[1;34m(self, labels, axis, index, columns, level, inplace, errors)\u001b[0m\n\u001b[0;32m   5196\u001b[0m \u001b[38;5;28;01mdef\u001b[39;00m \u001b[38;5;21mdrop\u001b[39m(\n\u001b[0;32m   5197\u001b[0m     \u001b[38;5;28mself\u001b[39m,\n\u001b[0;32m   5198\u001b[0m     labels: IndexLabel \u001b[38;5;241m|\u001b[39m \u001b[38;5;28;01mNone\u001b[39;00m \u001b[38;5;241m=\u001b[39m \u001b[38;5;28;01mNone\u001b[39;00m,\n\u001b[1;32m   (...)\u001b[0m\n\u001b[0;32m   5205\u001b[0m     errors: IgnoreRaise \u001b[38;5;241m=\u001b[39m \u001b[38;5;124m\"\u001b[39m\u001b[38;5;124mraise\u001b[39m\u001b[38;5;124m\"\u001b[39m,\n\u001b[0;32m   5206\u001b[0m ) \u001b[38;5;241m-\u001b[39m\u001b[38;5;241m>\u001b[39m DataFrame \u001b[38;5;241m|\u001b[39m \u001b[38;5;28;01mNone\u001b[39;00m:\n\u001b[0;32m   5207\u001b[0m \u001b[38;5;250m    \u001b[39m\u001b[38;5;124;03m\"\"\"\u001b[39;00m\n\u001b[0;32m   5208\u001b[0m \u001b[38;5;124;03m    Drop specified labels from rows or columns.\u001b[39;00m\n\u001b[0;32m   5209\u001b[0m \n\u001b[1;32m   (...)\u001b[0m\n\u001b[0;32m   5342\u001b[0m \u001b[38;5;124;03m            weight  1.0     0.8\u001b[39;00m\n\u001b[0;32m   5343\u001b[0m \u001b[38;5;124;03m    \"\"\"\u001b[39;00m\n\u001b[1;32m-> 5344\u001b[0m     \u001b[38;5;28;01mreturn\u001b[39;00m \u001b[38;5;28msuper\u001b[39m()\u001b[38;5;241m.\u001b[39mdrop(\n\u001b[0;32m   5345\u001b[0m         labels\u001b[38;5;241m=\u001b[39mlabels,\n\u001b[0;32m   5346\u001b[0m         axis\u001b[38;5;241m=\u001b[39maxis,\n\u001b[0;32m   5347\u001b[0m         index\u001b[38;5;241m=\u001b[39mindex,\n\u001b[0;32m   5348\u001b[0m         columns\u001b[38;5;241m=\u001b[39mcolumns,\n\u001b[0;32m   5349\u001b[0m         level\u001b[38;5;241m=\u001b[39mlevel,\n\u001b[0;32m   5350\u001b[0m         inplace\u001b[38;5;241m=\u001b[39minplace,\n\u001b[0;32m   5351\u001b[0m         errors\u001b[38;5;241m=\u001b[39merrors,\n\u001b[0;32m   5352\u001b[0m     )\n",
      "File \u001b[1;32m~\\anaconda3\\envs\\notebook\\Lib\\site-packages\\pandas\\core\\generic.py:4711\u001b[0m, in \u001b[0;36mNDFrame.drop\u001b[1;34m(self, labels, axis, index, columns, level, inplace, errors)\u001b[0m\n\u001b[0;32m   4709\u001b[0m \u001b[38;5;28;01mfor\u001b[39;00m axis, labels \u001b[38;5;129;01min\u001b[39;00m axes\u001b[38;5;241m.\u001b[39mitems():\n\u001b[0;32m   4710\u001b[0m     \u001b[38;5;28;01mif\u001b[39;00m labels \u001b[38;5;129;01mis\u001b[39;00m \u001b[38;5;129;01mnot\u001b[39;00m \u001b[38;5;28;01mNone\u001b[39;00m:\n\u001b[1;32m-> 4711\u001b[0m         obj \u001b[38;5;241m=\u001b[39m obj\u001b[38;5;241m.\u001b[39m_drop_axis(labels, axis, level\u001b[38;5;241m=\u001b[39mlevel, errors\u001b[38;5;241m=\u001b[39merrors)\n\u001b[0;32m   4713\u001b[0m \u001b[38;5;28;01mif\u001b[39;00m inplace:\n\u001b[0;32m   4714\u001b[0m     \u001b[38;5;28mself\u001b[39m\u001b[38;5;241m.\u001b[39m_update_inplace(obj)\n",
      "File \u001b[1;32m~\\anaconda3\\envs\\notebook\\Lib\\site-packages\\pandas\\core\\generic.py:4753\u001b[0m, in \u001b[0;36mNDFrame._drop_axis\u001b[1;34m(self, labels, axis, level, errors, only_slice)\u001b[0m\n\u001b[0;32m   4751\u001b[0m         new_axis \u001b[38;5;241m=\u001b[39m axis\u001b[38;5;241m.\u001b[39mdrop(labels, level\u001b[38;5;241m=\u001b[39mlevel, errors\u001b[38;5;241m=\u001b[39merrors)\n\u001b[0;32m   4752\u001b[0m     \u001b[38;5;28;01melse\u001b[39;00m:\n\u001b[1;32m-> 4753\u001b[0m         new_axis \u001b[38;5;241m=\u001b[39m axis\u001b[38;5;241m.\u001b[39mdrop(labels, errors\u001b[38;5;241m=\u001b[39merrors)\n\u001b[0;32m   4754\u001b[0m     indexer \u001b[38;5;241m=\u001b[39m axis\u001b[38;5;241m.\u001b[39mget_indexer(new_axis)\n\u001b[0;32m   4756\u001b[0m \u001b[38;5;66;03m# Case for non-unique axis\u001b[39;00m\n\u001b[0;32m   4757\u001b[0m \u001b[38;5;28;01melse\u001b[39;00m:\n",
      "File \u001b[1;32m~\\anaconda3\\envs\\notebook\\Lib\\site-packages\\pandas\\core\\indexes\\base.py:7000\u001b[0m, in \u001b[0;36mIndex.drop\u001b[1;34m(self, labels, errors)\u001b[0m\n\u001b[0;32m   6998\u001b[0m \u001b[38;5;28;01mif\u001b[39;00m mask\u001b[38;5;241m.\u001b[39many():\n\u001b[0;32m   6999\u001b[0m     \u001b[38;5;28;01mif\u001b[39;00m errors \u001b[38;5;241m!=\u001b[39m \u001b[38;5;124m\"\u001b[39m\u001b[38;5;124mignore\u001b[39m\u001b[38;5;124m\"\u001b[39m:\n\u001b[1;32m-> 7000\u001b[0m         \u001b[38;5;28;01mraise\u001b[39;00m \u001b[38;5;167;01mKeyError\u001b[39;00m(\u001b[38;5;124mf\u001b[39m\u001b[38;5;124m\"\u001b[39m\u001b[38;5;132;01m{\u001b[39;00mlabels[mask]\u001b[38;5;241m.\u001b[39mtolist()\u001b[38;5;132;01m}\u001b[39;00m\u001b[38;5;124m not found in axis\u001b[39m\u001b[38;5;124m\"\u001b[39m)\n\u001b[0;32m   7001\u001b[0m     indexer \u001b[38;5;241m=\u001b[39m indexer[\u001b[38;5;241m~\u001b[39mmask]\n\u001b[0;32m   7002\u001b[0m \u001b[38;5;28;01mreturn\u001b[39;00m \u001b[38;5;28mself\u001b[39m\u001b[38;5;241m.\u001b[39mdelete(indexer)\n",
      "\u001b[1;31mKeyError\u001b[0m: \"['frekuensi_(thz)', 'nilai_ber', 'kondisi_ber'] not found in axis\""
     ]
    }
   ],
   "source": [
    "df.drop(columns=[\"frekuensi_(thz)\", \"nilai_ber\", \"kondisi_ber\"], axis=1, inplace=True)"
   ]
  },
  {
   "cell_type": "code",
   "execution_count": 30,
   "id": "1515f762-cc6c-4f43-afa2-64df4dd97cfb",
   "metadata": {},
   "outputs": [
    {
     "data": {
      "text/html": [
       "<div>\n",
       "<style scoped>\n",
       "    .dataframe tbody tr th:only-of-type {\n",
       "        vertical-align: middle;\n",
       "    }\n",
       "\n",
       "    .dataframe tbody tr th {\n",
       "        vertical-align: top;\n",
       "    }\n",
       "\n",
       "    .dataframe thead th {\n",
       "        text-align: right;\n",
       "    }\n",
       "</style>\n",
       "<table border=\"1\" class=\"dataframe\">\n",
       "  <thead>\n",
       "    <tr style=\"text-align: right;\">\n",
       "      <th></th>\n",
       "      <th>kanal</th>\n",
       "      <th>spasi_kanal_(ghz)</th>\n",
       "      <th>power_(dbm)</th>\n",
       "      <th>panjang_kabel_(km)</th>\n",
       "      <th>redaman_(dbm/km)</th>\n",
       "      <th>osnr_(db)</th>\n",
       "      <th>q_factor</th>\n",
       "      <th>level</th>\n",
       "    </tr>\n",
       "  </thead>\n",
       "  <tbody>\n",
       "    <tr>\n",
       "      <th>kanal</th>\n",
       "      <td>1.000000e+00</td>\n",
       "      <td>1.034476e-16</td>\n",
       "      <td>-3.198339e-17</td>\n",
       "      <td>-2.100888e-02</td>\n",
       "      <td>-1.032031e-01</td>\n",
       "      <td>0.002581</td>\n",
       "      <td>0.050127</td>\n",
       "      <td>-0.029088</td>\n",
       "    </tr>\n",
       "    <tr>\n",
       "      <th>spasi_kanal_(ghz)</th>\n",
       "      <td>1.034476e-16</td>\n",
       "      <td>1.000000e+00</td>\n",
       "      <td>-3.192561e-17</td>\n",
       "      <td>-2.255937e-02</td>\n",
       "      <td>1.458187e-17</td>\n",
       "      <td>0.918277</td>\n",
       "      <td>0.547845</td>\n",
       "      <td>-0.535916</td>\n",
       "    </tr>\n",
       "    <tr>\n",
       "      <th>power_(dbm)</th>\n",
       "      <td>-3.198339e-17</td>\n",
       "      <td>-3.192561e-17</td>\n",
       "      <td>1.000000e+00</td>\n",
       "      <td>-8.933558e-17</td>\n",
       "      <td>-3.956261e-17</td>\n",
       "      <td>0.004312</td>\n",
       "      <td>0.054305</td>\n",
       "      <td>-0.053810</td>\n",
       "    </tr>\n",
       "    <tr>\n",
       "      <th>panjang_kabel_(km)</th>\n",
       "      <td>-2.100888e-02</td>\n",
       "      <td>-2.255937e-02</td>\n",
       "      <td>-8.933558e-17</td>\n",
       "      <td>1.000000e+00</td>\n",
       "      <td>-2.519157e-01</td>\n",
       "      <td>-0.022044</td>\n",
       "      <td>-0.667906</td>\n",
       "      <td>0.332959</td>\n",
       "    </tr>\n",
       "    <tr>\n",
       "      <th>redaman_(dbm/km)</th>\n",
       "      <td>-1.032031e-01</td>\n",
       "      <td>1.458187e-17</td>\n",
       "      <td>-3.956261e-17</td>\n",
       "      <td>-2.519157e-01</td>\n",
       "      <td>1.000000e+00</td>\n",
       "      <td>0.003058</td>\n",
       "      <td>-0.060826</td>\n",
       "      <td>0.033390</td>\n",
       "    </tr>\n",
       "    <tr>\n",
       "      <th>osnr_(db)</th>\n",
       "      <td>2.581205e-03</td>\n",
       "      <td>9.182772e-01</td>\n",
       "      <td>4.311879e-03</td>\n",
       "      <td>-2.204366e-02</td>\n",
       "      <td>3.057506e-03</td>\n",
       "      <td>1.000000</td>\n",
       "      <td>0.610724</td>\n",
       "      <td>-0.654866</td>\n",
       "    </tr>\n",
       "    <tr>\n",
       "      <th>q_factor</th>\n",
       "      <td>5.012695e-02</td>\n",
       "      <td>5.478448e-01</td>\n",
       "      <td>5.430541e-02</td>\n",
       "      <td>-6.679059e-01</td>\n",
       "      <td>-6.082588e-02</td>\n",
       "      <td>0.610724</td>\n",
       "      <td>1.000000</td>\n",
       "      <td>-0.547833</td>\n",
       "    </tr>\n",
       "    <tr>\n",
       "      <th>level</th>\n",
       "      <td>-2.908777e-02</td>\n",
       "      <td>-5.359159e-01</td>\n",
       "      <td>-5.380958e-02</td>\n",
       "      <td>3.329591e-01</td>\n",
       "      <td>3.339005e-02</td>\n",
       "      <td>-0.654866</td>\n",
       "      <td>-0.547833</td>\n",
       "      <td>1.000000</td>\n",
       "    </tr>\n",
       "  </tbody>\n",
       "</table>\n",
       "</div>"
      ],
      "text/plain": [
       "                           kanal  spasi_kanal_(ghz)   power_(dbm)  \\\n",
       "kanal               1.000000e+00       1.034476e-16 -3.198339e-17   \n",
       "spasi_kanal_(ghz)   1.034476e-16       1.000000e+00 -3.192561e-17   \n",
       "power_(dbm)        -3.198339e-17      -3.192561e-17  1.000000e+00   \n",
       "panjang_kabel_(km) -2.100888e-02      -2.255937e-02 -8.933558e-17   \n",
       "redaman_(dbm/km)   -1.032031e-01       1.458187e-17 -3.956261e-17   \n",
       "osnr_(db)           2.581205e-03       9.182772e-01  4.311879e-03   \n",
       "q_factor            5.012695e-02       5.478448e-01  5.430541e-02   \n",
       "level              -2.908777e-02      -5.359159e-01 -5.380958e-02   \n",
       "\n",
       "                    panjang_kabel_(km)  redaman_(dbm/km)  osnr_(db)  q_factor  \\\n",
       "kanal                    -2.100888e-02     -1.032031e-01   0.002581  0.050127   \n",
       "spasi_kanal_(ghz)        -2.255937e-02      1.458187e-17   0.918277  0.547845   \n",
       "power_(dbm)              -8.933558e-17     -3.956261e-17   0.004312  0.054305   \n",
       "panjang_kabel_(km)        1.000000e+00     -2.519157e-01  -0.022044 -0.667906   \n",
       "redaman_(dbm/km)         -2.519157e-01      1.000000e+00   0.003058 -0.060826   \n",
       "osnr_(db)                -2.204366e-02      3.057506e-03   1.000000  0.610724   \n",
       "q_factor                 -6.679059e-01     -6.082588e-02   0.610724  1.000000   \n",
       "level                     3.329591e-01      3.339005e-02  -0.654866 -0.547833   \n",
       "\n",
       "                       level  \n",
       "kanal              -0.029088  \n",
       "spasi_kanal_(ghz)  -0.535916  \n",
       "power_(dbm)        -0.053810  \n",
       "panjang_kabel_(km)  0.332959  \n",
       "redaman_(dbm/km)    0.033390  \n",
       "osnr_(db)          -0.654866  \n",
       "q_factor           -0.547833  \n",
       "level               1.000000  "
      ]
     },
     "execution_count": 30,
     "metadata": {},
     "output_type": "execute_result"
    }
   ],
   "source": [
    "df.corr()"
   ]
  },
  {
   "cell_type": "code",
   "execution_count": 31,
   "id": "74696f58-1f5d-4c06-8b2d-5ecac479c35c",
   "metadata": {},
   "outputs": [],
   "source": [
    "# !pip install seaborn --upgrade"
   ]
  },
  {
   "cell_type": "code",
   "execution_count": 32,
   "id": "b4731300-4405-40c7-adcd-da3d06efdcfd",
   "metadata": {},
   "outputs": [
    {
     "data": {
      "image/png": "[encoded data removed]",
      "text/plain": [
       "<Figure size 640x480 with 2 Axes>"
      ]
     },
     "metadata": {},
     "output_type": "display_data"
    }
   ],
   "source": [
    "sns.heatmap(df.corr(), annot=True, fmt=\".2f\")\n",
    "\n",
    "plt.show()"
   ]
  },
  {
   "cell_type": "code",
   "execution_count": 34,
   "id": "edfe2ec7-f5ce-47a6-a42a-07b2007def00",
   "metadata": {},
   "outputs": [
    {
     "data": {
      "text/plain": [
       "level                 1.000000\n",
       "panjang_kabel_(km)    0.332959\n",
       "redaman_(dbm/km)      0.033390\n",
       "kanal                -0.029088\n",
       "power_(dbm)          -0.053810\n",
       "spasi_kanal_(ghz)    -0.535916\n",
       "q_factor             -0.547833\n",
       "osnr_(db)            -0.654866\n",
       "Name: level, dtype: float64"
      ]
     },
     "execution_count": 34,
     "metadata": {},
     "output_type": "execute_result"
    }
   ],
   "source": [
    "df.corr()[\"level\"].sort_values(ascending=False)"
   ]
  },
  {
   "cell_type": "code",
   "execution_count": 16,
   "id": "4410703a-f15f-4a72-af4a-52a2ccd010ec",
   "metadata": {},
   "outputs": [],
   "source": [
    "# df_final = df[[\"spasi_kanal_(ghz)\", \"panjang_kabel_(km)\", \"osnr_(db)\", \"q_factor\", \"level\"]]"
   ]
  },
  {
   "cell_type": "code",
   "execution_count": 17,
   "id": "abaa526f-4502-444b-aa24-afbbe5a14616",
   "metadata": {},
   "outputs": [],
   "source": [
    "# df_final.head()"
   ]
  },
  {
   "cell_type": "markdown",
   "id": "ac448525-8e78-4326-abbf-a1c58a14f3bc",
   "metadata": {},
   "source": [
    "# Build Model"
   ]
  },
  {
   "cell_type": "code",
   "execution_count": 18,
   "id": "00d9fc00-50f4-4b6c-bf8a-0f64610132c2",
   "metadata": {},
   "outputs": [],
   "source": [
    "from sklearn.model_selection import train_test_split\n",
    "from sklearn.preprocessing import StandardScaler\n",
    "from imblearn.over_sampling import SMOTE\n",
    "\n",
    "X = df.drop(\"level\", axis=1)\n",
    "y = df[\"level\"]"
   ]
  },
  {
   "cell_type": "code",
   "execution_count": 19,
   "id": "070d3974-8cc0-4510-8653-94173a910ae1",
   "metadata": {},
   "outputs": [
    {
     "data": {
      "text/html": [
       "<div>\n",
       "<style scoped>\n",
       "    .dataframe tbody tr th:only-of-type {\n",
       "        vertical-align: middle;\n",
       "    }\n",
       "\n",
       "    .dataframe tbody tr th {\n",
       "        vertical-align: top;\n",
       "    }\n",
       "\n",
       "    .dataframe thead th {\n",
       "        text-align: right;\n",
       "    }\n",
       "</style>\n",
       "<table border=\"1\" class=\"dataframe\">\n",
       "  <thead>\n",
       "    <tr style=\"text-align: right;\">\n",
       "      <th></th>\n",
       "      <th>kanal</th>\n",
       "      <th>spasi_kanal_(ghz)</th>\n",
       "      <th>power_(dbm)</th>\n",
       "      <th>panjang_kabel_(km)</th>\n",
       "      <th>redaman_(dbm/km)</th>\n",
       "      <th>osnr_(db)</th>\n",
       "      <th>q_factor</th>\n",
       "    </tr>\n",
       "  </thead>\n",
       "  <tbody>\n",
       "    <tr>\n",
       "      <th>0</th>\n",
       "      <td>8</td>\n",
       "      <td>150</td>\n",
       "      <td>4</td>\n",
       "      <td>50</td>\n",
       "      <td>0.1</td>\n",
       "      <td>36.31</td>\n",
       "      <td>15.69</td>\n",
       "    </tr>\n",
       "    <tr>\n",
       "      <th>1</th>\n",
       "      <td>16</td>\n",
       "      <td>200</td>\n",
       "      <td>0</td>\n",
       "      <td>50</td>\n",
       "      <td>0.4</td>\n",
       "      <td>36.93</td>\n",
       "      <td>11.56</td>\n",
       "    </tr>\n",
       "    <tr>\n",
       "      <th>2</th>\n",
       "      <td>16</td>\n",
       "      <td>150</td>\n",
       "      <td>5</td>\n",
       "      <td>50</td>\n",
       "      <td>0.2</td>\n",
       "      <td>36.40</td>\n",
       "      <td>15.57</td>\n",
       "    </tr>\n",
       "    <tr>\n",
       "      <th>3</th>\n",
       "      <td>8</td>\n",
       "      <td>150</td>\n",
       "      <td>1</td>\n",
       "      <td>50</td>\n",
       "      <td>0.2</td>\n",
       "      <td>36.28</td>\n",
       "      <td>15.35</td>\n",
       "    </tr>\n",
       "    <tr>\n",
       "      <th>4</th>\n",
       "      <td>4</td>\n",
       "      <td>100</td>\n",
       "      <td>5</td>\n",
       "      <td>70</td>\n",
       "      <td>0.3</td>\n",
       "      <td>31.91</td>\n",
       "      <td>7.34</td>\n",
       "    </tr>\n",
       "    <tr>\n",
       "      <th>...</th>\n",
       "      <td>...</td>\n",
       "      <td>...</td>\n",
       "      <td>...</td>\n",
       "      <td>...</td>\n",
       "      <td>...</td>\n",
       "      <td>...</td>\n",
       "      <td>...</td>\n",
       "    </tr>\n",
       "    <tr>\n",
       "      <th>895</th>\n",
       "      <td>16</td>\n",
       "      <td>200</td>\n",
       "      <td>5</td>\n",
       "      <td>70</td>\n",
       "      <td>0.1</td>\n",
       "      <td>36.91</td>\n",
       "      <td>7.89</td>\n",
       "    </tr>\n",
       "    <tr>\n",
       "      <th>896</th>\n",
       "      <td>16</td>\n",
       "      <td>50</td>\n",
       "      <td>4</td>\n",
       "      <td>50</td>\n",
       "      <td>0.1</td>\n",
       "      <td>22.13</td>\n",
       "      <td>7.58</td>\n",
       "    </tr>\n",
       "    <tr>\n",
       "      <th>897</th>\n",
       "      <td>16</td>\n",
       "      <td>150</td>\n",
       "      <td>2</td>\n",
       "      <td>50</td>\n",
       "      <td>0.1</td>\n",
       "      <td>36.28</td>\n",
       "      <td>15.52</td>\n",
       "    </tr>\n",
       "    <tr>\n",
       "      <th>898</th>\n",
       "      <td>16</td>\n",
       "      <td>50</td>\n",
       "      <td>1</td>\n",
       "      <td>50</td>\n",
       "      <td>0.0</td>\n",
       "      <td>22.19</td>\n",
       "      <td>7.52</td>\n",
       "    </tr>\n",
       "    <tr>\n",
       "      <th>899</th>\n",
       "      <td>16</td>\n",
       "      <td>50</td>\n",
       "      <td>1</td>\n",
       "      <td>60</td>\n",
       "      <td>0.0</td>\n",
       "      <td>22.18</td>\n",
       "      <td>5.83</td>\n",
       "    </tr>\n",
       "  </tbody>\n",
       "</table>\n",
       "<p>900 rows × 7 columns</p>\n",
       "</div>"
      ],
      "text/plain": [
       "     kanal  spasi_kanal_(ghz)  power_(dbm)  panjang_kabel_(km)  \\\n",
       "0        8                150            4                  50   \n",
       "1       16                200            0                  50   \n",
       "2       16                150            5                  50   \n",
       "3        8                150            1                  50   \n",
       "4        4                100            5                  70   \n",
       "..     ...                ...          ...                 ...   \n",
       "895     16                200            5                  70   \n",
       "896     16                 50            4                  50   \n",
       "897     16                150            2                  50   \n",
       "898     16                 50            1                  50   \n",
       "899     16                 50            1                  60   \n",
       "\n",
       "     redaman_(dbm/km)  osnr_(db)  q_factor  \n",
       "0                 0.1      36.31     15.69  \n",
       "1                 0.4      36.93     11.56  \n",
       "2                 0.2      36.40     15.57  \n",
       "3                 0.2      36.28     15.35  \n",
       "4                 0.3      31.91      7.34  \n",
       "..                ...        ...       ...  \n",
       "895               0.1      36.91      7.89  \n",
       "896               0.1      22.13      7.58  \n",
       "897               0.1      36.28     15.52  \n",
       "898               0.0      22.19      7.52  \n",
       "899               0.0      22.18      5.83  \n",
       "\n",
       "[900 rows x 7 columns]"
      ]
     },
     "execution_count": 19,
     "metadata": {},
     "output_type": "execute_result"
    }
   ],
   "source": [
    "X"
   ]
  },
  {
   "cell_type": "code",
   "execution_count": 20,
   "id": "09b6c5b0-459f-4186-95c8-cd68217c3c5b",
   "metadata": {},
   "outputs": [
    {
     "data": {
      "text/plain": [
       "level\n",
       "0    741\n",
       "2     80\n",
       "1     79\n",
       "Name: count, dtype: int64"
      ]
     },
     "execution_count": 20,
     "metadata": {},
     "output_type": "execute_result"
    }
   ],
   "source": [
    "y.value_counts()"
   ]
  },
  {
   "cell_type": "code",
   "execution_count": 21,
   "id": "8dc0459f-09ec-47f7-91a4-7074cb312693",
   "metadata": {},
   "outputs": [],
   "source": [
    "smote = SMOTE(random_state=42)\n",
    "X, y = smote.fit_resample(X, y)"
   ]
  },
  {
   "cell_type": "code",
   "execution_count": 22,
   "id": "b81861d1-e449-4f9b-afa5-6242f55d6f49",
   "metadata": {},
   "outputs": [
    {
     "data": {
      "text/html": [
       "<div>\n",
       "<style scoped>\n",
       "    .dataframe tbody tr th:only-of-type {\n",
       "        vertical-align: middle;\n",
       "    }\n",
       "\n",
       "    .dataframe tbody tr th {\n",
       "        vertical-align: top;\n",
       "    }\n",
       "\n",
       "    .dataframe thead th {\n",
       "        text-align: right;\n",
       "    }\n",
       "</style>\n",
       "<table border=\"1\" class=\"dataframe\">\n",
       "  <thead>\n",
       "    <tr style=\"text-align: right;\">\n",
       "      <th></th>\n",
       "      <th>kanal</th>\n",
       "      <th>spasi_kanal_(ghz)</th>\n",
       "      <th>power_(dbm)</th>\n",
       "      <th>panjang_kabel_(km)</th>\n",
       "      <th>redaman_(dbm/km)</th>\n",
       "      <th>osnr_(db)</th>\n",
       "      <th>q_factor</th>\n",
       "    </tr>\n",
       "  </thead>\n",
       "  <tbody>\n",
       "    <tr>\n",
       "      <th>0</th>\n",
       "      <td>8</td>\n",
       "      <td>150</td>\n",
       "      <td>4</td>\n",
       "      <td>50</td>\n",
       "      <td>0.100000</td>\n",
       "      <td>36.310000</td>\n",
       "      <td>15.690000</td>\n",
       "    </tr>\n",
       "    <tr>\n",
       "      <th>1</th>\n",
       "      <td>16</td>\n",
       "      <td>200</td>\n",
       "      <td>0</td>\n",
       "      <td>50</td>\n",
       "      <td>0.400000</td>\n",
       "      <td>36.930000</td>\n",
       "      <td>11.560000</td>\n",
       "    </tr>\n",
       "    <tr>\n",
       "      <th>2</th>\n",
       "      <td>16</td>\n",
       "      <td>150</td>\n",
       "      <td>5</td>\n",
       "      <td>50</td>\n",
       "      <td>0.200000</td>\n",
       "      <td>36.400000</td>\n",
       "      <td>15.570000</td>\n",
       "    </tr>\n",
       "    <tr>\n",
       "      <th>3</th>\n",
       "      <td>8</td>\n",
       "      <td>150</td>\n",
       "      <td>1</td>\n",
       "      <td>50</td>\n",
       "      <td>0.200000</td>\n",
       "      <td>36.280000</td>\n",
       "      <td>15.350000</td>\n",
       "    </tr>\n",
       "    <tr>\n",
       "      <th>4</th>\n",
       "      <td>4</td>\n",
       "      <td>100</td>\n",
       "      <td>5</td>\n",
       "      <td>70</td>\n",
       "      <td>0.300000</td>\n",
       "      <td>31.910000</td>\n",
       "      <td>7.340000</td>\n",
       "    </tr>\n",
       "    <tr>\n",
       "      <th>...</th>\n",
       "      <td>...</td>\n",
       "      <td>...</td>\n",
       "      <td>...</td>\n",
       "      <td>...</td>\n",
       "      <td>...</td>\n",
       "      <td>...</td>\n",
       "      <td>...</td>\n",
       "    </tr>\n",
       "    <tr>\n",
       "      <th>2218</th>\n",
       "      <td>8</td>\n",
       "      <td>50</td>\n",
       "      <td>2</td>\n",
       "      <td>70</td>\n",
       "      <td>0.100000</td>\n",
       "      <td>22.029671</td>\n",
       "      <td>5.065165</td>\n",
       "    </tr>\n",
       "    <tr>\n",
       "      <th>2219</th>\n",
       "      <td>8</td>\n",
       "      <td>50</td>\n",
       "      <td>4</td>\n",
       "      <td>70</td>\n",
       "      <td>0.200000</td>\n",
       "      <td>22.127789</td>\n",
       "      <td>5.053869</td>\n",
       "    </tr>\n",
       "    <tr>\n",
       "      <th>2220</th>\n",
       "      <td>4</td>\n",
       "      <td>50</td>\n",
       "      <td>5</td>\n",
       "      <td>70</td>\n",
       "      <td>0.093480</td>\n",
       "      <td>22.094674</td>\n",
       "      <td>5.160652</td>\n",
       "    </tr>\n",
       "    <tr>\n",
       "      <th>2221</th>\n",
       "      <td>4</td>\n",
       "      <td>50</td>\n",
       "      <td>5</td>\n",
       "      <td>70</td>\n",
       "      <td>0.077318</td>\n",
       "      <td>22.093866</td>\n",
       "      <td>5.162268</td>\n",
       "    </tr>\n",
       "    <tr>\n",
       "      <th>2222</th>\n",
       "      <td>4</td>\n",
       "      <td>50</td>\n",
       "      <td>0</td>\n",
       "      <td>51</td>\n",
       "      <td>0.466593</td>\n",
       "      <td>22.061692</td>\n",
       "      <td>5.148528</td>\n",
       "    </tr>\n",
       "  </tbody>\n",
       "</table>\n",
       "<p>2223 rows × 7 columns</p>\n",
       "</div>"
      ],
      "text/plain": [
       "      kanal  spasi_kanal_(ghz)  power_(dbm)  panjang_kabel_(km)  \\\n",
       "0         8                150            4                  50   \n",
       "1        16                200            0                  50   \n",
       "2        16                150            5                  50   \n",
       "3         8                150            1                  50   \n",
       "4         4                100            5                  70   \n",
       "...     ...                ...          ...                 ...   \n",
       "2218      8                 50            2                  70   \n",
       "2219      8                 50            4                  70   \n",
       "2220      4                 50            5                  70   \n",
       "2221      4                 50            5                  70   \n",
       "2222      4                 50            0                  51   \n",
       "\n",
       "      redaman_(dbm/km)  osnr_(db)   q_factor  \n",
       "0             0.100000  36.310000  15.690000  \n",
       "1             0.400000  36.930000  11.560000  \n",
       "2             0.200000  36.400000  15.570000  \n",
       "3             0.200000  36.280000  15.350000  \n",
       "4             0.300000  31.910000   7.340000  \n",
       "...                ...        ...        ...  \n",
       "2218          0.100000  22.029671   5.065165  \n",
       "2219          0.200000  22.127789   5.053869  \n",
       "2220          0.093480  22.094674   5.160652  \n",
       "2221          0.077318  22.093866   5.162268  \n",
       "2222          0.466593  22.061692   5.148528  \n",
       "\n",
       "[2223 rows x 7 columns]"
      ]
     },
     "execution_count": 22,
     "metadata": {},
     "output_type": "execute_result"
    }
   ],
   "source": [
    "X"
   ]
  },
  {
   "cell_type": "code",
   "execution_count": 23,
   "id": "44124af0-183e-4aa3-b851-e83fcf04be1d",
   "metadata": {},
   "outputs": [
    {
     "data": {
      "text/plain": [
       "level\n",
       "0    741\n",
       "1    741\n",
       "2    741\n",
       "Name: count, dtype: int64"
      ]
     },
     "execution_count": 23,
     "metadata": {},
     "output_type": "execute_result"
    }
   ],
   "source": [
    "y.value_counts()"
   ]
  },
  {
   "cell_type": "code",
   "execution_count": 24,
   "id": "39931754-3f78-4f52-b9a1-64ac09a4927a",
   "metadata": {},
   "outputs": [],
   "source": [
    "from sklearn.neighbors import KNeighborsClassifier\n",
    "from sklearn.tree import DecisionTreeClassifier\n",
    "from sklearn.svm import SVC\n",
    "from sklearn.naive_bayes import CategoricalNB\n",
    "from sklearn.ensemble import RandomForestClassifier\n",
    "from sklearn.ensemble import GradientBoostingClassifier\n",
    "from sklearn.linear_model import LogisticRegression\n",
    "from xgboost import XGBClassifier\n",
    "from sklearn.metrics import confusion_matrix, accuracy_score, classification_report, f1_score, precision_score, recall_score, make_scorer\n",
    "\n",
    "from keras.models import Sequential\n",
    "from keras.layers import Dense"
   ]
  },
  {
   "cell_type": "code",
   "execution_count": 359,
   "id": "62c90918-c5db-479b-abce-2f578189b3f8",
   "metadata": {},
   "outputs": [],
   "source": [
    "# !pip install tensorflow\n",
    "# !pip install xgboost"
   ]
  },
  {
   "cell_type": "markdown",
   "id": "e6d7a35c-f77a-4c43-b5b0-f3249b08d354",
   "metadata": {},
   "source": [
    "## Test 10"
   ]
  },
  {
   "cell_type": "code",
   "execution_count": 25,
   "id": "9490df17-f9ac-4259-bbbc-d378a7a6ffe6",
   "metadata": {},
   "outputs": [],
   "source": [
    "X_train, X_test, y_train, y_test = train_test_split(X, y, test_size=0.1, random_state=42)"
   ]
  },
  {
   "cell_type": "code",
   "execution_count": 26,
   "id": "c1453a70-3a1c-4b8e-8e75-eeb49a907228",
   "metadata": {},
   "outputs": [
    {
     "data": {
      "text/html": [
       "<div>\n",
       "<style scoped>\n",
       "    .dataframe tbody tr th:only-of-type {\n",
       "        vertical-align: middle;\n",
       "    }\n",
       "\n",
       "    .dataframe tbody tr th {\n",
       "        vertical-align: top;\n",
       "    }\n",
       "\n",
       "    .dataframe thead th {\n",
       "        text-align: right;\n",
       "    }\n",
       "</style>\n",
       "<table border=\"1\" class=\"dataframe\">\n",
       "  <thead>\n",
       "    <tr style=\"text-align: right;\">\n",
       "      <th></th>\n",
       "      <th>kanal</th>\n",
       "      <th>spasi_kanal_(ghz)</th>\n",
       "      <th>power_(dbm)</th>\n",
       "      <th>panjang_kabel_(km)</th>\n",
       "      <th>redaman_(dbm/km)</th>\n",
       "      <th>osnr_(db)</th>\n",
       "      <th>q_factor</th>\n",
       "    </tr>\n",
       "  </thead>\n",
       "  <tbody>\n",
       "    <tr>\n",
       "      <th>188</th>\n",
       "      <td>4</td>\n",
       "      <td>150</td>\n",
       "      <td>3</td>\n",
       "      <td>70</td>\n",
       "      <td>0.200000</td>\n",
       "      <td>36.330000</td>\n",
       "      <td>7.680000</td>\n",
       "    </tr>\n",
       "    <tr>\n",
       "      <th>1414</th>\n",
       "      <td>4</td>\n",
       "      <td>50</td>\n",
       "      <td>1</td>\n",
       "      <td>60</td>\n",
       "      <td>0.053563</td>\n",
       "      <td>22.174644</td>\n",
       "      <td>5.702678</td>\n",
       "    </tr>\n",
       "    <tr>\n",
       "      <th>1523</th>\n",
       "      <td>16</td>\n",
       "      <td>50</td>\n",
       "      <td>0</td>\n",
       "      <td>60</td>\n",
       "      <td>0.100000</td>\n",
       "      <td>22.054888</td>\n",
       "      <td>5.785488</td>\n",
       "    </tr>\n",
       "    <tr>\n",
       "      <th>1672</th>\n",
       "      <td>16</td>\n",
       "      <td>50</td>\n",
       "      <td>2</td>\n",
       "      <td>70</td>\n",
       "      <td>0.200000</td>\n",
       "      <td>22.130000</td>\n",
       "      <td>5.070000</td>\n",
       "    </tr>\n",
       "    <tr>\n",
       "      <th>416</th>\n",
       "      <td>8</td>\n",
       "      <td>50</td>\n",
       "      <td>4</td>\n",
       "      <td>50</td>\n",
       "      <td>0.200000</td>\n",
       "      <td>22.110000</td>\n",
       "      <td>7.500000</td>\n",
       "    </tr>\n",
       "    <tr>\n",
       "      <th>...</th>\n",
       "      <td>...</td>\n",
       "      <td>...</td>\n",
       "      <td>...</td>\n",
       "      <td>...</td>\n",
       "      <td>...</td>\n",
       "      <td>...</td>\n",
       "      <td>...</td>\n",
       "    </tr>\n",
       "    <tr>\n",
       "      <th>1638</th>\n",
       "      <td>16</td>\n",
       "      <td>50</td>\n",
       "      <td>4</td>\n",
       "      <td>70</td>\n",
       "      <td>0.118620</td>\n",
       "      <td>22.133724</td>\n",
       "      <td>5.131862</td>\n",
       "    </tr>\n",
       "    <tr>\n",
       "      <th>1095</th>\n",
       "      <td>4</td>\n",
       "      <td>50</td>\n",
       "      <td>5</td>\n",
       "      <td>60</td>\n",
       "      <td>0.226623</td>\n",
       "      <td>22.092013</td>\n",
       "      <td>5.852045</td>\n",
       "    </tr>\n",
       "    <tr>\n",
       "      <th>1130</th>\n",
       "      <td>4</td>\n",
       "      <td>200</td>\n",
       "      <td>0</td>\n",
       "      <td>65</td>\n",
       "      <td>0.345067</td>\n",
       "      <td>36.898027</td>\n",
       "      <td>6.533240</td>\n",
       "    </tr>\n",
       "    <tr>\n",
       "      <th>1294</th>\n",
       "      <td>16</td>\n",
       "      <td>50</td>\n",
       "      <td>2</td>\n",
       "      <td>60</td>\n",
       "      <td>0.091845</td>\n",
       "      <td>22.129399</td>\n",
       "      <td>5.794292</td>\n",
       "    </tr>\n",
       "    <tr>\n",
       "      <th>860</th>\n",
       "      <td>8</td>\n",
       "      <td>150</td>\n",
       "      <td>5</td>\n",
       "      <td>60</td>\n",
       "      <td>0.200000</td>\n",
       "      <td>36.350000</td>\n",
       "      <td>10.300000</td>\n",
       "    </tr>\n",
       "  </tbody>\n",
       "</table>\n",
       "<p>2000 rows × 7 columns</p>\n",
       "</div>"
      ],
      "text/plain": [
       "      kanal  spasi_kanal_(ghz)  power_(dbm)  panjang_kabel_(km)  \\\n",
       "188       4                150            3                  70   \n",
       "1414      4                 50            1                  60   \n",
       "1523     16                 50            0                  60   \n",
       "1672     16                 50            2                  70   \n",
       "416       8                 50            4                  50   \n",
       "...     ...                ...          ...                 ...   \n",
       "1638     16                 50            4                  70   \n",
       "1095      4                 50            5                  60   \n",
       "1130      4                200            0                  65   \n",
       "1294     16                 50            2                  60   \n",
       "860       8                150            5                  60   \n",
       "\n",
       "      redaman_(dbm/km)  osnr_(db)   q_factor  \n",
       "188           0.200000  36.330000   7.680000  \n",
       "1414          0.053563  22.174644   5.702678  \n",
       "1523          0.100000  22.054888   5.785488  \n",
       "1672          0.200000  22.130000   5.070000  \n",
       "416           0.200000  22.110000   7.500000  \n",
       "...                ...        ...        ...  \n",
       "1638          0.118620  22.133724   5.131862  \n",
       "1095          0.226623  22.092013   5.852045  \n",
       "1130          0.345067  36.898027   6.533240  \n",
       "1294          0.091845  22.129399   5.794292  \n",
       "860           0.200000  36.350000  10.300000  \n",
       "\n",
       "[2000 rows x 7 columns]"
      ]
     },
     "execution_count": 26,
     "metadata": {},
     "output_type": "execute_result"
    }
   ],
   "source": [
    "X_train"
   ]
  },
  {
   "cell_type": "code",
   "execution_count": 27,
   "id": "139b5a02-8b3e-4a14-9b9e-1d1677984811",
   "metadata": {},
   "outputs": [
    {
     "data": {
      "text/html": [
       "<div>\n",
       "<style scoped>\n",
       "    .dataframe tbody tr th:only-of-type {\n",
       "        vertical-align: middle;\n",
       "    }\n",
       "\n",
       "    .dataframe tbody tr th {\n",
       "        vertical-align: top;\n",
       "    }\n",
       "\n",
       "    .dataframe thead th {\n",
       "        text-align: right;\n",
       "    }\n",
       "</style>\n",
       "<table border=\"1\" class=\"dataframe\">\n",
       "  <thead>\n",
       "    <tr style=\"text-align: right;\">\n",
       "      <th></th>\n",
       "      <th>kanal</th>\n",
       "      <th>spasi_kanal_(ghz)</th>\n",
       "      <th>power_(dbm)</th>\n",
       "      <th>panjang_kabel_(km)</th>\n",
       "      <th>redaman_(dbm/km)</th>\n",
       "      <th>osnr_(db)</th>\n",
       "      <th>q_factor</th>\n",
       "    </tr>\n",
       "  </thead>\n",
       "  <tbody>\n",
       "    <tr>\n",
       "      <th>96</th>\n",
       "      <td>4</td>\n",
       "      <td>50</td>\n",
       "      <td>1</td>\n",
       "      <td>70</td>\n",
       "      <td>0.100000</td>\n",
       "      <td>22.220000</td>\n",
       "      <td>5.100000</td>\n",
       "    </tr>\n",
       "    <tr>\n",
       "      <th>1401</th>\n",
       "      <td>4</td>\n",
       "      <td>50</td>\n",
       "      <td>4</td>\n",
       "      <td>60</td>\n",
       "      <td>0.063363</td>\n",
       "      <td>22.098018</td>\n",
       "      <td>5.778513</td>\n",
       "    </tr>\n",
       "    <tr>\n",
       "      <th>1994</th>\n",
       "      <td>4</td>\n",
       "      <td>50</td>\n",
       "      <td>3</td>\n",
       "      <td>70</td>\n",
       "      <td>0.300000</td>\n",
       "      <td>22.075257</td>\n",
       "      <td>4.890513</td>\n",
       "    </tr>\n",
       "    <tr>\n",
       "      <th>1987</th>\n",
       "      <td>8</td>\n",
       "      <td>50</td>\n",
       "      <td>3</td>\n",
       "      <td>70</td>\n",
       "      <td>0.158019</td>\n",
       "      <td>22.132099</td>\n",
       "      <td>5.073703</td>\n",
       "    </tr>\n",
       "    <tr>\n",
       "      <th>859</th>\n",
       "      <td>16</td>\n",
       "      <td>50</td>\n",
       "      <td>1</td>\n",
       "      <td>70</td>\n",
       "      <td>0.100000</td>\n",
       "      <td>22.220000</td>\n",
       "      <td>5.100000</td>\n",
       "    </tr>\n",
       "    <tr>\n",
       "      <th>...</th>\n",
       "      <td>...</td>\n",
       "      <td>...</td>\n",
       "      <td>...</td>\n",
       "      <td>...</td>\n",
       "      <td>...</td>\n",
       "      <td>...</td>\n",
       "      <td>...</td>\n",
       "    </tr>\n",
       "    <tr>\n",
       "      <th>2198</th>\n",
       "      <td>16</td>\n",
       "      <td>50</td>\n",
       "      <td>1</td>\n",
       "      <td>70</td>\n",
       "      <td>0.058223</td>\n",
       "      <td>22.190756</td>\n",
       "      <td>5.120888</td>\n",
       "    </tr>\n",
       "    <tr>\n",
       "      <th>528</th>\n",
       "      <td>8</td>\n",
       "      <td>150</td>\n",
       "      <td>4</td>\n",
       "      <td>60</td>\n",
       "      <td>0.000000</td>\n",
       "      <td>36.310000</td>\n",
       "      <td>10.410000</td>\n",
       "    </tr>\n",
       "    <tr>\n",
       "      <th>1615</th>\n",
       "      <td>4</td>\n",
       "      <td>50</td>\n",
       "      <td>2</td>\n",
       "      <td>60</td>\n",
       "      <td>0.400000</td>\n",
       "      <td>22.154824</td>\n",
       "      <td>5.172877</td>\n",
       "    </tr>\n",
       "    <tr>\n",
       "      <th>605</th>\n",
       "      <td>8</td>\n",
       "      <td>100</td>\n",
       "      <td>1</td>\n",
       "      <td>70</td>\n",
       "      <td>0.000000</td>\n",
       "      <td>31.850000</td>\n",
       "      <td>7.270000</td>\n",
       "    </tr>\n",
       "    <tr>\n",
       "      <th>1773</th>\n",
       "      <td>4</td>\n",
       "      <td>50</td>\n",
       "      <td>3</td>\n",
       "      <td>70</td>\n",
       "      <td>0.153849</td>\n",
       "      <td>22.040770</td>\n",
       "      <td>5.011536</td>\n",
       "    </tr>\n",
       "  </tbody>\n",
       "</table>\n",
       "<p>223 rows × 7 columns</p>\n",
       "</div>"
      ],
      "text/plain": [
       "      kanal  spasi_kanal_(ghz)  power_(dbm)  panjang_kabel_(km)  \\\n",
       "96        4                 50            1                  70   \n",
       "1401      4                 50            4                  60   \n",
       "1994      4                 50            3                  70   \n",
       "1987      8                 50            3                  70   \n",
       "859      16                 50            1                  70   \n",
       "...     ...                ...          ...                 ...   \n",
       "2198     16                 50            1                  70   \n",
       "528       8                150            4                  60   \n",
       "1615      4                 50            2                  60   \n",
       "605       8                100            1                  70   \n",
       "1773      4                 50            3                  70   \n",
       "\n",
       "      redaman_(dbm/km)  osnr_(db)   q_factor  \n",
       "96            0.100000  22.220000   5.100000  \n",
       "1401          0.063363  22.098018   5.778513  \n",
       "1994          0.300000  22.075257   4.890513  \n",
       "1987          0.158019  22.132099   5.073703  \n",
       "859           0.100000  22.220000   5.100000  \n",
       "...                ...        ...        ...  \n",
       "2198          0.058223  22.190756   5.120888  \n",
       "528           0.000000  36.310000  10.410000  \n",
       "1615          0.400000  22.154824   5.172877  \n",
       "605           0.000000  31.850000   7.270000  \n",
       "1773          0.153849  22.040770   5.011536  \n",
       "\n",
       "[223 rows x 7 columns]"
      ]
     },
     "execution_count": 27,
     "metadata": {},
     "output_type": "execute_result"
    }
   ],
   "source": [
    "X_test"
   ]
  },
  {
   "cell_type": "code",
   "execution_count": 28,
   "id": "c8f98b3d-2c9d-439a-8162-8728be4acc9d",
   "metadata": {},
   "outputs": [],
   "source": [
    "# scaler = StandardScaler()\n",
    "# X_train = scaler.fit_transform(X_train)\n",
    "# X_test = scaler.transform(X_test)"
   ]
  },
  {
   "cell_type": "code",
   "execution_count": 29,
   "id": "64d73dfc-d06d-4509-b45a-1781b4e0d7ea",
   "metadata": {},
   "outputs": [
    {
     "data": {
      "text/html": [
       "<div>\n",
       "<style scoped>\n",
       "    .dataframe tbody tr th:only-of-type {\n",
       "        vertical-align: middle;\n",
       "    }\n",
       "\n",
       "    .dataframe tbody tr th {\n",
       "        vertical-align: top;\n",
       "    }\n",
       "\n",
       "    .dataframe thead th {\n",
       "        text-align: right;\n",
       "    }\n",
       "</style>\n",
       "<table border=\"1\" class=\"dataframe\">\n",
       "  <thead>\n",
       "    <tr style=\"text-align: right;\">\n",
       "      <th></th>\n",
       "      <th>kanal</th>\n",
       "      <th>spasi_kanal_(ghz)</th>\n",
       "      <th>power_(dbm)</th>\n",
       "      <th>panjang_kabel_(km)</th>\n",
       "      <th>redaman_(dbm/km)</th>\n",
       "      <th>osnr_(db)</th>\n",
       "      <th>q_factor</th>\n",
       "    </tr>\n",
       "  </thead>\n",
       "  <tbody>\n",
       "    <tr>\n",
       "      <th>188</th>\n",
       "      <td>4</td>\n",
       "      <td>150</td>\n",
       "      <td>3</td>\n",
       "      <td>70</td>\n",
       "      <td>0.200000</td>\n",
       "      <td>36.330000</td>\n",
       "      <td>7.680000</td>\n",
       "    </tr>\n",
       "    <tr>\n",
       "      <th>1414</th>\n",
       "      <td>4</td>\n",
       "      <td>50</td>\n",
       "      <td>1</td>\n",
       "      <td>60</td>\n",
       "      <td>0.053563</td>\n",
       "      <td>22.174644</td>\n",
       "      <td>5.702678</td>\n",
       "    </tr>\n",
       "    <tr>\n",
       "      <th>1523</th>\n",
       "      <td>16</td>\n",
       "      <td>50</td>\n",
       "      <td>0</td>\n",
       "      <td>60</td>\n",
       "      <td>0.100000</td>\n",
       "      <td>22.054888</td>\n",
       "      <td>5.785488</td>\n",
       "    </tr>\n",
       "    <tr>\n",
       "      <th>1672</th>\n",
       "      <td>16</td>\n",
       "      <td>50</td>\n",
       "      <td>2</td>\n",
       "      <td>70</td>\n",
       "      <td>0.200000</td>\n",
       "      <td>22.130000</td>\n",
       "      <td>5.070000</td>\n",
       "    </tr>\n",
       "    <tr>\n",
       "      <th>416</th>\n",
       "      <td>8</td>\n",
       "      <td>50</td>\n",
       "      <td>4</td>\n",
       "      <td>50</td>\n",
       "      <td>0.200000</td>\n",
       "      <td>22.110000</td>\n",
       "      <td>7.500000</td>\n",
       "    </tr>\n",
       "    <tr>\n",
       "      <th>...</th>\n",
       "      <td>...</td>\n",
       "      <td>...</td>\n",
       "      <td>...</td>\n",
       "      <td>...</td>\n",
       "      <td>...</td>\n",
       "      <td>...</td>\n",
       "      <td>...</td>\n",
       "    </tr>\n",
       "    <tr>\n",
       "      <th>1638</th>\n",
       "      <td>16</td>\n",
       "      <td>50</td>\n",
       "      <td>4</td>\n",
       "      <td>70</td>\n",
       "      <td>0.118620</td>\n",
       "      <td>22.133724</td>\n",
       "      <td>5.131862</td>\n",
       "    </tr>\n",
       "    <tr>\n",
       "      <th>1095</th>\n",
       "      <td>4</td>\n",
       "      <td>50</td>\n",
       "      <td>5</td>\n",
       "      <td>60</td>\n",
       "      <td>0.226623</td>\n",
       "      <td>22.092013</td>\n",
       "      <td>5.852045</td>\n",
       "    </tr>\n",
       "    <tr>\n",
       "      <th>1130</th>\n",
       "      <td>4</td>\n",
       "      <td>200</td>\n",
       "      <td>0</td>\n",
       "      <td>65</td>\n",
       "      <td>0.345067</td>\n",
       "      <td>36.898027</td>\n",
       "      <td>6.533240</td>\n",
       "    </tr>\n",
       "    <tr>\n",
       "      <th>1294</th>\n",
       "      <td>16</td>\n",
       "      <td>50</td>\n",
       "      <td>2</td>\n",
       "      <td>60</td>\n",
       "      <td>0.091845</td>\n",
       "      <td>22.129399</td>\n",
       "      <td>5.794292</td>\n",
       "    </tr>\n",
       "    <tr>\n",
       "      <th>860</th>\n",
       "      <td>8</td>\n",
       "      <td>150</td>\n",
       "      <td>5</td>\n",
       "      <td>60</td>\n",
       "      <td>0.200000</td>\n",
       "      <td>36.350000</td>\n",
       "      <td>10.300000</td>\n",
       "    </tr>\n",
       "  </tbody>\n",
       "</table>\n",
       "<p>2000 rows × 7 columns</p>\n",
       "</div>"
      ],
      "text/plain": [
       "      kanal  spasi_kanal_(ghz)  power_(dbm)  panjang_kabel_(km)  \\\n",
       "188       4                150            3                  70   \n",
       "1414      4                 50            1                  60   \n",
       "1523     16                 50            0                  60   \n",
       "1672     16                 50            2                  70   \n",
       "416       8                 50            4                  50   \n",
       "...     ...                ...          ...                 ...   \n",
       "1638     16                 50            4                  70   \n",
       "1095      4                 50            5                  60   \n",
       "1130      4                200            0                  65   \n",
       "1294     16                 50            2                  60   \n",
       "860       8                150            5                  60   \n",
       "\n",
       "      redaman_(dbm/km)  osnr_(db)   q_factor  \n",
       "188           0.200000  36.330000   7.680000  \n",
       "1414          0.053563  22.174644   5.702678  \n",
       "1523          0.100000  22.054888   5.785488  \n",
       "1672          0.200000  22.130000   5.070000  \n",
       "416           0.200000  22.110000   7.500000  \n",
       "...                ...        ...        ...  \n",
       "1638          0.118620  22.133724   5.131862  \n",
       "1095          0.226623  22.092013   5.852045  \n",
       "1130          0.345067  36.898027   6.533240  \n",
       "1294          0.091845  22.129399   5.794292  \n",
       "860           0.200000  36.350000  10.300000  \n",
       "\n",
       "[2000 rows x 7 columns]"
      ]
     },
     "execution_count": 29,
     "metadata": {},
     "output_type": "execute_result"
    }
   ],
   "source": [
    "X_train"
   ]
  },
  {
   "cell_type": "code",
   "execution_count": 30,
   "id": "97f31934-bfa9-4a0b-b06a-68d1e815ae2d",
   "metadata": {},
   "outputs": [
    {
     "data": {
      "text/html": [
       "<div>\n",
       "<style scoped>\n",
       "    .dataframe tbody tr th:only-of-type {\n",
       "        vertical-align: middle;\n",
       "    }\n",
       "\n",
       "    .dataframe tbody tr th {\n",
       "        vertical-align: top;\n",
       "    }\n",
       "\n",
       "    .dataframe thead th {\n",
       "        text-align: right;\n",
       "    }\n",
       "</style>\n",
       "<table border=\"1\" class=\"dataframe\">\n",
       "  <thead>\n",
       "    <tr style=\"text-align: right;\">\n",
       "      <th></th>\n",
       "      <th>kanal</th>\n",
       "      <th>spasi_kanal_(ghz)</th>\n",
       "      <th>power_(dbm)</th>\n",
       "      <th>panjang_kabel_(km)</th>\n",
       "      <th>redaman_(dbm/km)</th>\n",
       "      <th>osnr_(db)</th>\n",
       "      <th>q_factor</th>\n",
       "    </tr>\n",
       "  </thead>\n",
       "  <tbody>\n",
       "    <tr>\n",
       "      <th>96</th>\n",
       "      <td>4</td>\n",
       "      <td>50</td>\n",
       "      <td>1</td>\n",
       "      <td>70</td>\n",
       "      <td>0.100000</td>\n",
       "      <td>22.220000</td>\n",
       "      <td>5.100000</td>\n",
       "    </tr>\n",
       "    <tr>\n",
       "      <th>1401</th>\n",
       "      <td>4</td>\n",
       "      <td>50</td>\n",
       "      <td>4</td>\n",
       "      <td>60</td>\n",
       "      <td>0.063363</td>\n",
       "      <td>22.098018</td>\n",
       "      <td>5.778513</td>\n",
       "    </tr>\n",
       "    <tr>\n",
       "      <th>1994</th>\n",
       "      <td>4</td>\n",
       "      <td>50</td>\n",
       "      <td>3</td>\n",
       "      <td>70</td>\n",
       "      <td>0.300000</td>\n",
       "      <td>22.075257</td>\n",
       "      <td>4.890513</td>\n",
       "    </tr>\n",
       "    <tr>\n",
       "      <th>1987</th>\n",
       "      <td>8</td>\n",
       "      <td>50</td>\n",
       "      <td>3</td>\n",
       "      <td>70</td>\n",
       "      <td>0.158019</td>\n",
       "      <td>22.132099</td>\n",
       "      <td>5.073703</td>\n",
       "    </tr>\n",
       "    <tr>\n",
       "      <th>859</th>\n",
       "      <td>16</td>\n",
       "      <td>50</td>\n",
       "      <td>1</td>\n",
       "      <td>70</td>\n",
       "      <td>0.100000</td>\n",
       "      <td>22.220000</td>\n",
       "      <td>5.100000</td>\n",
       "    </tr>\n",
       "    <tr>\n",
       "      <th>...</th>\n",
       "      <td>...</td>\n",
       "      <td>...</td>\n",
       "      <td>...</td>\n",
       "      <td>...</td>\n",
       "      <td>...</td>\n",
       "      <td>...</td>\n",
       "      <td>...</td>\n",
       "    </tr>\n",
       "    <tr>\n",
       "      <th>2198</th>\n",
       "      <td>16</td>\n",
       "      <td>50</td>\n",
       "      <td>1</td>\n",
       "      <td>70</td>\n",
       "      <td>0.058223</td>\n",
       "      <td>22.190756</td>\n",
       "      <td>5.120888</td>\n",
       "    </tr>\n",
       "    <tr>\n",
       "      <th>528</th>\n",
       "      <td>8</td>\n",
       "      <td>150</td>\n",
       "      <td>4</td>\n",
       "      <td>60</td>\n",
       "      <td>0.000000</td>\n",
       "      <td>36.310000</td>\n",
       "      <td>10.410000</td>\n",
       "    </tr>\n",
       "    <tr>\n",
       "      <th>1615</th>\n",
       "      <td>4</td>\n",
       "      <td>50</td>\n",
       "      <td>2</td>\n",
       "      <td>60</td>\n",
       "      <td>0.400000</td>\n",
       "      <td>22.154824</td>\n",
       "      <td>5.172877</td>\n",
       "    </tr>\n",
       "    <tr>\n",
       "      <th>605</th>\n",
       "      <td>8</td>\n",
       "      <td>100</td>\n",
       "      <td>1</td>\n",
       "      <td>70</td>\n",
       "      <td>0.000000</td>\n",
       "      <td>31.850000</td>\n",
       "      <td>7.270000</td>\n",
       "    </tr>\n",
       "    <tr>\n",
       "      <th>1773</th>\n",
       "      <td>4</td>\n",
       "      <td>50</td>\n",
       "      <td>3</td>\n",
       "      <td>70</td>\n",
       "      <td>0.153849</td>\n",
       "      <td>22.040770</td>\n",
       "      <td>5.011536</td>\n",
       "    </tr>\n",
       "  </tbody>\n",
       "</table>\n",
       "<p>223 rows × 7 columns</p>\n",
       "</div>"
      ],
      "text/plain": [
       "      kanal  spasi_kanal_(ghz)  power_(dbm)  panjang_kabel_(km)  \\\n",
       "96        4                 50            1                  70   \n",
       "1401      4                 50            4                  60   \n",
       "1994      4                 50            3                  70   \n",
       "1987      8                 50            3                  70   \n",
       "859      16                 50            1                  70   \n",
       "...     ...                ...          ...                 ...   \n",
       "2198     16                 50            1                  70   \n",
       "528       8                150            4                  60   \n",
       "1615      4                 50            2                  60   \n",
       "605       8                100            1                  70   \n",
       "1773      4                 50            3                  70   \n",
       "\n",
       "      redaman_(dbm/km)  osnr_(db)   q_factor  \n",
       "96            0.100000  22.220000   5.100000  \n",
       "1401          0.063363  22.098018   5.778513  \n",
       "1994          0.300000  22.075257   4.890513  \n",
       "1987          0.158019  22.132099   5.073703  \n",
       "859           0.100000  22.220000   5.100000  \n",
       "...                ...        ...        ...  \n",
       "2198          0.058223  22.190756   5.120888  \n",
       "528           0.000000  36.310000  10.410000  \n",
       "1615          0.400000  22.154824   5.172877  \n",
       "605           0.000000  31.850000   7.270000  \n",
       "1773          0.153849  22.040770   5.011536  \n",
       "\n",
       "[223 rows x 7 columns]"
      ]
     },
     "execution_count": 30,
     "metadata": {},
     "output_type": "execute_result"
    }
   ],
   "source": [
    "X_test"
   ]
  },
  {
   "cell_type": "markdown",
   "id": "00689e84-81b4-4cb2-a3d5-29439eacbf59",
   "metadata": {},
   "source": [
    "### KNeighbors"
   ]
  },
  {
   "cell_type": "code",
   "execution_count": 31,
   "id": "ff54567a-345f-4bea-8311-d04dda548640",
   "metadata": {},
   "outputs": [],
   "source": [
    "\n",
    "knn = KNeighborsClassifier()\n",
    "knn.fit(X_train, y_train)\n",
    "\n",
    "y_pred_knn = knn.predict(X_test)"
   ]
  },
  {
   "cell_type": "code",
   "execution_count": 32,
   "id": "f66b437b-cb4c-4e29-87df-ff9a868790c5",
   "metadata": {},
   "outputs": [
    {
     "name": "stdout",
     "output_type": "stream",
     "text": [
      "              precision    recall  f1-score   support\n",
      "\n",
      "           0       1.00      1.00      1.00        81\n",
      "           1       0.99      1.00      0.99        70\n",
      "           2       1.00      0.99      0.99        72\n",
      "\n",
      "    accuracy                           1.00       223\n",
      "   macro avg       1.00      1.00      1.00       223\n",
      "weighted avg       1.00      1.00      1.00       223\n",
      "\n"
     ]
    }
   ],
   "source": [
    "print(classification_report(y_test, y_pred_knn))"
   ]
  },
  {
   "cell_type": "code",
   "execution_count": 33,
   "id": "e50ffd95-0225-4b2b-a516-0ca6cfcc85b2",
   "metadata": {},
   "outputs": [
    {
     "name": "stdout",
     "output_type": "stream",
     "text": [
      "0.9915\n"
     ]
    }
   ],
   "source": [
    "print(accuracy_score(y_train, knn.predict(X_train)))"
   ]
  },
  {
   "cell_type": "code",
   "execution_count": 34,
   "id": "161f627b-eae8-4739-a9b2-415a405db6a5",
   "metadata": {},
   "outputs": [
    {
     "name": "stdout",
     "output_type": "stream",
     "text": [
      "F1 Score: 0.995\n",
      "Accuracy: 0.996\n",
      "Recall 0.995\n",
      "Precision 0.995\n"
     ]
    }
   ],
   "source": [
    "print(\"F1 Score:\",round(f1_score(y_test, y_pred_knn, average='macro'),3))\n",
    "print(\"Accuracy:\",round(accuracy_score(y_test, y_pred_knn),3))\n",
    "print(\"Recall\", round(recall_score(y_test, y_pred_knn, average='macro'), 3))\n",
    "print(\"Precision\", round(precision_score(y_test, y_pred_knn, average='macro'),3))"
   ]
  },
  {
   "cell_type": "markdown",
   "id": "7c0614cb-bb74-463b-a133-bd04bbe1355b",
   "metadata": {},
   "source": [
    "### Decision Tree"
   ]
  },
  {
   "cell_type": "code",
   "execution_count": 35,
   "id": "d0e33f08-3193-46e9-af14-16b033b7d73e",
   "metadata": {},
   "outputs": [],
   "source": [
    "dtc = DecisionTreeClassifier()\n",
    "dtc.fit(X_train, y_train)\n",
    "\n",
    "y_pred_dtc = dtc.predict(X_test)"
   ]
  },
  {
   "cell_type": "code",
   "execution_count": 36,
   "id": "a3aa5cbd-d8ad-49d6-ab1c-8e6665d10aa4",
   "metadata": {},
   "outputs": [
    {
     "name": "stdout",
     "output_type": "stream",
     "text": [
      "              precision    recall  f1-score   support\n",
      "\n",
      "           0       1.00      1.00      1.00        81\n",
      "           1       1.00      1.00      1.00        70\n",
      "           2       1.00      1.00      1.00        72\n",
      "\n",
      "    accuracy                           1.00       223\n",
      "   macro avg       1.00      1.00      1.00       223\n",
      "weighted avg       1.00      1.00      1.00       223\n",
      "\n"
     ]
    }
   ],
   "source": [
    "print(classification_report(y_test, y_pred_dtc))"
   ]
  },
  {
   "cell_type": "code",
   "execution_count": 37,
   "id": "f1add022-d89d-4c0e-8527-32e5da9e507a",
   "metadata": {},
   "outputs": [
    {
     "name": "stdout",
     "output_type": "stream",
     "text": [
      "F1 Score: 1.0\n",
      "Accuracy: 1.0\n",
      "Recall 1.0\n",
      "Precision 1.0\n"
     ]
    }
   ],
   "source": [
    "print(\"F1 Score:\",round(f1_score(y_test, y_pred_dtc, average='macro'),3))\n",
    "print(\"Accuracy:\",round(accuracy_score(y_test, y_pred_dtc),3))\n",
    "print(\"Recall\", round(recall_score(y_test, y_pred_dtc, average='macro'), 3))\n",
    "print(\"Precision\", round(precision_score(y_test, y_pred_dtc, average='macro'),3))"
   ]
  },
  {
   "cell_type": "markdown",
   "id": "20c4e7c1-1e25-4fc7-83d2-a22e9c6dbe16",
   "metadata": {},
   "source": [
    "### Random Forest"
   ]
  },
  {
   "cell_type": "code",
   "execution_count": 38,
   "id": "78be99c0-4cf3-42ac-9d90-6d42874e9554",
   "metadata": {},
   "outputs": [],
   "source": [
    "rf = RandomForestClassifier(n_estimators=40)\n",
    "rf.fit(X_train, y_train)\n",
    "y_pred_rf = rf.predict(X_test)"
   ]
  },
  {
   "cell_type": "code",
   "execution_count": 39,
   "id": "077b04f1-84f4-4a8f-ba09-ddc8920ff438",
   "metadata": {},
   "outputs": [
    {
     "name": "stdout",
     "output_type": "stream",
     "text": [
      "              precision    recall  f1-score   support\n",
      "\n",
      "           0       1.00      1.00      1.00        81\n",
      "           1       1.00      1.00      1.00        70\n",
      "           2       1.00      1.00      1.00        72\n",
      "\n",
      "    accuracy                           1.00       223\n",
      "   macro avg       1.00      1.00      1.00       223\n",
      "weighted avg       1.00      1.00      1.00       223\n",
      "\n"
     ]
    }
   ],
   "source": [
    "print(classification_report(y_test, y_pred_rf))"
   ]
  },
  {
   "cell_type": "code",
   "execution_count": 40,
   "id": "4ed6feec-b275-4909-8764-4fca201552d4",
   "metadata": {},
   "outputs": [
    {
     "name": "stdout",
     "output_type": "stream",
     "text": [
      "F1 Score: 1.0\n",
      "Accuracy: 1.0\n",
      "Recall 1.0\n",
      "Precision 1.0\n"
     ]
    }
   ],
   "source": [
    "print(\"F1 Score:\",round(f1_score(y_test, y_pred_rf, average='macro'),3))\n",
    "print(\"Accuracy:\",round(accuracy_score(y_test, y_pred_rf),3))\n",
    "print(\"Recall\", round(recall_score(y_test, y_pred_rf, average='macro'), 3))\n",
    "print(\"Precision\", round(precision_score(y_test, y_pred_rf, average='macro'),3))"
   ]
  },
  {
   "cell_type": "markdown",
   "id": "5ff7e38f-5709-4b40-8403-c35e202ea97f",
   "metadata": {},
   "source": [
    "### Gradient Boosting"
   ]
  },
  {
   "cell_type": "code",
   "execution_count": 41,
   "id": "e33be8b4-0f96-4142-be2a-2b867b442320",
   "metadata": {},
   "outputs": [],
   "source": [
    "gb = GradientBoostingClassifier()\n",
    "gb.fit(X_train, y_train)\n",
    "y_pred_gb = gb.predict(X_test)"
   ]
  },
  {
   "cell_type": "code",
   "execution_count": 42,
   "id": "24317e44-14fa-4cf6-b7a7-0d7ba41cb9dd",
   "metadata": {},
   "outputs": [
    {
     "name": "stdout",
     "output_type": "stream",
     "text": [
      "              precision    recall  f1-score   support\n",
      "\n",
      "           0       1.00      1.00      1.00        81\n",
      "           1       1.00      1.00      1.00        70\n",
      "           2       1.00      1.00      1.00        72\n",
      "\n",
      "    accuracy                           1.00       223\n",
      "   macro avg       1.00      1.00      1.00       223\n",
      "weighted avg       1.00      1.00      1.00       223\n",
      "\n"
     ]
    }
   ],
   "source": [
    "print(classification_report(y_test, y_pred_gb))"
   ]
  },
  {
   "cell_type": "code",
   "execution_count": 43,
   "id": "1c085ff6-d27a-4c34-8d1f-a427534e0d2a",
   "metadata": {},
   "outputs": [
    {
     "name": "stdout",
     "output_type": "stream",
     "text": [
      "F1 Score: 1.0\n",
      "Accuracy: 1.0\n",
      "Recall 1.0\n",
      "Precision 1.0\n"
     ]
    }
   ],
   "source": [
    "print(\"F1 Score:\",round(f1_score(y_test, y_pred_gb, average='macro'),3))\n",
    "print(\"Accuracy:\",round(accuracy_score(y_test, y_pred_gb),3))\n",
    "print(\"Recall\", round(recall_score(y_test, y_pred_gb, average='macro'), 3))\n",
    "print(\"Precision\", round(precision_score(y_test, y_pred_gb, average='macro'),3))"
   ]
  },
  {
   "cell_type": "markdown",
   "id": "6c531dcb-0189-4c69-b783-86384af86af8",
   "metadata": {},
   "source": [
    "### XGB"
   ]
  },
  {
   "cell_type": "code",
   "execution_count": 44,
   "id": "28700682-855d-4b63-a954-e1f68d8f9fda",
   "metadata": {},
   "outputs": [],
   "source": [
    "xgb = XGBClassifier()\n",
    "xgb.fit(X_train, y_train)\n",
    "y_pred_xgb = xgb.predict(X_test)"
   ]
  },
  {
   "cell_type": "code",
   "execution_count": 45,
   "id": "535d4da5-29c5-41ad-9107-9b2a0c48f0f1",
   "metadata": {},
   "outputs": [
    {
     "name": "stdout",
     "output_type": "stream",
     "text": [
      "              precision    recall  f1-score   support\n",
      "\n",
      "           0       1.00      1.00      1.00        81\n",
      "           1       1.00      0.97      0.99        70\n",
      "           2       0.97      1.00      0.99        72\n",
      "\n",
      "    accuracy                           0.99       223\n",
      "   macro avg       0.99      0.99      0.99       223\n",
      "weighted avg       0.99      0.99      0.99       223\n",
      "\n"
     ]
    }
   ],
   "source": [
    "print(classification_report(y_test, y_pred_xgb))"
   ]
  },
  {
   "cell_type": "code",
   "execution_count": 46,
   "id": "d2c0edb8-4890-42a4-892c-d97beb6122b9",
   "metadata": {},
   "outputs": [
    {
     "name": "stdout",
     "output_type": "stream",
     "text": [
      "F1 Score: 0.991\n",
      "Accuracy: 0.991\n",
      "Recall 0.99\n",
      "Precision 0.991\n"
     ]
    }
   ],
   "source": [
    "print(\"F1 Score:\",round(f1_score(y_test, y_pred_xgb, average='macro'),3))\n",
    "print(\"Accuracy:\",round(accuracy_score(y_test, y_pred_xgb),3))\n",
    "print(\"Recall\", round(recall_score(y_test, y_pred_xgb, average='macro'), 3))\n",
    "print(\"Precision\", round(precision_score(y_test, y_pred_xgb, average='macro'),3))"
   ]
  },
  {
   "cell_type": "markdown",
   "id": "4fc23b21-037e-4a90-9b88-fc9806d1e9b3",
   "metadata": {},
   "source": [
    "### Support Vector"
   ]
  },
  {
   "cell_type": "code",
   "execution_count": 47,
   "id": "cb3be0dd-64e4-4451-8465-b288b22ae713",
   "metadata": {},
   "outputs": [],
   "source": [
    "svc = SVC(kernel='rbf',\n",
    "               gamma=0.5,\n",
    "               C=0.1)\n",
    "svc.fit(X_train, y_train)\n",
    "\n",
    "y_pred_svc = svc.predict(X_test)"
   ]
  },
  {
   "cell_type": "code",
   "execution_count": 48,
   "id": "69506516-e952-4fc1-be46-276bcb464603",
   "metadata": {},
   "outputs": [
    {
     "name": "stdout",
     "output_type": "stream",
     "text": [
      "              precision    recall  f1-score   support\n",
      "\n",
      "           0       0.80      1.00      0.89        81\n",
      "           1       0.89      0.77      0.82        70\n",
      "           2       1.00      0.85      0.92        72\n",
      "\n",
      "    accuracy                           0.88       223\n",
      "   macro avg       0.90      0.87      0.88       223\n",
      "weighted avg       0.89      0.88      0.88       223\n",
      "\n"
     ]
    }
   ],
   "source": [
    "print(classification_report(y_test, y_pred_svc))"
   ]
  },
  {
   "cell_type": "code",
   "execution_count": 49,
   "id": "3ff8dec7-f2ff-4d93-9103-bc38eb2d6a96",
   "metadata": {},
   "outputs": [
    {
     "name": "stdout",
     "output_type": "stream",
     "text": [
      "F1 Score: 0.877\n",
      "Accuracy: 0.879\n",
      "Recall 0.873\n",
      "Precision 0.896\n"
     ]
    }
   ],
   "source": [
    "print(\"F1 Score:\",round(f1_score(y_test, y_pred_svc, average='macro'),3))\n",
    "print(\"Accuracy:\",round(accuracy_score(y_test, y_pred_svc),3))\n",
    "print(\"Recall\", round(recall_score(y_test, y_pred_svc, average='macro'), 3))\n",
    "print(\"Precision\", round(precision_score(y_test, y_pred_svc, average='macro'),3))"
   ]
  },
  {
   "cell_type": "markdown",
   "id": "e2c4ef97-c128-411d-9512-700273a79527",
   "metadata": {},
   "source": [
    "### Naive Bayes"
   ]
  },
  {
   "cell_type": "code",
   "execution_count": 50,
   "id": "ab9c715f-c2b2-4b59-a31e-0419d9344c49",
   "metadata": {},
   "outputs": [],
   "source": [
    "nb = CategoricalNB()\n",
    "nb.fit(X_train, y_train)\n",
    "y_pred_nb = nb.predict(X_test)"
   ]
  },
  {
   "cell_type": "code",
   "execution_count": 51,
   "id": "cc5f34c0-775a-4143-9746-b75222b34b59",
   "metadata": {},
   "outputs": [
    {
     "name": "stdout",
     "output_type": "stream",
     "text": [
      "[2 1 2 2 2 0 1 0 2 2 1 2 1 0 2 0 0 0 0 1 0 0 1 1 1 0 0 0 0 2 0 2 0 1 0 2 0\n",
      " 1 0 1 0 0 0 2 0 0 0 2 2 0 2 2 1 1 2 1 0 2 1 1 0 0 0 0 1 2 0 2 1 2 1 2 2 0\n",
      " 0 2 2 1 0 1 1 0 1 1 1 2 0 1 2 0 0 2 2 2 0 0 0 1 1 0 0 1 1 0 0 1 0 2 1 2 0\n",
      " 0 2 2 1 0 0 2 2 1 2 2 1 1 0 2 0 1 0 0 2 1 1 0 0 2 1 0 0 2 0 1 2 1 0 2 1 2\n",
      " 2 1 1 1 1 1 0 0 2 1 1 2 1 2 0 0 2 0 1 2 1 1 2 2 1 1 1 0 0 0 1 2 1 1 2 1 0\n",
      " 2 0 0 0 2 1 1 2 0 0 1 0 0 2 0 1 2 2 2 0 2 1 2 1 2 1 1 2 0 1 0 0 1 2 0 1 0\n",
      " 2]\n"
     ]
    }
   ],
   "source": [
    "print(y_pred_nb)"
   ]
  },
  {
   "cell_type": "code",
   "execution_count": 52,
   "id": "63a9c8a3-a1ed-4e66-acf0-d2ef21c3ded0",
   "metadata": {},
   "outputs": [
    {
     "name": "stdout",
     "output_type": "stream",
     "text": [
      "              precision    recall  f1-score   support\n",
      "\n",
      "           0       0.98      1.00      0.99        81\n",
      "           1       0.86      0.89      0.87        70\n",
      "           2       0.91      0.86      0.89        72\n",
      "\n",
      "    accuracy                           0.92       223\n",
      "   macro avg       0.92      0.92      0.92       223\n",
      "weighted avg       0.92      0.92      0.92       223\n",
      "\n"
     ]
    }
   ],
   "source": [
    "print(classification_report(y_test, y_pred_nb))"
   ]
  },
  {
   "cell_type": "code",
   "execution_count": 53,
   "id": "44ae3fc8-da8c-4ce2-8c63-ee8ff2bbc78e",
   "metadata": {},
   "outputs": [
    {
     "name": "stdout",
     "output_type": "stream",
     "text": [
      "F1 Score: 0.916\n",
      "Accuracy: 0.919\n",
      "Recall 0.916\n",
      "Precision 0.916\n"
     ]
    }
   ],
   "source": [
    "print(\"F1 Score:\",round(f1_score(y_test, y_pred_nb, average='macro'),3))\n",
    "print(\"Accuracy:\",round(accuracy_score(y_test, y_pred_nb),3))\n",
    "print(\"Recall\", round(recall_score(y_test, y_pred_nb, average='macro'), 3))\n",
    "print(\"Precision\", round(precision_score(y_test, y_pred_nb, average='macro'),3))"
   ]
  },
  {
   "cell_type": "code",
   "execution_count": 54,
   "id": "2c10ec75-dcde-47ad-87bb-5c2a3dfc1225",
   "metadata": {},
   "outputs": [
    {
     "data": {
      "text/plain": [
       "7"
      ]
     },
     "execution_count": 54,
     "metadata": {},
     "output_type": "execute_result"
    }
   ],
   "source": [
    "X.shape[1]"
   ]
  },
  {
   "cell_type": "code",
   "execution_count": 55,
   "id": "5e32df7a-d5cb-4cdf-a01d-494f52141734",
   "metadata": {},
   "outputs": [
    {
     "data": {
      "text/plain": [
       "(2000,)"
      ]
     },
     "execution_count": 55,
     "metadata": {},
     "output_type": "execute_result"
    }
   ],
   "source": [
    "y_train.shape"
   ]
  },
  {
   "cell_type": "markdown",
   "id": "ae7683ae-ba09-492f-a065-54e39f8cbbf5",
   "metadata": {},
   "source": [
    "### Logistic Regression Multinomial"
   ]
  },
  {
   "cell_type": "code",
   "execution_count": 60,
   "id": "f0575a8c-e8e4-41b9-a2c2-4757504874d7",
   "metadata": {},
   "outputs": [
    {
     "name": "stderr",
     "output_type": "stream",
     "text": [
      "C:\\Users\\hanan\\anaconda3\\envs\\notebook\\Lib\\site-packages\\sklearn\\linear_model\\_logistic.py:469: ConvergenceWarning: lbfgs failed to converge (status=1):\n",
      "STOP: TOTAL NO. of ITERATIONS REACHED LIMIT.\n",
      "\n",
      "Increase the number of iterations (max_iter) or scale the data as shown in:\n",
      "    https://scikit-learn.org/stable/modules/preprocessing.html\n",
      "Please also refer to the documentation for alternative solver options:\n",
      "    https://scikit-learn.org/stable/modules/linear_model.html#logistic-regression\n",
      "  n_iter_i = _check_optimize_result(\n"
     ]
    }
   ],
   "source": [
    "lr = LogisticRegression(multi_class='multinomial', solver='lbfgs')\n",
    "lr.fit(X_train, y_train)\n",
    "y_pred_lr = lr.predict(X_test)"
   ]
  },
  {
   "cell_type": "code",
   "execution_count": 61,
   "id": "d271175d-3f67-46b7-b2e5-0acb30a3dee9",
   "metadata": {},
   "outputs": [
    {
     "name": "stdout",
     "output_type": "stream",
     "text": [
      "              precision    recall  f1-score   support\n",
      "\n",
      "           0       0.96      0.86      0.91        81\n",
      "           1       0.79      0.96      0.86        70\n",
      "           2       1.00      0.90      0.95        72\n",
      "\n",
      "    accuracy                           0.91       223\n",
      "   macro avg       0.92      0.91      0.91       223\n",
      "weighted avg       0.92      0.91      0.91       223\n",
      "\n"
     ]
    }
   ],
   "source": [
    "print(classification_report(y_test, y_pred_lr))"
   ]
  },
  {
   "cell_type": "code",
   "execution_count": 62,
   "id": "b623008d-f912-46b9-82c6-6631c034b11b",
   "metadata": {},
   "outputs": [
    {
     "name": "stdout",
     "output_type": "stream",
     "text": [
      "F1 Score: 0.908\n",
      "Accuracy: 0.906\n",
      "Recall 0.908\n",
      "Precision 0.916\n"
     ]
    }
   ],
   "source": [
    "print(\"F1 Score:\",round(f1_score(y_test, y_pred_lr, average='macro'),3))\n",
    "print(\"Accuracy:\",round(accuracy_score(y_test, y_pred_lr),3))\n",
    "print(\"Recall\", round(recall_score(y_test, y_pred_lr, average='macro'), 3))\n",
    "print(\"Precision\", round(precision_score(y_test, y_pred_lr, average='macro'),3))"
   ]
  },
  {
   "cell_type": "markdown",
   "id": "e32baa0c-4ce0-48e6-94cd-bd48e17d6d4e",
   "metadata": {},
   "source": [
    "### ANN"
   ]
  },
  {
   "cell_type": "code",
   "execution_count": 391,
   "id": "82cab81e-f519-4738-8a1d-ceb9f171d2b2",
   "metadata": {},
   "outputs": [
    {
     "name": "stderr",
     "output_type": "stream",
     "text": [
      "C:\\Users\\hanan\\anaconda3\\envs\\notebook\\Lib\\site-packages\\keras\\src\\layers\\core\\dense.py:87: UserWarning: Do not pass an `input_shape`/`input_dim` argument to a layer. When using Sequential models, prefer using an `Input(shape)` object as the first layer in the model instead.\n",
      "  super().__init__(activity_regularizer=activity_regularizer, **kwargs)\n"
     ]
    }
   ],
   "source": [
    "model = Sequential()\n",
    "model.add(Dense(8, input_shape=(X.shape[1],), activation='relu'))\n",
    "model.add(Dense(10, activation='relu'))\n",
    "model.add(Dense(10, activation='relu'))\n",
    "model.add(Dense(10, activation='relu'))\n",
    "model.add(Dense(3, activation='softmax'))"
   ]
  },
  {
   "cell_type": "code",
   "execution_count": 392,
   "id": "54d9f737-46d4-4c75-acb6-bdc2286bf555",
   "metadata": {},
   "outputs": [
    {
     "data": {
      "text/html": [
       "<pre style=\"white-space:pre;overflow-x:auto;line-height:normal;font-family:Menlo,'DejaVu Sans Mono',consolas,'Courier New',monospace\"><span style=\"font-weight: bold\">Model: \"sequential_39\"</span>\n",
       "</pre>\n"
      ],
      "text/plain": [
       "\u001b[1mModel: \"sequential_39\"\u001b[0m\n"
      ]
     },
     "metadata": {},
     "output_type": "display_data"
    },
    {
     "data": {
      "text/html": [
       "<pre style=\"white-space:pre;overflow-x:auto;line-height:normal;font-family:Menlo,'DejaVu Sans Mono',consolas,'Courier New',monospace\">┏━━━━━━━━━━━━━━━━━━━━━━━━━━━━━━━━━┳━━━━━━━━━━━━━━━━━━━━━━━━┳━━━━━━━━━━━━━━━┓\n",
       "┃<span style=\"font-weight: bold\"> Layer (type)                    </span>┃<span style=\"font-weight: bold\"> Output Shape           </span>┃<span style=\"font-weight: bold\">       Param # </span>┃\n",
       "┡━━━━━━━━━━━━━━━━━━━━━━━━━━━━━━━━━╇━━━━━━━━━━━━━━━━━━━━━━━━╇━━━━━━━━━━━━━━━┩\n",
       "│ dense_156 (<span style=\"color: #0087ff; text-decoration-color: #0087ff\">Dense</span>)               │ (<span style=\"color: #00d7ff; text-decoration-color: #00d7ff\">None</span>, <span style=\"color: #00af00; text-decoration-color: #00af00\">8</span>)              │            <span style=\"color: #00af00; text-decoration-color: #00af00\">64</span> │\n",
       "├─────────────────────────────────┼────────────────────────┼───────────────┤\n",
       "│ dense_157 (<span style=\"color: #0087ff; text-decoration-color: #0087ff\">Dense</span>)               │ (<span style=\"color: #00d7ff; text-decoration-color: #00d7ff\">None</span>, <span style=\"color: #00af00; text-decoration-color: #00af00\">10</span>)             │            <span style=\"color: #00af00; text-decoration-color: #00af00\">90</span> │\n",
       "├─────────────────────────────────┼────────────────────────┼───────────────┤\n",
       "│ dense_158 (<span style=\"color: #0087ff; text-decoration-color: #0087ff\">Dense</span>)               │ (<span style=\"color: #00d7ff; text-decoration-color: #00d7ff\">None</span>, <span style=\"color: #00af00; text-decoration-color: #00af00\">10</span>)             │           <span style=\"color: #00af00; text-decoration-color: #00af00\">110</span> │\n",
       "├─────────────────────────────────┼────────────────────────┼───────────────┤\n",
       "│ dense_159 (<span style=\"color: #0087ff; text-decoration-color: #0087ff\">Dense</span>)               │ (<span style=\"color: #00d7ff; text-decoration-color: #00d7ff\">None</span>, <span style=\"color: #00af00; text-decoration-color: #00af00\">10</span>)             │           <span style=\"color: #00af00; text-decoration-color: #00af00\">110</span> │\n",
       "├─────────────────────────────────┼────────────────────────┼───────────────┤\n",
       "│ dense_160 (<span style=\"color: #0087ff; text-decoration-color: #0087ff\">Dense</span>)               │ (<span style=\"color: #00d7ff; text-decoration-color: #00d7ff\">None</span>, <span style=\"color: #00af00; text-decoration-color: #00af00\">3</span>)              │            <span style=\"color: #00af00; text-decoration-color: #00af00\">33</span> │\n",
       "└─────────────────────────────────┴────────────────────────┴───────────────┘\n",
       "</pre>\n"
      ],
      "text/plain": [
       "┏━━━━━━━━━━━━━━━━━━━━━━━━━━━━━━━━━┳━━━━━━━━━━━━━━━━━━━━━━━━┳━━━━━━━━━━━━━━━┓\n",
       "┃\u001b[1m \u001b[0m\u001b[1mLayer (type)                   \u001b[0m\u001b[1m \u001b[0m┃\u001b[1m \u001b[0m\u001b[1mOutput Shape          \u001b[0m\u001b[1m \u001b[0m┃\u001b[1m \u001b[0m\u001b[1m      Param #\u001b[0m\u001b[1m \u001b[0m┃\n",
       "┡━━━━━━━━━━━━━━━━━━━━━━━━━━━━━━━━━╇━━━━━━━━━━━━━━━━━━━━━━━━╇━━━━━━━━━━━━━━━┩\n",
       "│ dense_156 (\u001b[38;5;33mDense\u001b[0m)               │ (\u001b[38;5;45mNone\u001b[0m, \u001b[38;5;34m8\u001b[0m)              │            \u001b[38;5;34m64\u001b[0m │\n",
       "├─────────────────────────────────┼────────────────────────┼───────────────┤\n",
       "│ dense_157 (\u001b[38;5;33mDense\u001b[0m)               │ (\u001b[38;5;45mNone\u001b[0m, \u001b[38;5;34m10\u001b[0m)             │            \u001b[38;5;34m90\u001b[0m │\n",
       "├─────────────────────────────────┼────────────────────────┼───────────────┤\n",
       "│ dense_158 (\u001b[38;5;33mDense\u001b[0m)               │ (\u001b[38;5;45mNone\u001b[0m, \u001b[38;5;34m10\u001b[0m)             │           \u001b[38;5;34m110\u001b[0m │\n",
       "├─────────────────────────────────┼────────────────────────┼───────────────┤\n",
       "│ dense_159 (\u001b[38;5;33mDense\u001b[0m)               │ (\u001b[38;5;45mNone\u001b[0m, \u001b[38;5;34m10\u001b[0m)             │           \u001b[38;5;34m110\u001b[0m │\n",
       "├─────────────────────────────────┼────────────────────────┼───────────────┤\n",
       "│ dense_160 (\u001b[38;5;33mDense\u001b[0m)               │ (\u001b[38;5;45mNone\u001b[0m, \u001b[38;5;34m3\u001b[0m)              │            \u001b[38;5;34m33\u001b[0m │\n",
       "└─────────────────────────────────┴────────────────────────┴───────────────┘\n"
      ]
     },
     "metadata": {},
     "output_type": "display_data"
    },
    {
     "data": {
      "text/html": [
       "<pre style=\"white-space:pre;overflow-x:auto;line-height:normal;font-family:Menlo,'DejaVu Sans Mono',consolas,'Courier New',monospace\"><span style=\"font-weight: bold\"> Total params: </span><span style=\"color: #00af00; text-decoration-color: #00af00\">407</span> (1.59 KB)\n",
       "</pre>\n"
      ],
      "text/plain": [
       "\u001b[1m Total params: \u001b[0m\u001b[38;5;34m407\u001b[0m (1.59 KB)\n"
      ]
     },
     "metadata": {},
     "output_type": "display_data"
    },
    {
     "data": {
      "text/html": [
       "<pre style=\"white-space:pre;overflow-x:auto;line-height:normal;font-family:Menlo,'DejaVu Sans Mono',consolas,'Courier New',monospace\"><span style=\"font-weight: bold\"> Trainable params: </span><span style=\"color: #00af00; text-decoration-color: #00af00\">407</span> (1.59 KB)\n",
       "</pre>\n"
      ],
      "text/plain": [
       "\u001b[1m Trainable params: \u001b[0m\u001b[38;5;34m407\u001b[0m (1.59 KB)\n"
      ]
     },
     "metadata": {},
     "output_type": "display_data"
    },
    {
     "data": {
      "text/html": [
       "<pre style=\"white-space:pre;overflow-x:auto;line-height:normal;font-family:Menlo,'DejaVu Sans Mono',consolas,'Courier New',monospace\"><span style=\"font-weight: bold\"> Non-trainable params: </span><span style=\"color: #00af00; text-decoration-color: #00af00\">0</span> (0.00 B)\n",
       "</pre>\n"
      ],
      "text/plain": [
       "\u001b[1m Non-trainable params: \u001b[0m\u001b[38;5;34m0\u001b[0m (0.00 B)\n"
      ]
     },
     "metadata": {},
     "output_type": "display_data"
    }
   ],
   "source": [
    "model.summary()"
   ]
  },
  {
   "cell_type": "code",
   "execution_count": 393,
   "id": "7b561514-8050-4b79-8e16-a37a013f848d",
   "metadata": {},
   "outputs": [
    {
     "name": "stdout",
     "output_type": "stream",
     "text": [
      "Epoch 1/15\n",
      "\u001b[1m400/400\u001b[0m \u001b[32m━━━━━━━━━━━━━━━━━━━━\u001b[0m\u001b[37m\u001b[0m \u001b[1m6s\u001b[0m 3ms/step - accuracy: 0.6345 - loss: 1.6826\n",
      "Epoch 2/15\n",
      "\u001b[1m400/400\u001b[0m \u001b[32m━━━━━━━━━━━━━━━━━━━━\u001b[0m\u001b[37m\u001b[0m \u001b[1m1s\u001b[0m 3ms/step - accuracy: 0.8143 - loss: 0.3953\n",
      "Epoch 3/15\n",
      "\u001b[1m400/400\u001b[0m \u001b[32m━━━━━━━━━━━━━━━━━━━━\u001b[0m\u001b[37m\u001b[0m \u001b[1m2s\u001b[0m 4ms/step - accuracy: 0.8388 - loss: 0.3395\n",
      "Epoch 4/15\n",
      "\u001b[1m400/400\u001b[0m \u001b[32m━━━━━━━━━━━━━━━━━━━━\u001b[0m\u001b[37m\u001b[0m \u001b[1m2s\u001b[0m 4ms/step - accuracy: 0.8483 - loss: 0.3314\n",
      "Epoch 5/15\n",
      "\u001b[1m400/400\u001b[0m \u001b[32m━━━━━━━━━━━━━━━━━━━━\u001b[0m\u001b[37m\u001b[0m \u001b[1m2s\u001b[0m 4ms/step - accuracy: 0.8465 - loss: 0.3131\n",
      "Epoch 6/15\n",
      "\u001b[1m400/400\u001b[0m \u001b[32m━━━━━━━━━━━━━━━━━━━━\u001b[0m\u001b[37m\u001b[0m \u001b[1m2s\u001b[0m 4ms/step - accuracy: 0.8807 - loss: 0.2637\n",
      "Epoch 7/15\n",
      "\u001b[1m400/400\u001b[0m \u001b[32m━━━━━━━━━━━━━━━━━━━━\u001b[0m\u001b[37m\u001b[0m \u001b[1m1s\u001b[0m 3ms/step - accuracy: 0.8749 - loss: 0.2735\n",
      "Epoch 8/15\n",
      "\u001b[1m400/400\u001b[0m \u001b[32m━━━━━━━━━━━━━━━━━━━━\u001b[0m\u001b[37m\u001b[0m \u001b[1m2s\u001b[0m 4ms/step - accuracy: 0.8953 - loss: 0.2533\n",
      "Epoch 9/15\n",
      "\u001b[1m400/400\u001b[0m \u001b[32m━━━━━━━━━━━━━━━━━━━━\u001b[0m\u001b[37m\u001b[0m \u001b[1m1s\u001b[0m 3ms/step - accuracy: 0.8750 - loss: 0.2627\n",
      "Epoch 10/15\n",
      "\u001b[1m400/400\u001b[0m \u001b[32m━━━━━━━━━━━━━━━━━━━━\u001b[0m\u001b[37m\u001b[0m \u001b[1m2s\u001b[0m 4ms/step - accuracy: 0.8953 - loss: 0.2271\n",
      "Epoch 11/15\n",
      "\u001b[1m400/400\u001b[0m \u001b[32m━━━━━━━━━━━━━━━━━━━━\u001b[0m\u001b[37m\u001b[0m \u001b[1m2s\u001b[0m 4ms/step - accuracy: 0.9169 - loss: 0.1963\n",
      "Epoch 12/15\n",
      "\u001b[1m400/400\u001b[0m \u001b[32m━━━━━━━━━━━━━━━━━━━━\u001b[0m\u001b[37m\u001b[0m \u001b[1m2s\u001b[0m 4ms/step - accuracy: 0.9371 - loss: 0.1644\n",
      "Epoch 13/15\n",
      "\u001b[1m400/400\u001b[0m \u001b[32m━━━━━━━━━━━━━━━━━━━━\u001b[0m\u001b[37m\u001b[0m \u001b[1m2s\u001b[0m 4ms/step - accuracy: 0.9339 - loss: 0.1689\n",
      "Epoch 14/15\n",
      "\u001b[1m400/400\u001b[0m \u001b[32m━━━━━━━━━━━━━━━━━━━━\u001b[0m\u001b[37m\u001b[0m \u001b[1m2s\u001b[0m 4ms/step - accuracy: 0.9398 - loss: 0.1468\n",
      "Epoch 15/15\n",
      "\u001b[1m400/400\u001b[0m \u001b[32m━━━━━━━━━━━━━━━━━━━━\u001b[0m\u001b[37m\u001b[0m \u001b[1m2s\u001b[0m 4ms/step - accuracy: 0.9579 - loss: 0.1317\n"
     ]
    },
    {
     "data": {
      "text/plain": [
       "<keras.src.callbacks.history.History at 0x1f53d0c5950>"
      ]
     },
     "execution_count": 393,
     "metadata": {},
     "output_type": "execute_result"
    }
   ],
   "source": [
    "model.compile(loss='sparse_categorical_crossentropy', optimizer='adam', metrics=['accuracy'])\n",
    "model.fit(X_train, y_train, epochs =15, batch_size = 5, shuffle=True, verbose=1)\n"
   ]
  },
  {
   "cell_type": "code",
   "execution_count": 394,
   "id": "f88e9ae3-24ee-475a-93bc-6dd8907bc383",
   "metadata": {},
   "outputs": [
    {
     "name": "stdout",
     "output_type": "stream",
     "text": [
      "\u001b[1m7/7\u001b[0m \u001b[32m━━━━━━━━━━━━━━━━━━━━\u001b[0m\u001b[37m\u001b[0m \u001b[1m0s\u001b[0m 34ms/step\n"
     ]
    }
   ],
   "source": [
    "# y_pred_ann = model.predict(X_test).round()\n",
    "y_pred_prob = model.predict(X_test)\n",
    "y_pred_ann = tf.argmax(y_pred_prob, axis=1)"
   ]
  },
  {
   "cell_type": "code",
   "execution_count": 395,
   "id": "da537534-2a7e-447e-b951-339b430d6550",
   "metadata": {},
   "outputs": [
    {
     "name": "stdout",
     "output_type": "stream",
     "text": [
      "F1 Score: 0.955\n",
      "Accuracy: 0.955\n",
      "Recall 0.957\n",
      "Precision 0.956\n"
     ]
    }
   ],
   "source": [
    "print(\"F1 Score:\",round(f1_score(y_test, y_pred_ann, average='macro'),3))\n",
    "print(\"Accuracy:\",round(accuracy_score(y_test, y_pred_ann),3))\n",
    "print(\"Recall\", round(recall_score(y_test, y_pred_ann, average='macro'), 3))\n",
    "print(\"Precision\", round(precision_score(y_test, y_pred_ann, average='macro'),3))"
   ]
  },
  {
   "cell_type": "markdown",
   "id": "44d235fe-39bf-4cf6-b0a2-d49afd7dfe5a",
   "metadata": {},
   "source": [
    "## Test 20"
   ]
  },
  {
   "cell_type": "code",
   "execution_count": 63,
   "id": "946d9bd8-9a55-4059-afc5-c1a2d06e1e43",
   "metadata": {},
   "outputs": [],
   "source": [
    "X_train, X_test, y_train, y_test = train_test_split(X, y, test_size=0.2, random_state=42)"
   ]
  },
  {
   "cell_type": "code",
   "execution_count": 64,
   "id": "04862065-6fe4-43a7-8f62-4f5ec50c86a7",
   "metadata": {},
   "outputs": [
    {
     "data": {
      "text/html": [
       "<div>\n",
       "<style scoped>\n",
       "    .dataframe tbody tr th:only-of-type {\n",
       "        vertical-align: middle;\n",
       "    }\n",
       "\n",
       "    .dataframe tbody tr th {\n",
       "        vertical-align: top;\n",
       "    }\n",
       "\n",
       "    .dataframe thead th {\n",
       "        text-align: right;\n",
       "    }\n",
       "</style>\n",
       "<table border=\"1\" class=\"dataframe\">\n",
       "  <thead>\n",
       "    <tr style=\"text-align: right;\">\n",
       "      <th></th>\n",
       "      <th>kanal</th>\n",
       "      <th>spasi_kanal_(ghz)</th>\n",
       "      <th>power_(dbm)</th>\n",
       "      <th>panjang_kabel_(km)</th>\n",
       "      <th>redaman_(dbm/km)</th>\n",
       "      <th>osnr_(db)</th>\n",
       "      <th>q_factor</th>\n",
       "    </tr>\n",
       "  </thead>\n",
       "  <tbody>\n",
       "    <tr>\n",
       "      <th>23</th>\n",
       "      <td>4</td>\n",
       "      <td>50</td>\n",
       "      <td>3</td>\n",
       "      <td>60</td>\n",
       "      <td>0.400000</td>\n",
       "      <td>22.140000</td>\n",
       "      <td>5.310000</td>\n",
       "    </tr>\n",
       "    <tr>\n",
       "      <th>1903</th>\n",
       "      <td>8</td>\n",
       "      <td>50</td>\n",
       "      <td>4</td>\n",
       "      <td>70</td>\n",
       "      <td>0.100000</td>\n",
       "      <td>22.130000</td>\n",
       "      <td>5.090262</td>\n",
       "    </tr>\n",
       "    <tr>\n",
       "      <th>427</th>\n",
       "      <td>16</td>\n",
       "      <td>200</td>\n",
       "      <td>4</td>\n",
       "      <td>50</td>\n",
       "      <td>0.300000</td>\n",
       "      <td>36.900000</td>\n",
       "      <td>15.270000</td>\n",
       "    </tr>\n",
       "    <tr>\n",
       "      <th>554</th>\n",
       "      <td>4</td>\n",
       "      <td>100</td>\n",
       "      <td>1</td>\n",
       "      <td>70</td>\n",
       "      <td>0.200000</td>\n",
       "      <td>31.840000</td>\n",
       "      <td>7.260000</td>\n",
       "    </tr>\n",
       "    <tr>\n",
       "      <th>1767</th>\n",
       "      <td>4</td>\n",
       "      <td>50</td>\n",
       "      <td>4</td>\n",
       "      <td>70</td>\n",
       "      <td>0.197665</td>\n",
       "      <td>22.139766</td>\n",
       "      <td>5.075817</td>\n",
       "    </tr>\n",
       "    <tr>\n",
       "      <th>...</th>\n",
       "      <td>...</td>\n",
       "      <td>...</td>\n",
       "      <td>...</td>\n",
       "      <td>...</td>\n",
       "      <td>...</td>\n",
       "      <td>...</td>\n",
       "      <td>...</td>\n",
       "    </tr>\n",
       "    <tr>\n",
       "      <th>1638</th>\n",
       "      <td>16</td>\n",
       "      <td>50</td>\n",
       "      <td>4</td>\n",
       "      <td>70</td>\n",
       "      <td>0.118620</td>\n",
       "      <td>22.133724</td>\n",
       "      <td>5.131862</td>\n",
       "    </tr>\n",
       "    <tr>\n",
       "      <th>1095</th>\n",
       "      <td>4</td>\n",
       "      <td>50</td>\n",
       "      <td>5</td>\n",
       "      <td>60</td>\n",
       "      <td>0.226623</td>\n",
       "      <td>22.092013</td>\n",
       "      <td>5.852045</td>\n",
       "    </tr>\n",
       "    <tr>\n",
       "      <th>1130</th>\n",
       "      <td>4</td>\n",
       "      <td>200</td>\n",
       "      <td>0</td>\n",
       "      <td>65</td>\n",
       "      <td>0.345067</td>\n",
       "      <td>36.898027</td>\n",
       "      <td>6.533240</td>\n",
       "    </tr>\n",
       "    <tr>\n",
       "      <th>1294</th>\n",
       "      <td>16</td>\n",
       "      <td>50</td>\n",
       "      <td>2</td>\n",
       "      <td>60</td>\n",
       "      <td>0.091845</td>\n",
       "      <td>22.129399</td>\n",
       "      <td>5.794292</td>\n",
       "    </tr>\n",
       "    <tr>\n",
       "      <th>860</th>\n",
       "      <td>8</td>\n",
       "      <td>150</td>\n",
       "      <td>5</td>\n",
       "      <td>60</td>\n",
       "      <td>0.200000</td>\n",
       "      <td>36.350000</td>\n",
       "      <td>10.300000</td>\n",
       "    </tr>\n",
       "  </tbody>\n",
       "</table>\n",
       "<p>1778 rows × 7 columns</p>\n",
       "</div>"
      ],
      "text/plain": [
       "      kanal  spasi_kanal_(ghz)  power_(dbm)  panjang_kabel_(km)  \\\n",
       "23        4                 50            3                  60   \n",
       "1903      8                 50            4                  70   \n",
       "427      16                200            4                  50   \n",
       "554       4                100            1                  70   \n",
       "1767      4                 50            4                  70   \n",
       "...     ...                ...          ...                 ...   \n",
       "1638     16                 50            4                  70   \n",
       "1095      4                 50            5                  60   \n",
       "1130      4                200            0                  65   \n",
       "1294     16                 50            2                  60   \n",
       "860       8                150            5                  60   \n",
       "\n",
       "      redaman_(dbm/km)  osnr_(db)   q_factor  \n",
       "23            0.400000  22.140000   5.310000  \n",
       "1903          0.100000  22.130000   5.090262  \n",
       "427           0.300000  36.900000  15.270000  \n",
       "554           0.200000  31.840000   7.260000  \n",
       "1767          0.197665  22.139766   5.075817  \n",
       "...                ...        ...        ...  \n",
       "1638          0.118620  22.133724   5.131862  \n",
       "1095          0.226623  22.092013   5.852045  \n",
       "1130          0.345067  36.898027   6.533240  \n",
       "1294          0.091845  22.129399   5.794292  \n",
       "860           0.200000  36.350000  10.300000  \n",
       "\n",
       "[1778 rows x 7 columns]"
      ]
     },
     "execution_count": 64,
     "metadata": {},
     "output_type": "execute_result"
    }
   ],
   "source": [
    "X_train"
   ]
  },
  {
   "cell_type": "markdown",
   "id": "e1a2ac45-2df6-49b8-af62-d85e9fb8602a",
   "metadata": {},
   "source": [
    "### KNeighbors"
   ]
  },
  {
   "cell_type": "code",
   "execution_count": 65,
   "id": "2e0ba37f-95ac-4544-96cf-2d4c9a6bd1a0",
   "metadata": {},
   "outputs": [],
   "source": [
    "knn = KNeighborsClassifier()\n",
    "knn.fit(X_train, y_train)\n",
    "\n",
    "y_pred_knn = knn.predict(X_test)"
   ]
  },
  {
   "cell_type": "code",
   "execution_count": 66,
   "id": "9f8416a5-46a7-44f3-aa87-fa465bdb493d",
   "metadata": {},
   "outputs": [
    {
     "name": "stdout",
     "output_type": "stream",
     "text": [
      "              precision    recall  f1-score   support\n",
      "\n",
      "           0       0.99      0.99      0.99       159\n",
      "           1       0.98      0.99      0.99       134\n",
      "           2       1.00      0.99      0.99       152\n",
      "\n",
      "    accuracy                           0.99       445\n",
      "   macro avg       0.99      0.99      0.99       445\n",
      "weighted avg       0.99      0.99      0.99       445\n",
      "\n"
     ]
    }
   ],
   "source": [
    "print(classification_report(y_test, y_pred_knn))"
   ]
  },
  {
   "cell_type": "code",
   "execution_count": 67,
   "id": "4b49f6db-d243-4445-a5c2-1982eb6429da",
   "metadata": {},
   "outputs": [
    {
     "name": "stdout",
     "output_type": "stream",
     "text": [
      "F1 Score: 0.991\n",
      "Accuracy: 0.991\n",
      "Recall 0.991\n",
      "Precision 0.991\n"
     ]
    }
   ],
   "source": [
    "print(\"F1 Score:\",round(f1_score(y_test, y_pred_knn, average='macro'),3))\n",
    "print(\"Accuracy:\",round(accuracy_score(y_test, y_pred_knn),3))\n",
    "print(\"Recall\", round(recall_score(y_test, y_pred_knn, average='macro'), 3))\n",
    "print(\"Precision\", round(precision_score(y_test, y_pred_knn, average='macro'),3))"
   ]
  },
  {
   "cell_type": "markdown",
   "id": "111fe311-f869-4343-94c1-a203768063d8",
   "metadata": {},
   "source": [
    "### Decision Tree"
   ]
  },
  {
   "cell_type": "code",
   "execution_count": 68,
   "id": "8fffd6dd-c865-4077-884c-9c4a3b2411ea",
   "metadata": {},
   "outputs": [],
   "source": [
    "dtc = DecisionTreeClassifier()\n",
    "dtc.fit(X_train, y_train)\n",
    "y_pred_dtc = dtc.predict(X_test)"
   ]
  },
  {
   "cell_type": "code",
   "execution_count": 69,
   "id": "036a363f-db3d-4cbf-bdd5-b7ed69995bf6",
   "metadata": {},
   "outputs": [
    {
     "name": "stdout",
     "output_type": "stream",
     "text": [
      "              precision    recall  f1-score   support\n",
      "\n",
      "           0       1.00      1.00      1.00       159\n",
      "           1       1.00      1.00      1.00       134\n",
      "           2       1.00      1.00      1.00       152\n",
      "\n",
      "    accuracy                           1.00       445\n",
      "   macro avg       1.00      1.00      1.00       445\n",
      "weighted avg       1.00      1.00      1.00       445\n",
      "\n"
     ]
    }
   ],
   "source": [
    "print(classification_report(y_test, y_pred_dtc))"
   ]
  },
  {
   "cell_type": "code",
   "execution_count": 70,
   "id": "602d74b2-98d4-49f7-8e58-d52c799cf2e1",
   "metadata": {},
   "outputs": [
    {
     "name": "stdout",
     "output_type": "stream",
     "text": [
      "F1 Score: 1.0\n",
      "Accuracy: 1.0\n",
      "Recall 1.0\n",
      "Precision 1.0\n"
     ]
    }
   ],
   "source": [
    "print(\"F1 Score:\",round(f1_score(y_test, y_pred_dtc, average='macro'),3))\n",
    "print(\"Accuracy:\",round(accuracy_score(y_test, y_pred_dtc),3))\n",
    "print(\"Recall\", round(recall_score(y_test, y_pred_dtc, average='macro'), 3))\n",
    "print(\"Precision\", round(precision_score(y_test, y_pred_dtc, average='macro'),3))"
   ]
  },
  {
   "cell_type": "markdown",
   "id": "d2905cf2-2bb9-46bc-8531-c7122b7ab2a3",
   "metadata": {},
   "source": [
    "### Random Forest"
   ]
  },
  {
   "cell_type": "code",
   "execution_count": 71,
   "id": "37a22c99-fe6d-4882-a51c-4b6f0428bb7b",
   "metadata": {},
   "outputs": [],
   "source": [
    "rf = RandomForestClassifier(n_estimators=40)\n",
    "rf.fit(X_train, y_train)\n",
    "y_pred_rf = rf.predict(X_test)"
   ]
  },
  {
   "cell_type": "code",
   "execution_count": 72,
   "id": "6afb81b9-034e-4919-8f6f-2a2263bf51af",
   "metadata": {},
   "outputs": [
    {
     "name": "stdout",
     "output_type": "stream",
     "text": [
      "              precision    recall  f1-score   support\n",
      "\n",
      "           0       1.00      1.00      1.00       159\n",
      "           1       1.00      1.00      1.00       134\n",
      "           2       1.00      1.00      1.00       152\n",
      "\n",
      "    accuracy                           1.00       445\n",
      "   macro avg       1.00      1.00      1.00       445\n",
      "weighted avg       1.00      1.00      1.00       445\n",
      "\n"
     ]
    }
   ],
   "source": [
    "print(classification_report(y_test, y_pred_rf))"
   ]
  },
  {
   "cell_type": "code",
   "execution_count": 73,
   "id": "5da75307-6ea5-45e4-b040-89866ad06953",
   "metadata": {},
   "outputs": [
    {
     "name": "stdout",
     "output_type": "stream",
     "text": [
      "F1 Score: 1.0\n",
      "Accuracy: 1.0\n",
      "Recall 1.0\n",
      "Precision 1.0\n"
     ]
    }
   ],
   "source": [
    "print(\"F1 Score:\",round(f1_score(y_test, y_pred_rf, average='macro'),3))\n",
    "print(\"Accuracy:\",round(accuracy_score(y_test, y_pred_rf),3))\n",
    "print(\"Recall\", round(recall_score(y_test, y_pred_rf, average='macro'), 3))\n",
    "print(\"Precision\", round(precision_score(y_test, y_pred_rf, average='macro'),3))"
   ]
  },
  {
   "cell_type": "markdown",
   "id": "d6242734-5639-4913-884f-a706042151b2",
   "metadata": {},
   "source": [
    "### Gradient Boosting"
   ]
  },
  {
   "cell_type": "code",
   "execution_count": 74,
   "id": "f854c6ce-2096-4b2a-bc47-d612e59a7ef3",
   "metadata": {},
   "outputs": [],
   "source": [
    "gb = GradientBoostingClassifier()\n",
    "gb.fit(X_train, y_train)\n",
    "y_pred_gb = gb.predict(X_test)"
   ]
  },
  {
   "cell_type": "code",
   "execution_count": 75,
   "id": "f1667ed3-62dc-42e3-a599-30875e4cc0d7",
   "metadata": {},
   "outputs": [
    {
     "name": "stdout",
     "output_type": "stream",
     "text": [
      "              precision    recall  f1-score   support\n",
      "\n",
      "           0       1.00      1.00      1.00       159\n",
      "           1       1.00      1.00      1.00       134\n",
      "           2       1.00      1.00      1.00       152\n",
      "\n",
      "    accuracy                           1.00       445\n",
      "   macro avg       1.00      1.00      1.00       445\n",
      "weighted avg       1.00      1.00      1.00       445\n",
      "\n"
     ]
    }
   ],
   "source": [
    "print(classification_report(y_test, y_pred_gb))"
   ]
  },
  {
   "cell_type": "code",
   "execution_count": 76,
   "id": "e7b654fe-d3b0-41ef-9ff8-2944d89c9bef",
   "metadata": {},
   "outputs": [
    {
     "name": "stdout",
     "output_type": "stream",
     "text": [
      "F1 Score: 1.0\n",
      "Accuracy: 1.0\n",
      "Recall 1.0\n",
      "Precision 1.0\n"
     ]
    }
   ],
   "source": [
    "print(\"F1 Score:\",round(f1_score(y_test, y_pred_gb, average='macro'),3))\n",
    "print(\"Accuracy:\",round(accuracy_score(y_test, y_pred_gb),3))\n",
    "print(\"Recall\", round(recall_score(y_test, y_pred_gb, average='macro'), 3))\n",
    "print(\"Precision\", round(precision_score(y_test, y_pred_gb, average='macro'),3))"
   ]
  },
  {
   "cell_type": "markdown",
   "id": "ed16b658-266c-4ddc-a9dc-3fcd16cadd04",
   "metadata": {},
   "source": [
    "### XGB"
   ]
  },
  {
   "cell_type": "code",
   "execution_count": 77,
   "id": "d9ebc303-c874-410f-a96a-8663fce5edb3",
   "metadata": {},
   "outputs": [],
   "source": [
    "xgb = XGBClassifier()\n",
    "xgb.fit(X_train, y_train)\n",
    "y_pred_xgb = xgb.predict(X_test)"
   ]
  },
  {
   "cell_type": "code",
   "execution_count": 78,
   "id": "435f113b-ae20-4049-afd4-373b027396b4",
   "metadata": {},
   "outputs": [
    {
     "name": "stdout",
     "output_type": "stream",
     "text": [
      "              precision    recall  f1-score   support\n",
      "\n",
      "           0       1.00      1.00      1.00       159\n",
      "           1       1.00      1.00      1.00       134\n",
      "           2       1.00      1.00      1.00       152\n",
      "\n",
      "    accuracy                           1.00       445\n",
      "   macro avg       1.00      1.00      1.00       445\n",
      "weighted avg       1.00      1.00      1.00       445\n",
      "\n"
     ]
    }
   ],
   "source": [
    "print(classification_report(y_test, y_pred_xgb))"
   ]
  },
  {
   "cell_type": "code",
   "execution_count": 79,
   "id": "c6944ded-f46b-401b-8096-db5fdad788ca",
   "metadata": {},
   "outputs": [
    {
     "name": "stdout",
     "output_type": "stream",
     "text": [
      "F1 Score: 1.0\n",
      "Accuracy: 1.0\n",
      "Recall 1.0\n",
      "Precision 1.0\n"
     ]
    }
   ],
   "source": [
    "print(\"F1 Score:\",round(f1_score(y_test, y_pred_xgb, average='macro'),3))\n",
    "print(\"Accuracy:\",round(accuracy_score(y_test, y_pred_xgb),3))\n",
    "print(\"Recall\", round(recall_score(y_test, y_pred_xgb, average='macro'), 3))\n",
    "print(\"Precision\", round(precision_score(y_test, y_pred_xgb, average='macro'),3))"
   ]
  },
  {
   "cell_type": "markdown",
   "id": "a4a5ad41-394e-41b9-a566-a27cf3893465",
   "metadata": {},
   "source": [
    "### Support Vector"
   ]
  },
  {
   "cell_type": "code",
   "execution_count": 80,
   "id": "54bdc8b6-7976-47d4-83b3-066666adedc6",
   "metadata": {},
   "outputs": [],
   "source": [
    "svc = SVC(kernel='rbf',\n",
    "               gamma=0.5,\n",
    "               C=0.1)\n",
    "svc.fit(X_train, y_train)\n",
    "\n",
    "y_pred_svc = svc.predict(X_test)"
   ]
  },
  {
   "cell_type": "code",
   "execution_count": 81,
   "id": "aba5fbab-0cb3-4ab7-beae-550aaa89d93a",
   "metadata": {},
   "outputs": [
    {
     "name": "stdout",
     "output_type": "stream",
     "text": [
      "              precision    recall  f1-score   support\n",
      "\n",
      "           0       0.82      1.00      0.90       159\n",
      "           1       0.79      0.79      0.79       134\n",
      "           2       1.00      0.78      0.87       152\n",
      "\n",
      "    accuracy                           0.86       445\n",
      "   macro avg       0.87      0.86      0.86       445\n",
      "weighted avg       0.87      0.86      0.86       445\n",
      "\n"
     ]
    }
   ],
   "source": [
    "print(classification_report(y_test, y_pred_svc))"
   ]
  },
  {
   "cell_type": "code",
   "execution_count": 82,
   "id": "4ae3e47a-a327-48b8-af54-c2827f902d7e",
   "metadata": {},
   "outputs": [
    {
     "name": "stdout",
     "output_type": "stream",
     "text": [
      "F1 Score: 0.856\n",
      "Accuracy: 0.861\n",
      "Recall 0.856\n",
      "Precision 0.872\n"
     ]
    }
   ],
   "source": [
    "print(\"F1 Score:\",round(f1_score(y_test, y_pred_svc, average='macro'),3))\n",
    "print(\"Accuracy:\",round(accuracy_score(y_test, y_pred_svc),3))\n",
    "print(\"Recall\", round(recall_score(y_test, y_pred_svc, average='macro'), 3))\n",
    "print(\"Precision\", round(precision_score(y_test, y_pred_svc, average='macro'),3))"
   ]
  },
  {
   "cell_type": "markdown",
   "id": "0345fdef-450e-4115-a3c2-b119cf42003d",
   "metadata": {},
   "source": [
    "### Naive Bayes"
   ]
  },
  {
   "cell_type": "code",
   "execution_count": 83,
   "id": "c29ae935-932a-40fc-8459-137183cec958",
   "metadata": {},
   "outputs": [],
   "source": [
    "nb = CategoricalNB()\n",
    "nb.fit(X_train, y_train)\n",
    "y_pred_nb = nb.predict(X_test)"
   ]
  },
  {
   "cell_type": "code",
   "execution_count": 84,
   "id": "38500d85-f213-48fb-89a2-6f65a3784fbe",
   "metadata": {},
   "outputs": [
    {
     "name": "stdout",
     "output_type": "stream",
     "text": [
      "              precision    recall  f1-score   support\n",
      "\n",
      "           0       0.98      0.99      0.98       159\n",
      "           1       0.80      0.90      0.85       134\n",
      "           2       0.92      0.81      0.86       152\n",
      "\n",
      "    accuracy                           0.90       445\n",
      "   macro avg       0.90      0.90      0.90       445\n",
      "weighted avg       0.91      0.90      0.90       445\n",
      "\n"
     ]
    }
   ],
   "source": [
    "print(classification_report(y_test, y_pred_nb))"
   ]
  },
  {
   "cell_type": "code",
   "execution_count": 85,
   "id": "f02b97eb-5abc-4927-8472-c12ed53cff4d",
   "metadata": {},
   "outputs": [
    {
     "name": "stdout",
     "output_type": "stream",
     "text": [
      "F1 Score: 0.991\n",
      "Accuracy: 0.991\n",
      "Recall 0.991\n",
      "Precision 0.991\n"
     ]
    }
   ],
   "source": [
    "print(\"F1 Score:\",round(f1_score(y_test, y_pred_knn, average='macro'),3))\n",
    "print(\"Accuracy:\",round(accuracy_score(y_test, y_pred_knn),3))\n",
    "print(\"Recall\", round(recall_score(y_test, y_pred_knn, average='macro'), 3))\n",
    "print(\"Precision\", round(precision_score(y_test, y_pred_knn, average='macro'),3))"
   ]
  },
  {
   "cell_type": "markdown",
   "id": "e8add563-d9dd-48ba-864c-a69cb35a6fd3",
   "metadata": {},
   "source": [
    "### Logistic Regression Multinomial"
   ]
  },
  {
   "cell_type": "code",
   "execution_count": 86,
   "id": "4a22e0aa-8a8c-4e20-8f71-d5f4247e76b4",
   "metadata": {},
   "outputs": [
    {
     "name": "stderr",
     "output_type": "stream",
     "text": [
      "C:\\Users\\hanan\\anaconda3\\envs\\notebook\\Lib\\site-packages\\sklearn\\linear_model\\_logistic.py:469: ConvergenceWarning: lbfgs failed to converge (status=1):\n",
      "STOP: TOTAL NO. of ITERATIONS REACHED LIMIT.\n",
      "\n",
      "Increase the number of iterations (max_iter) or scale the data as shown in:\n",
      "    https://scikit-learn.org/stable/modules/preprocessing.html\n",
      "Please also refer to the documentation for alternative solver options:\n",
      "    https://scikit-learn.org/stable/modules/linear_model.html#logistic-regression\n",
      "  n_iter_i = _check_optimize_result(\n"
     ]
    }
   ],
   "source": [
    "lr = LogisticRegression(multi_class='multinomial', solver='lbfgs')\n",
    "lr.fit(X_train, y_train)\n",
    "y_pred_lr = lr.predict(X_test)"
   ]
  },
  {
   "cell_type": "code",
   "execution_count": 87,
   "id": "63de5117-6276-4218-9523-c09eae581924",
   "metadata": {},
   "outputs": [
    {
     "name": "stdout",
     "output_type": "stream",
     "text": [
      "              precision    recall  f1-score   support\n",
      "\n",
      "           0       0.96      0.86      0.91       159\n",
      "           1       0.81      0.96      0.88       134\n",
      "           2       1.00      0.95      0.97       152\n",
      "\n",
      "    accuracy                           0.92       445\n",
      "   macro avg       0.93      0.92      0.92       445\n",
      "weighted avg       0.93      0.92      0.92       445\n",
      "\n"
     ]
    }
   ],
   "source": [
    "print(classification_report(y_test, y_pred_lr))"
   ]
  },
  {
   "cell_type": "code",
   "execution_count": 88,
   "id": "56422bc6-27c8-49ab-ac3f-6236b4c0e34d",
   "metadata": {},
   "outputs": [
    {
     "name": "stdout",
     "output_type": "stream",
     "text": [
      "F1 Score: 0.921\n",
      "Accuracy: 0.921\n",
      "Recall 0.924\n",
      "Precision 0.925\n"
     ]
    }
   ],
   "source": [
    "print(\"F1 Score:\",round(f1_score(y_test, y_pred_lr, average='macro'),3))\n",
    "print(\"Accuracy:\",round(accuracy_score(y_test, y_pred_lr),3))\n",
    "print(\"Recall\", round(recall_score(y_test, y_pred_lr, average='macro'), 3))\n",
    "print(\"Precision\", round(precision_score(y_test, y_pred_lr, average='macro'),3))"
   ]
  },
  {
   "cell_type": "markdown",
   "id": "80daa091-7f40-4d1c-b2b9-623014b9ee0b",
   "metadata": {},
   "source": [
    "### ANN"
   ]
  },
  {
   "cell_type": "code",
   "execution_count": 419,
   "id": "fabde994-108f-484b-8ed6-f67a380036c2",
   "metadata": {},
   "outputs": [
    {
     "name": "stderr",
     "output_type": "stream",
     "text": [
      "C:\\Users\\hanan\\anaconda3\\envs\\notebook\\Lib\\site-packages\\keras\\src\\layers\\core\\dense.py:87: UserWarning: Do not pass an `input_shape`/`input_dim` argument to a layer. When using Sequential models, prefer using an `Input(shape)` object as the first layer in the model instead.\n",
      "  super().__init__(activity_regularizer=activity_regularizer, **kwargs)\n"
     ]
    }
   ],
   "source": [
    "model = Sequential()\n",
    "model.add(Dense(8, input_shape=(X.shape[1],), activation='relu'))\n",
    "model.add(Dense(10, activation='relu'))\n",
    "model.add(Dense(10, activation='relu'))\n",
    "model.add(Dense(10, activation='relu'))\n",
    "model.add(Dense(3, activation='softmax'))"
   ]
  },
  {
   "cell_type": "code",
   "execution_count": 420,
   "id": "40dd6587-3c11-44b4-8e74-166635e639e1",
   "metadata": {},
   "outputs": [
    {
     "data": {
      "text/html": [
       "<pre style=\"white-space:pre;overflow-x:auto;line-height:normal;font-family:Menlo,'DejaVu Sans Mono',consolas,'Courier New',monospace\"><span style=\"font-weight: bold\">Model: \"sequential_40\"</span>\n",
       "</pre>\n"
      ],
      "text/plain": [
       "\u001b[1mModel: \"sequential_40\"\u001b[0m\n"
      ]
     },
     "metadata": {},
     "output_type": "display_data"
    },
    {
     "data": {
      "text/html": [
       "<pre style=\"white-space:pre;overflow-x:auto;line-height:normal;font-family:Menlo,'DejaVu Sans Mono',consolas,'Courier New',monospace\">┏━━━━━━━━━━━━━━━━━━━━━━━━━━━━━━━━━┳━━━━━━━━━━━━━━━━━━━━━━━━┳━━━━━━━━━━━━━━━┓\n",
       "┃<span style=\"font-weight: bold\"> Layer (type)                    </span>┃<span style=\"font-weight: bold\"> Output Shape           </span>┃<span style=\"font-weight: bold\">       Param # </span>┃\n",
       "┡━━━━━━━━━━━━━━━━━━━━━━━━━━━━━━━━━╇━━━━━━━━━━━━━━━━━━━━━━━━╇━━━━━━━━━━━━━━━┩\n",
       "│ dense_161 (<span style=\"color: #0087ff; text-decoration-color: #0087ff\">Dense</span>)               │ (<span style=\"color: #00d7ff; text-decoration-color: #00d7ff\">None</span>, <span style=\"color: #00af00; text-decoration-color: #00af00\">8</span>)              │            <span style=\"color: #00af00; text-decoration-color: #00af00\">64</span> │\n",
       "├─────────────────────────────────┼────────────────────────┼───────────────┤\n",
       "│ dense_162 (<span style=\"color: #0087ff; text-decoration-color: #0087ff\">Dense</span>)               │ (<span style=\"color: #00d7ff; text-decoration-color: #00d7ff\">None</span>, <span style=\"color: #00af00; text-decoration-color: #00af00\">10</span>)             │            <span style=\"color: #00af00; text-decoration-color: #00af00\">90</span> │\n",
       "├─────────────────────────────────┼────────────────────────┼───────────────┤\n",
       "│ dense_163 (<span style=\"color: #0087ff; text-decoration-color: #0087ff\">Dense</span>)               │ (<span style=\"color: #00d7ff; text-decoration-color: #00d7ff\">None</span>, <span style=\"color: #00af00; text-decoration-color: #00af00\">10</span>)             │           <span style=\"color: #00af00; text-decoration-color: #00af00\">110</span> │\n",
       "├─────────────────────────────────┼────────────────────────┼───────────────┤\n",
       "│ dense_164 (<span style=\"color: #0087ff; text-decoration-color: #0087ff\">Dense</span>)               │ (<span style=\"color: #00d7ff; text-decoration-color: #00d7ff\">None</span>, <span style=\"color: #00af00; text-decoration-color: #00af00\">10</span>)             │           <span style=\"color: #00af00; text-decoration-color: #00af00\">110</span> │\n",
       "├─────────────────────────────────┼────────────────────────┼───────────────┤\n",
       "│ dense_165 (<span style=\"color: #0087ff; text-decoration-color: #0087ff\">Dense</span>)               │ (<span style=\"color: #00d7ff; text-decoration-color: #00d7ff\">None</span>, <span style=\"color: #00af00; text-decoration-color: #00af00\">3</span>)              │            <span style=\"color: #00af00; text-decoration-color: #00af00\">33</span> │\n",
       "└─────────────────────────────────┴────────────────────────┴───────────────┘\n",
       "</pre>\n"
      ],
      "text/plain": [
       "┏━━━━━━━━━━━━━━━━━━━━━━━━━━━━━━━━━┳━━━━━━━━━━━━━━━━━━━━━━━━┳━━━━━━━━━━━━━━━┓\n",
       "┃\u001b[1m \u001b[0m\u001b[1mLayer (type)                   \u001b[0m\u001b[1m \u001b[0m┃\u001b[1m \u001b[0m\u001b[1mOutput Shape          \u001b[0m\u001b[1m \u001b[0m┃\u001b[1m \u001b[0m\u001b[1m      Param #\u001b[0m\u001b[1m \u001b[0m┃\n",
       "┡━━━━━━━━━━━━━━━━━━━━━━━━━━━━━━━━━╇━━━━━━━━━━━━━━━━━━━━━━━━╇━━━━━━━━━━━━━━━┩\n",
       "│ dense_161 (\u001b[38;5;33mDense\u001b[0m)               │ (\u001b[38;5;45mNone\u001b[0m, \u001b[38;5;34m8\u001b[0m)              │            \u001b[38;5;34m64\u001b[0m │\n",
       "├─────────────────────────────────┼────────────────────────┼───────────────┤\n",
       "│ dense_162 (\u001b[38;5;33mDense\u001b[0m)               │ (\u001b[38;5;45mNone\u001b[0m, \u001b[38;5;34m10\u001b[0m)             │            \u001b[38;5;34m90\u001b[0m │\n",
       "├─────────────────────────────────┼────────────────────────┼───────────────┤\n",
       "│ dense_163 (\u001b[38;5;33mDense\u001b[0m)               │ (\u001b[38;5;45mNone\u001b[0m, \u001b[38;5;34m10\u001b[0m)             │           \u001b[38;5;34m110\u001b[0m │\n",
       "├─────────────────────────────────┼────────────────────────┼───────────────┤\n",
       "│ dense_164 (\u001b[38;5;33mDense\u001b[0m)               │ (\u001b[38;5;45mNone\u001b[0m, \u001b[38;5;34m10\u001b[0m)             │           \u001b[38;5;34m110\u001b[0m │\n",
       "├─────────────────────────────────┼────────────────────────┼───────────────┤\n",
       "│ dense_165 (\u001b[38;5;33mDense\u001b[0m)               │ (\u001b[38;5;45mNone\u001b[0m, \u001b[38;5;34m3\u001b[0m)              │            \u001b[38;5;34m33\u001b[0m │\n",
       "└─────────────────────────────────┴────────────────────────┴───────────────┘\n"
      ]
     },
     "metadata": {},
     "output_type": "display_data"
    },
    {
     "data": {
      "text/html": [
       "<pre style=\"white-space:pre;overflow-x:auto;line-height:normal;font-family:Menlo,'DejaVu Sans Mono',consolas,'Courier New',monospace\"><span style=\"font-weight: bold\"> Total params: </span><span style=\"color: #00af00; text-decoration-color: #00af00\">407</span> (1.59 KB)\n",
       "</pre>\n"
      ],
      "text/plain": [
       "\u001b[1m Total params: \u001b[0m\u001b[38;5;34m407\u001b[0m (1.59 KB)\n"
      ]
     },
     "metadata": {},
     "output_type": "display_data"
    },
    {
     "data": {
      "text/html": [
       "<pre style=\"white-space:pre;overflow-x:auto;line-height:normal;font-family:Menlo,'DejaVu Sans Mono',consolas,'Courier New',monospace\"><span style=\"font-weight: bold\"> Trainable params: </span><span style=\"color: #00af00; text-decoration-color: #00af00\">407</span> (1.59 KB)\n",
       "</pre>\n"
      ],
      "text/plain": [
       "\u001b[1m Trainable params: \u001b[0m\u001b[38;5;34m407\u001b[0m (1.59 KB)\n"
      ]
     },
     "metadata": {},
     "output_type": "display_data"
    },
    {
     "data": {
      "text/html": [
       "<pre style=\"white-space:pre;overflow-x:auto;line-height:normal;font-family:Menlo,'DejaVu Sans Mono',consolas,'Courier New',monospace\"><span style=\"font-weight: bold\"> Non-trainable params: </span><span style=\"color: #00af00; text-decoration-color: #00af00\">0</span> (0.00 B)\n",
       "</pre>\n"
      ],
      "text/plain": [
       "\u001b[1m Non-trainable params: \u001b[0m\u001b[38;5;34m0\u001b[0m (0.00 B)\n"
      ]
     },
     "metadata": {},
     "output_type": "display_data"
    }
   ],
   "source": [
    "model.summary()"
   ]
  },
  {
   "cell_type": "code",
   "execution_count": 421,
   "id": "4ec2d20f-9d95-4b93-bdb8-f38659da6740",
   "metadata": {},
   "outputs": [
    {
     "name": "stdout",
     "output_type": "stream",
     "text": [
      "Epoch 1/15\n",
      "\u001b[1m356/356\u001b[0m \u001b[32m━━━━━━━━━━━━━━━━━━━━\u001b[0m\u001b[37m\u001b[0m \u001b[1m5s\u001b[0m 3ms/step - accuracy: 0.5468 - loss: 0.8810\n",
      "Epoch 2/15\n",
      "\u001b[1m356/356\u001b[0m \u001b[32m━━━━━━━━━━━━━━━━━━━━\u001b[0m\u001b[37m\u001b[0m \u001b[1m1s\u001b[0m 4ms/step - accuracy: 0.6712 - loss: 0.6650\n",
      "Epoch 3/15\n",
      "\u001b[1m356/356\u001b[0m \u001b[32m━━━━━━━━━━━━━━━━━━━━\u001b[0m\u001b[37m\u001b[0m \u001b[1m2s\u001b[0m 5ms/step - accuracy: 0.7452 - loss: 0.5673\n",
      "Epoch 4/15\n",
      "\u001b[1m356/356\u001b[0m \u001b[32m━━━━━━━━━━━━━━━━━━━━\u001b[0m\u001b[37m\u001b[0m \u001b[1m2s\u001b[0m 4ms/step - accuracy: 0.7619 - loss: 0.5027\n",
      "Epoch 5/15\n",
      "\u001b[1m356/356\u001b[0m \u001b[32m━━━━━━━━━━━━━━━━━━━━\u001b[0m\u001b[37m\u001b[0m \u001b[1m2s\u001b[0m 4ms/step - accuracy: 0.8088 - loss: 0.4578\n",
      "Epoch 6/15\n",
      "\u001b[1m356/356\u001b[0m \u001b[32m━━━━━━━━━━━━━━━━━━━━\u001b[0m\u001b[37m\u001b[0m \u001b[1m1s\u001b[0m 4ms/step - accuracy: 0.8357 - loss: 0.4015\n",
      "Epoch 7/15\n",
      "\u001b[1m356/356\u001b[0m \u001b[32m━━━━━━━━━━━━━━━━━━━━\u001b[0m\u001b[37m\u001b[0m \u001b[1m1s\u001b[0m 4ms/step - accuracy: 0.8518 - loss: 0.3709\n",
      "Epoch 8/15\n",
      "\u001b[1m356/356\u001b[0m \u001b[32m━━━━━━━━━━━━━━━━━━━━\u001b[0m\u001b[37m\u001b[0m \u001b[1m2s\u001b[0m 4ms/step - accuracy: 0.8508 - loss: 0.3355\n",
      "Epoch 9/15\n",
      "\u001b[1m356/356\u001b[0m \u001b[32m━━━━━━━━━━━━━━━━━━━━\u001b[0m\u001b[37m\u001b[0m \u001b[1m1s\u001b[0m 4ms/step - accuracy: 0.8550 - loss: 0.3335\n",
      "Epoch 10/15\n",
      "\u001b[1m356/356\u001b[0m \u001b[32m━━━━━━━━━━━━━━━━━━━━\u001b[0m\u001b[37m\u001b[0m \u001b[1m1s\u001b[0m 3ms/step - accuracy: 0.8585 - loss: 0.2990\n",
      "Epoch 11/15\n",
      "\u001b[1m356/356\u001b[0m \u001b[32m━━━━━━━━━━━━━━━━━━━━\u001b[0m\u001b[37m\u001b[0m \u001b[1m1s\u001b[0m 3ms/step - accuracy: 0.8706 - loss: 0.2899\n",
      "Epoch 12/15\n",
      "\u001b[1m356/356\u001b[0m \u001b[32m━━━━━━━━━━━━━━━━━━━━\u001b[0m\u001b[37m\u001b[0m \u001b[1m1s\u001b[0m 4ms/step - accuracy: 0.8832 - loss: 0.2652\n",
      "Epoch 13/15\n",
      "\u001b[1m356/356\u001b[0m \u001b[32m━━━━━━━━━━━━━━━━━━━━\u001b[0m\u001b[37m\u001b[0m \u001b[1m1s\u001b[0m 4ms/step - accuracy: 0.8963 - loss: 0.2538\n",
      "Epoch 14/15\n",
      "\u001b[1m356/356\u001b[0m \u001b[32m━━━━━━━━━━━━━━━━━━━━\u001b[0m\u001b[37m\u001b[0m \u001b[1m2s\u001b[0m 6ms/step - accuracy: 0.8983 - loss: 0.2362\n",
      "Epoch 15/15\n",
      "\u001b[1m356/356\u001b[0m \u001b[32m━━━━━━━━━━━━━━━━━━━━\u001b[0m\u001b[37m\u001b[0m \u001b[1m2s\u001b[0m 6ms/step - accuracy: 0.9108 - loss: 0.2306\n"
     ]
    },
    {
     "data": {
      "text/plain": [
       "<keras.src.callbacks.history.History at 0x1f5448c8d10>"
      ]
     },
     "execution_count": 421,
     "metadata": {},
     "output_type": "execute_result"
    }
   ],
   "source": [
    "model.compile(loss='sparse_categorical_crossentropy', optimizer='adam', metrics=['accuracy'])\n",
    "model.fit(X_train, y_train, epochs =15, batch_size = 5, shuffle=True, verbose=1)\n"
   ]
  },
  {
   "cell_type": "code",
   "execution_count": 422,
   "id": "a0774478-1351-4d74-bfbc-88952ad62972",
   "metadata": {},
   "outputs": [
    {
     "name": "stdout",
     "output_type": "stream",
     "text": [
      "\u001b[1m14/14\u001b[0m \u001b[32m━━━━━━━━━━━━━━━━━━━━\u001b[0m\u001b[37m\u001b[0m \u001b[1m1s\u001b[0m 20ms/step\n"
     ]
    }
   ],
   "source": [
    "# y_pred_ann = model.predict(X_test).round()\n",
    "y_pred_prob = model.predict(X_test)\n",
    "y_pred_ann = tf.argmax(y_pred_prob, axis=1)"
   ]
  },
  {
   "cell_type": "code",
   "execution_count": 423,
   "id": "035c5e6e-3d64-4326-a3ea-7dd41226cb78",
   "metadata": {},
   "outputs": [
    {
     "name": "stdout",
     "output_type": "stream",
     "text": [
      "F1 Score: 0.909\n",
      "Accuracy: 0.91\n",
      "Recall 0.909\n",
      "Precision 0.912\n"
     ]
    }
   ],
   "source": [
    "print(\"F1 Score:\",round(f1_score(y_test, y_pred_ann, average='macro'),3))\n",
    "print(\"Accuracy:\",round(accuracy_score(y_test, y_pred_ann),3))\n",
    "print(\"Recall\", round(recall_score(y_test, y_pred_ann, average='macro'), 3))\n",
    "print(\"Precision\", round(precision_score(y_test, y_pred_ann, average='macro'),3))"
   ]
  },
  {
   "cell_type": "markdown",
   "id": "2b086f94-98fe-478b-8c0d-efedc21a2107",
   "metadata": {},
   "source": [
    "## Test 30"
   ]
  },
  {
   "cell_type": "code",
   "execution_count": 89,
   "id": "32c05fa6-b20b-4902-b160-881ac3248930",
   "metadata": {},
   "outputs": [],
   "source": [
    "X_train, X_test, y_train, y_test = train_test_split(X, y, test_size=0.3, random_state=42)"
   ]
  },
  {
   "cell_type": "code",
   "execution_count": 90,
   "id": "16b963d8-c262-4347-ab99-de07a490693c",
   "metadata": {},
   "outputs": [
    {
     "data": {
      "text/html": [
       "<div>\n",
       "<style scoped>\n",
       "    .dataframe tbody tr th:only-of-type {\n",
       "        vertical-align: middle;\n",
       "    }\n",
       "\n",
       "    .dataframe tbody tr th {\n",
       "        vertical-align: top;\n",
       "    }\n",
       "\n",
       "    .dataframe thead th {\n",
       "        text-align: right;\n",
       "    }\n",
       "</style>\n",
       "<table border=\"1\" class=\"dataframe\">\n",
       "  <thead>\n",
       "    <tr style=\"text-align: right;\">\n",
       "      <th></th>\n",
       "      <th>kanal</th>\n",
       "      <th>spasi_kanal_(ghz)</th>\n",
       "      <th>power_(dbm)</th>\n",
       "      <th>panjang_kabel_(km)</th>\n",
       "      <th>redaman_(dbm/km)</th>\n",
       "      <th>osnr_(db)</th>\n",
       "      <th>q_factor</th>\n",
       "    </tr>\n",
       "  </thead>\n",
       "  <tbody>\n",
       "    <tr>\n",
       "      <th>2218</th>\n",
       "      <td>8</td>\n",
       "      <td>50</td>\n",
       "      <td>2</td>\n",
       "      <td>70</td>\n",
       "      <td>0.100000</td>\n",
       "      <td>22.029671</td>\n",
       "      <td>5.065165</td>\n",
       "    </tr>\n",
       "    <tr>\n",
       "      <th>1580</th>\n",
       "      <td>16</td>\n",
       "      <td>50</td>\n",
       "      <td>1</td>\n",
       "      <td>60</td>\n",
       "      <td>0.400000</td>\n",
       "      <td>22.143670</td>\n",
       "      <td>4.905321</td>\n",
       "    </tr>\n",
       "    <tr>\n",
       "      <th>677</th>\n",
       "      <td>4</td>\n",
       "      <td>50</td>\n",
       "      <td>0</td>\n",
       "      <td>50</td>\n",
       "      <td>0.400000</td>\n",
       "      <td>22.150000</td>\n",
       "      <td>6.770000</td>\n",
       "    </tr>\n",
       "    <tr>\n",
       "      <th>1752</th>\n",
       "      <td>16</td>\n",
       "      <td>50</td>\n",
       "      <td>1</td>\n",
       "      <td>70</td>\n",
       "      <td>0.127688</td>\n",
       "      <td>22.195081</td>\n",
       "      <td>5.091694</td>\n",
       "    </tr>\n",
       "    <tr>\n",
       "      <th>318</th>\n",
       "      <td>4</td>\n",
       "      <td>50</td>\n",
       "      <td>0</td>\n",
       "      <td>50</td>\n",
       "      <td>0.500000</td>\n",
       "      <td>22.050000</td>\n",
       "      <td>5.060000</td>\n",
       "    </tr>\n",
       "    <tr>\n",
       "      <th>...</th>\n",
       "      <td>...</td>\n",
       "      <td>...</td>\n",
       "      <td>...</td>\n",
       "      <td>...</td>\n",
       "      <td>...</td>\n",
       "      <td>...</td>\n",
       "      <td>...</td>\n",
       "    </tr>\n",
       "    <tr>\n",
       "      <th>1638</th>\n",
       "      <td>16</td>\n",
       "      <td>50</td>\n",
       "      <td>4</td>\n",
       "      <td>70</td>\n",
       "      <td>0.118620</td>\n",
       "      <td>22.133724</td>\n",
       "      <td>5.131862</td>\n",
       "    </tr>\n",
       "    <tr>\n",
       "      <th>1095</th>\n",
       "      <td>4</td>\n",
       "      <td>50</td>\n",
       "      <td>5</td>\n",
       "      <td>60</td>\n",
       "      <td>0.226623</td>\n",
       "      <td>22.092013</td>\n",
       "      <td>5.852045</td>\n",
       "    </tr>\n",
       "    <tr>\n",
       "      <th>1130</th>\n",
       "      <td>4</td>\n",
       "      <td>200</td>\n",
       "      <td>0</td>\n",
       "      <td>65</td>\n",
       "      <td>0.345067</td>\n",
       "      <td>36.898027</td>\n",
       "      <td>6.533240</td>\n",
       "    </tr>\n",
       "    <tr>\n",
       "      <th>1294</th>\n",
       "      <td>16</td>\n",
       "      <td>50</td>\n",
       "      <td>2</td>\n",
       "      <td>60</td>\n",
       "      <td>0.091845</td>\n",
       "      <td>22.129399</td>\n",
       "      <td>5.794292</td>\n",
       "    </tr>\n",
       "    <tr>\n",
       "      <th>860</th>\n",
       "      <td>8</td>\n",
       "      <td>150</td>\n",
       "      <td>5</td>\n",
       "      <td>60</td>\n",
       "      <td>0.200000</td>\n",
       "      <td>36.350000</td>\n",
       "      <td>10.300000</td>\n",
       "    </tr>\n",
       "  </tbody>\n",
       "</table>\n",
       "<p>1556 rows × 7 columns</p>\n",
       "</div>"
      ],
      "text/plain": [
       "      kanal  spasi_kanal_(ghz)  power_(dbm)  panjang_kabel_(km)  \\\n",
       "2218      8                 50            2                  70   \n",
       "1580     16                 50            1                  60   \n",
       "677       4                 50            0                  50   \n",
       "1752     16                 50            1                  70   \n",
       "318       4                 50            0                  50   \n",
       "...     ...                ...          ...                 ...   \n",
       "1638     16                 50            4                  70   \n",
       "1095      4                 50            5                  60   \n",
       "1130      4                200            0                  65   \n",
       "1294     16                 50            2                  60   \n",
       "860       8                150            5                  60   \n",
       "\n",
       "      redaman_(dbm/km)  osnr_(db)   q_factor  \n",
       "2218          0.100000  22.029671   5.065165  \n",
       "1580          0.400000  22.143670   4.905321  \n",
       "677           0.400000  22.150000   6.770000  \n",
       "1752          0.127688  22.195081   5.091694  \n",
       "318           0.500000  22.050000   5.060000  \n",
       "...                ...        ...        ...  \n",
       "1638          0.118620  22.133724   5.131862  \n",
       "1095          0.226623  22.092013   5.852045  \n",
       "1130          0.345067  36.898027   6.533240  \n",
       "1294          0.091845  22.129399   5.794292  \n",
       "860           0.200000  36.350000  10.300000  \n",
       "\n",
       "[1556 rows x 7 columns]"
      ]
     },
     "execution_count": 90,
     "metadata": {},
     "output_type": "execute_result"
    }
   ],
   "source": [
    "X_train"
   ]
  },
  {
   "cell_type": "markdown",
   "id": "9c4cc672-78b1-43de-b152-d9ce59c0c366",
   "metadata": {},
   "source": [
    "### KNeighbors"
   ]
  },
  {
   "cell_type": "code",
   "execution_count": 91,
   "id": "8f52f557-4b9b-4cd9-8e1c-0cafbbb1eb15",
   "metadata": {},
   "outputs": [],
   "source": [
    "knn = KNeighborsClassifier()\n",
    "knn.fit(X_train, y_train)\n",
    "\n",
    "y_pred_knn = knn.predict(X_test)"
   ]
  },
  {
   "cell_type": "code",
   "execution_count": 92,
   "id": "c786040f-8e72-46ed-a7d7-00c52b282e82",
   "metadata": {},
   "outputs": [
    {
     "name": "stdout",
     "output_type": "stream",
     "text": [
      "              precision    recall  f1-score   support\n",
      "\n",
      "           0       1.00      0.98      0.99       230\n",
      "           1       0.96      1.00      0.98       204\n",
      "           2       1.00      0.98      0.99       233\n",
      "\n",
      "    accuracy                           0.99       667\n",
      "   macro avg       0.98      0.99      0.98       667\n",
      "weighted avg       0.99      0.99      0.99       667\n",
      "\n"
     ]
    }
   ],
   "source": [
    "print(classification_report(y_test, y_pred_knn))"
   ]
  },
  {
   "cell_type": "code",
   "execution_count": 93,
   "id": "d24f5a32-135b-42e2-8183-3d4e38d5e69a",
   "metadata": {},
   "outputs": [
    {
     "name": "stdout",
     "output_type": "stream",
     "text": [
      "F1 Score: 0.985\n",
      "Accuracy: 0.985\n",
      "Recall 0.985\n",
      "Precision 0.984\n"
     ]
    }
   ],
   "source": [
    "print(\"F1 Score:\",round(f1_score(y_test, y_pred_knn, average='macro'),3))\n",
    "print(\"Accuracy:\",round(accuracy_score(y_test, y_pred_knn),3))\n",
    "print(\"Recall\", round(recall_score(y_test, y_pred_knn, average='macro'), 3))\n",
    "print(\"Precision\", round(precision_score(y_test, y_pred_knn, average='macro'),3))"
   ]
  },
  {
   "cell_type": "markdown",
   "id": "1b529d0a-9e6b-4d84-9fc7-e472338c0aea",
   "metadata": {},
   "source": [
    "### Decision Tree"
   ]
  },
  {
   "cell_type": "code",
   "execution_count": 94,
   "id": "ad96da60-2796-4899-b4cc-bb36d097b0a0",
   "metadata": {},
   "outputs": [],
   "source": [
    "dtc = DecisionTreeClassifier()\n",
    "dtc.fit(X_train, y_train)\n",
    "y_pred_dtc = dtc.predict(X_test)"
   ]
  },
  {
   "cell_type": "code",
   "execution_count": 95,
   "id": "2c4d6226-f800-464b-963f-2565438e528e",
   "metadata": {},
   "outputs": [
    {
     "name": "stdout",
     "output_type": "stream",
     "text": [
      "              precision    recall  f1-score   support\n",
      "\n",
      "           0       1.00      1.00      1.00       230\n",
      "           1       1.00      1.00      1.00       204\n",
      "           2       1.00      1.00      1.00       233\n",
      "\n",
      "    accuracy                           1.00       667\n",
      "   macro avg       1.00      1.00      1.00       667\n",
      "weighted avg       1.00      1.00      1.00       667\n",
      "\n"
     ]
    }
   ],
   "source": [
    "print(classification_report(y_test, y_pred_dtc))"
   ]
  },
  {
   "cell_type": "code",
   "execution_count": 96,
   "id": "c0a1f58f-af11-4557-afed-70338171d554",
   "metadata": {},
   "outputs": [
    {
     "name": "stdout",
     "output_type": "stream",
     "text": [
      "F1 Score: 1.0\n",
      "Accuracy: 1.0\n",
      "Recall 1.0\n",
      "Precision 1.0\n"
     ]
    }
   ],
   "source": [
    "print(\"F1 Score:\",round(f1_score(y_test, y_pred_dtc, average='macro'),3))\n",
    "print(\"Accuracy:\",round(accuracy_score(y_test, y_pred_dtc),3))\n",
    "print(\"Recall\", round(recall_score(y_test, y_pred_dtc, average='macro'), 3))\n",
    "print(\"Precision\", round(precision_score(y_test, y_pred_dtc, average='macro'),3))"
   ]
  },
  {
   "cell_type": "markdown",
   "id": "278dd133-2382-40e7-b424-e98c3be72397",
   "metadata": {},
   "source": [
    "### Random Forest"
   ]
  },
  {
   "cell_type": "code",
   "execution_count": 97,
   "id": "e9dea3f5-8bd6-4d75-a819-fff443245644",
   "metadata": {},
   "outputs": [],
   "source": [
    "rf = RandomForestClassifier(n_estimators=40)\n",
    "rf.fit(X_train, y_train)\n",
    "y_pred_rf = rf.predict(X_test)"
   ]
  },
  {
   "cell_type": "code",
   "execution_count": 98,
   "id": "7cf103e0-e95f-43bb-b2bf-c73563e72bf7",
   "metadata": {},
   "outputs": [
    {
     "name": "stdout",
     "output_type": "stream",
     "text": [
      "              precision    recall  f1-score   support\n",
      "\n",
      "           0       1.00      1.00      1.00       230\n",
      "           1       1.00      1.00      1.00       204\n",
      "           2       1.00      1.00      1.00       233\n",
      "\n",
      "    accuracy                           1.00       667\n",
      "   macro avg       1.00      1.00      1.00       667\n",
      "weighted avg       1.00      1.00      1.00       667\n",
      "\n"
     ]
    }
   ],
   "source": [
    "print(classification_report(y_test, y_pred_rf))"
   ]
  },
  {
   "cell_type": "code",
   "execution_count": 99,
   "id": "a192b4ef-836f-4287-b353-be910e18b8a0",
   "metadata": {},
   "outputs": [
    {
     "name": "stdout",
     "output_type": "stream",
     "text": [
      "F1 Score: 1.0\n",
      "Accuracy: 1.0\n",
      "Recall 1.0\n",
      "Precision 1.0\n"
     ]
    }
   ],
   "source": [
    "print(\"F1 Score:\",round(f1_score(y_test, y_pred_rf, average='macro'),3))\n",
    "print(\"Accuracy:\",round(accuracy_score(y_test, y_pred_rf),3))\n",
    "print(\"Recall\", round(recall_score(y_test, y_pred_rf, average='macro'), 3))\n",
    "print(\"Precision\", round(precision_score(y_test, y_pred_rf, average='macro'),3))"
   ]
  },
  {
   "cell_type": "markdown",
   "id": "19750dbf-27bc-4700-8dda-5aa38df12784",
   "metadata": {},
   "source": [
    "### Gradient Boosting"
   ]
  },
  {
   "cell_type": "code",
   "execution_count": 100,
   "id": "b970d816-358d-44a4-a5d0-339e9cc0c3ab",
   "metadata": {},
   "outputs": [],
   "source": [
    "gb = GradientBoostingClassifier()\n",
    "gb.fit(X_train, y_train)\n",
    "y_pred_gb = gb.predict(X_test)"
   ]
  },
  {
   "cell_type": "code",
   "execution_count": 101,
   "id": "64bae9b1-3ecc-420f-981e-0b0c85b87d93",
   "metadata": {},
   "outputs": [
    {
     "name": "stdout",
     "output_type": "stream",
     "text": [
      "              precision    recall  f1-score   support\n",
      "\n",
      "           0       1.00      1.00      1.00       230\n",
      "           1       1.00      1.00      1.00       204\n",
      "           2       1.00      1.00      1.00       233\n",
      "\n",
      "    accuracy                           1.00       667\n",
      "   macro avg       1.00      1.00      1.00       667\n",
      "weighted avg       1.00      1.00      1.00       667\n",
      "\n"
     ]
    }
   ],
   "source": [
    "print(classification_report(y_test, y_pred_gb))"
   ]
  },
  {
   "cell_type": "code",
   "execution_count": 102,
   "id": "03eeb437-07d4-4d66-9203-1a7c16cba475",
   "metadata": {},
   "outputs": [
    {
     "name": "stdout",
     "output_type": "stream",
     "text": [
      "F1 Score: 1.0\n",
      "Accuracy: 1.0\n",
      "Recall 1.0\n",
      "Precision 1.0\n"
     ]
    }
   ],
   "source": [
    "print(\"F1 Score:\",round(f1_score(y_test, y_pred_gb, average='macro'),3))\n",
    "print(\"Accuracy:\",round(accuracy_score(y_test, y_pred_gb),3))\n",
    "print(\"Recall\", round(recall_score(y_test, y_pred_gb, average='macro'), 3))\n",
    "print(\"Precision\", round(precision_score(y_test, y_pred_gb, average='macro'),3))"
   ]
  },
  {
   "cell_type": "markdown",
   "id": "7f3e1458-439d-4187-91be-1fc42d5f3682",
   "metadata": {},
   "source": [
    "### XGB"
   ]
  },
  {
   "cell_type": "code",
   "execution_count": 103,
   "id": "8a757d4e-3cdf-428c-bd7b-48d2b4a7e12d",
   "metadata": {},
   "outputs": [],
   "source": [
    "xgb = XGBClassifier()\n",
    "xgb.fit(X_train, y_train)\n",
    "y_pred_xgb = xgb.predict(X_test)"
   ]
  },
  {
   "cell_type": "code",
   "execution_count": 104,
   "id": "e38a6525-4f80-437d-9658-8742ae9ba245",
   "metadata": {},
   "outputs": [
    {
     "name": "stdout",
     "output_type": "stream",
     "text": [
      "              precision    recall  f1-score   support\n",
      "\n",
      "           0       1.00      1.00      1.00       230\n",
      "           1       1.00      1.00      1.00       204\n",
      "           2       1.00      1.00      1.00       233\n",
      "\n",
      "    accuracy                           1.00       667\n",
      "   macro avg       1.00      1.00      1.00       667\n",
      "weighted avg       1.00      1.00      1.00       667\n",
      "\n"
     ]
    }
   ],
   "source": [
    "print(classification_report(y_test, y_pred_xgb))"
   ]
  },
  {
   "cell_type": "code",
   "execution_count": 105,
   "id": "89df5d2c-a1ac-42aa-83c6-d41e7eec7156",
   "metadata": {},
   "outputs": [
    {
     "name": "stdout",
     "output_type": "stream",
     "text": [
      "F1 Score: 1.0\n",
      "Accuracy: 1.0\n",
      "Recall 1.0\n",
      "Precision 1.0\n"
     ]
    }
   ],
   "source": [
    "print(\"F1 Score:\",round(f1_score(y_test, y_pred_xgb, average='macro'),3))\n",
    "print(\"Accuracy:\",round(accuracy_score(y_test, y_pred_xgb),3))\n",
    "print(\"Recall\", round(recall_score(y_test, y_pred_xgb, average='macro'), 3))\n",
    "print(\"Precision\", round(precision_score(y_test, y_pred_xgb, average='macro'),3))"
   ]
  },
  {
   "cell_type": "markdown",
   "id": "57ebc991-340a-43f7-87a6-9c6fdd195cbc",
   "metadata": {},
   "source": [
    "### Support Vector"
   ]
  },
  {
   "cell_type": "code",
   "execution_count": 106,
   "id": "3b3c990b-7b6e-49c4-bf74-ceb83da3e92f",
   "metadata": {},
   "outputs": [],
   "source": [
    "svc = SVC(kernel='rbf',\n",
    "               gamma=0.5,\n",
    "               C=0.1)\n",
    "svc.fit(X_train, y_train)\n",
    "\n",
    "y_pred_svc = svc.predict(X_test)"
   ]
  },
  {
   "cell_type": "code",
   "execution_count": 107,
   "id": "f63f9e97-5a5c-4a2e-9779-568dd979a07d",
   "metadata": {},
   "outputs": [
    {
     "name": "stdout",
     "output_type": "stream",
     "text": [
      "              precision    recall  f1-score   support\n",
      "\n",
      "           0       0.81      1.00      0.89       230\n",
      "           1       0.75      0.78      0.77       204\n",
      "           2       1.00      0.73      0.84       233\n",
      "\n",
      "    accuracy                           0.84       667\n",
      "   macro avg       0.85      0.84      0.83       667\n",
      "weighted avg       0.86      0.84      0.84       667\n",
      "\n"
     ]
    }
   ],
   "source": [
    "print(classification_report(y_test, y_pred_svc))"
   ]
  },
  {
   "cell_type": "code",
   "execution_count": 108,
   "id": "82d300a9-9707-453f-8c1f-b4202133fe07",
   "metadata": {},
   "outputs": [
    {
     "name": "stdout",
     "output_type": "stream",
     "text": [
      "F1 Score: 0.834\n",
      "Accuracy: 0.838\n",
      "Recall 0.837\n",
      "Precision 0.853\n"
     ]
    }
   ],
   "source": [
    "print(\"F1 Score:\",round(f1_score(y_test, y_pred_svc, average='macro'),3))\n",
    "print(\"Accuracy:\",round(accuracy_score(y_test, y_pred_svc),3))\n",
    "print(\"Recall\", round(recall_score(y_test, y_pred_svc, average='macro'), 3))\n",
    "print(\"Precision\", round(precision_score(y_test, y_pred_svc, average='macro'),3))"
   ]
  },
  {
   "cell_type": "markdown",
   "id": "fdfe655e-c8d2-4e72-986c-cbcc50beb8e5",
   "metadata": {},
   "source": [
    "### Naive Bayes"
   ]
  },
  {
   "cell_type": "code",
   "execution_count": 109,
   "id": "c9ac222a-a07f-4e3d-94ca-8c3349f462f9",
   "metadata": {},
   "outputs": [],
   "source": [
    "nb = CategoricalNB()\n",
    "nb.fit(X_train, y_train)\n",
    "y_pred_nb = nb.predict(X_test)"
   ]
  },
  {
   "cell_type": "code",
   "execution_count": 110,
   "id": "87b89ab4-d0a3-4191-a9bf-62a5ccc8db25",
   "metadata": {},
   "outputs": [
    {
     "name": "stdout",
     "output_type": "stream",
     "text": [
      "              precision    recall  f1-score   support\n",
      "\n",
      "           0       0.98      0.99      0.98       230\n",
      "           1       0.80      0.87      0.83       204\n",
      "           2       0.90      0.82      0.86       233\n",
      "\n",
      "    accuracy                           0.89       667\n",
      "   macro avg       0.89      0.89      0.89       667\n",
      "weighted avg       0.90      0.89      0.89       667\n",
      "\n"
     ]
    }
   ],
   "source": [
    "print(classification_report(y_test, y_pred_nb))"
   ]
  },
  {
   "cell_type": "code",
   "execution_count": 111,
   "id": "575fa1e0-ad25-4505-8f4f-b6b48bbd1769",
   "metadata": {},
   "outputs": [
    {
     "name": "stdout",
     "output_type": "stream",
     "text": [
      "F1 Score: 0.985\n",
      "Accuracy: 0.985\n",
      "Recall 0.985\n",
      "Precision 0.984\n"
     ]
    }
   ],
   "source": [
    "print(\"F1 Score:\",round(f1_score(y_test, y_pred_knn, average='macro'),3))\n",
    "print(\"Accuracy:\",round(accuracy_score(y_test, y_pred_knn),3))\n",
    "print(\"Recall\", round(recall_score(y_test, y_pred_knn, average='macro'), 3))\n",
    "print(\"Precision\", round(precision_score(y_test, y_pred_knn, average='macro'),3))"
   ]
  },
  {
   "cell_type": "markdown",
   "id": "12450d89-19a3-479c-ada0-ecb4302db5e3",
   "metadata": {},
   "source": [
    "### Logistic Regression Multinomial"
   ]
  },
  {
   "cell_type": "code",
   "execution_count": 112,
   "id": "e1d59308-4aac-4d2d-8ed5-a7d323af9020",
   "metadata": {},
   "outputs": [
    {
     "name": "stderr",
     "output_type": "stream",
     "text": [
      "C:\\Users\\hanan\\anaconda3\\envs\\notebook\\Lib\\site-packages\\sklearn\\linear_model\\_logistic.py:469: ConvergenceWarning: lbfgs failed to converge (status=1):\n",
      "STOP: TOTAL NO. of ITERATIONS REACHED LIMIT.\n",
      "\n",
      "Increase the number of iterations (max_iter) or scale the data as shown in:\n",
      "    https://scikit-learn.org/stable/modules/preprocessing.html\n",
      "Please also refer to the documentation for alternative solver options:\n",
      "    https://scikit-learn.org/stable/modules/linear_model.html#logistic-regression\n",
      "  n_iter_i = _check_optimize_result(\n"
     ]
    }
   ],
   "source": [
    "lr = LogisticRegression(multi_class='multinomial', solver='lbfgs')\n",
    "lr.fit(X_train, y_train)\n",
    "y_pred_lr = lr.predict(X_test)"
   ]
  },
  {
   "cell_type": "code",
   "execution_count": 113,
   "id": "7ab2bb69-6f5c-4f03-b6c3-a02af3b6fea5",
   "metadata": {},
   "outputs": [
    {
     "name": "stdout",
     "output_type": "stream",
     "text": [
      "              precision    recall  f1-score   support\n",
      "\n",
      "           0       0.96      0.86      0.91       230\n",
      "           1       0.77      0.96      0.85       204\n",
      "           2       1.00      0.89      0.94       233\n",
      "\n",
      "    accuracy                           0.90       667\n",
      "   macro avg       0.91      0.90      0.90       667\n",
      "weighted avg       0.91      0.90      0.90       667\n",
      "\n"
     ]
    }
   ],
   "source": [
    "print(classification_report(y_test, y_pred_lr))"
   ]
  },
  {
   "cell_type": "code",
   "execution_count": 114,
   "id": "2bc1c612-82c6-4d7d-ae3b-580632f76e9b",
   "metadata": {},
   "outputs": [
    {
     "name": "stdout",
     "output_type": "stream",
     "text": [
      "F1 Score: 0.9\n",
      "Accuracy: 0.9\n",
      "Recall 0.902\n",
      "Precision 0.909\n"
     ]
    }
   ],
   "source": [
    "print(\"F1 Score:\",round(f1_score(y_test, y_pred_lr, average='macro'),3))\n",
    "print(\"Accuracy:\",round(accuracy_score(y_test, y_pred_lr),3))\n",
    "print(\"Recall\", round(recall_score(y_test, y_pred_lr, average='macro'), 3))\n",
    "print(\"Precision\", round(precision_score(y_test, y_pred_lr, average='macro'),3))"
   ]
  },
  {
   "cell_type": "markdown",
   "id": "8f8f26e1-1fd2-443a-ae2c-2a18bb139c5d",
   "metadata": {},
   "source": [
    "### ANN"
   ]
  },
  {
   "cell_type": "code",
   "execution_count": 447,
   "id": "726e7912-a75d-4097-b61c-8e8d80ecbd83",
   "metadata": {},
   "outputs": [
    {
     "name": "stderr",
     "output_type": "stream",
     "text": [
      "C:\\Users\\hanan\\anaconda3\\envs\\notebook\\Lib\\site-packages\\keras\\src\\layers\\core\\dense.py:87: UserWarning: Do not pass an `input_shape`/`input_dim` argument to a layer. When using Sequential models, prefer using an `Input(shape)` object as the first layer in the model instead.\n",
      "  super().__init__(activity_regularizer=activity_regularizer, **kwargs)\n"
     ]
    }
   ],
   "source": [
    "model = Sequential()\n",
    "model.add(Dense(8, input_shape=(X.shape[1],), activation='relu'))\n",
    "model.add(Dense(10, activation='relu'))\n",
    "model.add(Dense(10, activation='relu'))\n",
    "model.add(Dense(10, activation='relu'))\n",
    "model.add(Dense(3, activation='softmax'))"
   ]
  },
  {
   "cell_type": "code",
   "execution_count": 448,
   "id": "30da32ae-9f9f-4930-a5ef-03aa7da83b28",
   "metadata": {},
   "outputs": [
    {
     "data": {
      "text/html": [
       "<pre style=\"white-space:pre;overflow-x:auto;line-height:normal;font-family:Menlo,'DejaVu Sans Mono',consolas,'Courier New',monospace\"><span style=\"font-weight: bold\">Model: \"sequential_41\"</span>\n",
       "</pre>\n"
      ],
      "text/plain": [
       "\u001b[1mModel: \"sequential_41\"\u001b[0m\n"
      ]
     },
     "metadata": {},
     "output_type": "display_data"
    },
    {
     "data": {
      "text/html": [
       "<pre style=\"white-space:pre;overflow-x:auto;line-height:normal;font-family:Menlo,'DejaVu Sans Mono',consolas,'Courier New',monospace\">┏━━━━━━━━━━━━━━━━━━━━━━━━━━━━━━━━━┳━━━━━━━━━━━━━━━━━━━━━━━━┳━━━━━━━━━━━━━━━┓\n",
       "┃<span style=\"font-weight: bold\"> Layer (type)                    </span>┃<span style=\"font-weight: bold\"> Output Shape           </span>┃<span style=\"font-weight: bold\">       Param # </span>┃\n",
       "┡━━━━━━━━━━━━━━━━━━━━━━━━━━━━━━━━━╇━━━━━━━━━━━━━━━━━━━━━━━━╇━━━━━━━━━━━━━━━┩\n",
       "│ dense_166 (<span style=\"color: #0087ff; text-decoration-color: #0087ff\">Dense</span>)               │ (<span style=\"color: #00d7ff; text-decoration-color: #00d7ff\">None</span>, <span style=\"color: #00af00; text-decoration-color: #00af00\">8</span>)              │            <span style=\"color: #00af00; text-decoration-color: #00af00\">64</span> │\n",
       "├─────────────────────────────────┼────────────────────────┼───────────────┤\n",
       "│ dense_167 (<span style=\"color: #0087ff; text-decoration-color: #0087ff\">Dense</span>)               │ (<span style=\"color: #00d7ff; text-decoration-color: #00d7ff\">None</span>, <span style=\"color: #00af00; text-decoration-color: #00af00\">10</span>)             │            <span style=\"color: #00af00; text-decoration-color: #00af00\">90</span> │\n",
       "├─────────────────────────────────┼────────────────────────┼───────────────┤\n",
       "│ dense_168 (<span style=\"color: #0087ff; text-decoration-color: #0087ff\">Dense</span>)               │ (<span style=\"color: #00d7ff; text-decoration-color: #00d7ff\">None</span>, <span style=\"color: #00af00; text-decoration-color: #00af00\">10</span>)             │           <span style=\"color: #00af00; text-decoration-color: #00af00\">110</span> │\n",
       "├─────────────────────────────────┼────────────────────────┼───────────────┤\n",
       "│ dense_169 (<span style=\"color: #0087ff; text-decoration-color: #0087ff\">Dense</span>)               │ (<span style=\"color: #00d7ff; text-decoration-color: #00d7ff\">None</span>, <span style=\"color: #00af00; text-decoration-color: #00af00\">10</span>)             │           <span style=\"color: #00af00; text-decoration-color: #00af00\">110</span> │\n",
       "├─────────────────────────────────┼────────────────────────┼───────────────┤\n",
       "│ dense_170 (<span style=\"color: #0087ff; text-decoration-color: #0087ff\">Dense</span>)               │ (<span style=\"color: #00d7ff; text-decoration-color: #00d7ff\">None</span>, <span style=\"color: #00af00; text-decoration-color: #00af00\">3</span>)              │            <span style=\"color: #00af00; text-decoration-color: #00af00\">33</span> │\n",
       "└─────────────────────────────────┴────────────────────────┴───────────────┘\n",
       "</pre>\n"
      ],
      "text/plain": [
       "┏━━━━━━━━━━━━━━━━━━━━━━━━━━━━━━━━━┳━━━━━━━━━━━━━━━━━━━━━━━━┳━━━━━━━━━━━━━━━┓\n",
       "┃\u001b[1m \u001b[0m\u001b[1mLayer (type)                   \u001b[0m\u001b[1m \u001b[0m┃\u001b[1m \u001b[0m\u001b[1mOutput Shape          \u001b[0m\u001b[1m \u001b[0m┃\u001b[1m \u001b[0m\u001b[1m      Param #\u001b[0m\u001b[1m \u001b[0m┃\n",
       "┡━━━━━━━━━━━━━━━━━━━━━━━━━━━━━━━━━╇━━━━━━━━━━━━━━━━━━━━━━━━╇━━━━━━━━━━━━━━━┩\n",
       "│ dense_166 (\u001b[38;5;33mDense\u001b[0m)               │ (\u001b[38;5;45mNone\u001b[0m, \u001b[38;5;34m8\u001b[0m)              │            \u001b[38;5;34m64\u001b[0m │\n",
       "├─────────────────────────────────┼────────────────────────┼───────────────┤\n",
       "│ dense_167 (\u001b[38;5;33mDense\u001b[0m)               │ (\u001b[38;5;45mNone\u001b[0m, \u001b[38;5;34m10\u001b[0m)             │            \u001b[38;5;34m90\u001b[0m │\n",
       "├─────────────────────────────────┼────────────────────────┼───────────────┤\n",
       "│ dense_168 (\u001b[38;5;33mDense\u001b[0m)               │ (\u001b[38;5;45mNone\u001b[0m, \u001b[38;5;34m10\u001b[0m)             │           \u001b[38;5;34m110\u001b[0m │\n",
       "├─────────────────────────────────┼────────────────────────┼───────────────┤\n",
       "│ dense_169 (\u001b[38;5;33mDense\u001b[0m)               │ (\u001b[38;5;45mNone\u001b[0m, \u001b[38;5;34m10\u001b[0m)             │           \u001b[38;5;34m110\u001b[0m │\n",
       "├─────────────────────────────────┼────────────────────────┼───────────────┤\n",
       "│ dense_170 (\u001b[38;5;33mDense\u001b[0m)               │ (\u001b[38;5;45mNone\u001b[0m, \u001b[38;5;34m3\u001b[0m)              │            \u001b[38;5;34m33\u001b[0m │\n",
       "└─────────────────────────────────┴────────────────────────┴───────────────┘\n"
      ]
     },
     "metadata": {},
     "output_type": "display_data"
    },
    {
     "data": {
      "text/html": [
       "<pre style=\"white-space:pre;overflow-x:auto;line-height:normal;font-family:Menlo,'DejaVu Sans Mono',consolas,'Courier New',monospace\"><span style=\"font-weight: bold\"> Total params: </span><span style=\"color: #00af00; text-decoration-color: #00af00\">407</span> (1.59 KB)\n",
       "</pre>\n"
      ],
      "text/plain": [
       "\u001b[1m Total params: \u001b[0m\u001b[38;5;34m407\u001b[0m (1.59 KB)\n"
      ]
     },
     "metadata": {},
     "output_type": "display_data"
    },
    {
     "data": {
      "text/html": [
       "<pre style=\"white-space:pre;overflow-x:auto;line-height:normal;font-family:Menlo,'DejaVu Sans Mono',consolas,'Courier New',monospace\"><span style=\"font-weight: bold\"> Trainable params: </span><span style=\"color: #00af00; text-decoration-color: #00af00\">407</span> (1.59 KB)\n",
       "</pre>\n"
      ],
      "text/plain": [
       "\u001b[1m Trainable params: \u001b[0m\u001b[38;5;34m407\u001b[0m (1.59 KB)\n"
      ]
     },
     "metadata": {},
     "output_type": "display_data"
    },
    {
     "data": {
      "text/html": [
       "<pre style=\"white-space:pre;overflow-x:auto;line-height:normal;font-family:Menlo,'DejaVu Sans Mono',consolas,'Courier New',monospace\"><span style=\"font-weight: bold\"> Non-trainable params: </span><span style=\"color: #00af00; text-decoration-color: #00af00\">0</span> (0.00 B)\n",
       "</pre>\n"
      ],
      "text/plain": [
       "\u001b[1m Non-trainable params: \u001b[0m\u001b[38;5;34m0\u001b[0m (0.00 B)\n"
      ]
     },
     "metadata": {},
     "output_type": "display_data"
    }
   ],
   "source": [
    "model.summary()"
   ]
  },
  {
   "cell_type": "code",
   "execution_count": 449,
   "id": "e6eb2ec6-66d1-4b07-8ffd-5ca93dbf61f8",
   "metadata": {},
   "outputs": [
    {
     "name": "stdout",
     "output_type": "stream",
     "text": [
      "Epoch 1/15\n",
      "\u001b[1m312/312\u001b[0m \u001b[32m━━━━━━━━━━━━━━━━━━━━\u001b[0m\u001b[37m\u001b[0m \u001b[1m5s\u001b[0m 3ms/step - accuracy: 0.4909 - loss: 1.2554\n",
      "Epoch 2/15\n",
      "\u001b[1m312/312\u001b[0m \u001b[32m━━━━━━━━━━━━━━━━━━━━\u001b[0m\u001b[37m\u001b[0m \u001b[1m1s\u001b[0m 4ms/step - accuracy: 0.7395 - loss: 0.6153\n",
      "Epoch 3/15\n",
      "\u001b[1m312/312\u001b[0m \u001b[32m━━━━━━━━━━━━━━━━━━━━\u001b[0m\u001b[37m\u001b[0m \u001b[1m1s\u001b[0m 4ms/step - accuracy: 0.7897 - loss: 0.5145\n",
      "Epoch 4/15\n",
      "\u001b[1m312/312\u001b[0m \u001b[32m━━━━━━━━━━━━━━━━━━━━\u001b[0m\u001b[37m\u001b[0m \u001b[1m1s\u001b[0m 3ms/step - accuracy: 0.7943 - loss: 0.4616\n",
      "Epoch 5/15\n",
      "\u001b[1m312/312\u001b[0m \u001b[32m━━━━━━━━━━━━━━━━━━━━\u001b[0m\u001b[37m\u001b[0m \u001b[1m1s\u001b[0m 3ms/step - accuracy: 0.8055 - loss: 0.4359\n",
      "Epoch 6/15\n",
      "\u001b[1m312/312\u001b[0m \u001b[32m━━━━━━━━━━━━━━━━━━━━\u001b[0m\u001b[37m\u001b[0m \u001b[1m1s\u001b[0m 3ms/step - accuracy: 0.8579 - loss: 0.3618\n",
      "Epoch 7/15\n",
      "\u001b[1m312/312\u001b[0m \u001b[32m━━━━━━━━━━━━━━━━━━━━\u001b[0m\u001b[37m\u001b[0m \u001b[1m1s\u001b[0m 3ms/step - accuracy: 0.8516 - loss: 0.3576\n",
      "Epoch 8/15\n",
      "\u001b[1m312/312\u001b[0m \u001b[32m━━━━━━━━━━━━━━━━━━━━\u001b[0m\u001b[37m\u001b[0m \u001b[1m1s\u001b[0m 4ms/step - accuracy: 0.8554 - loss: 0.3519\n",
      "Epoch 9/15\n",
      "\u001b[1m312/312\u001b[0m \u001b[32m━━━━━━━━━━━━━━━━━━━━\u001b[0m\u001b[37m\u001b[0m \u001b[1m1s\u001b[0m 3ms/step - accuracy: 0.8841 - loss: 0.3086\n",
      "Epoch 10/15\n",
      "\u001b[1m312/312\u001b[0m \u001b[32m━━━━━━━━━━━━━━━━━━━━\u001b[0m\u001b[37m\u001b[0m \u001b[1m1s\u001b[0m 3ms/step - accuracy: 0.8629 - loss: 0.3167\n",
      "Epoch 11/15\n",
      "\u001b[1m312/312\u001b[0m \u001b[32m━━━━━━━━━━━━━━━━━━━━\u001b[0m\u001b[37m\u001b[0m \u001b[1m1s\u001b[0m 3ms/step - accuracy: 0.8683 - loss: 0.3152\n",
      "Epoch 12/15\n",
      "\u001b[1m312/312\u001b[0m \u001b[32m━━━━━━━━━━━━━━━━━━━━\u001b[0m\u001b[37m\u001b[0m \u001b[1m1s\u001b[0m 4ms/step - accuracy: 0.8763 - loss: 0.2815\n",
      "Epoch 13/15\n",
      "\u001b[1m312/312\u001b[0m \u001b[32m━━━━━━━━━━━━━━━━━━━━\u001b[0m\u001b[37m\u001b[0m \u001b[1m1s\u001b[0m 3ms/step - accuracy: 0.9036 - loss: 0.2451\n",
      "Epoch 14/15\n",
      "\u001b[1m312/312\u001b[0m \u001b[32m━━━━━━━━━━━━━━━━━━━━\u001b[0m\u001b[37m\u001b[0m \u001b[1m1s\u001b[0m 4ms/step - accuracy: 0.9134 - loss: 0.2237\n",
      "Epoch 15/15\n",
      "\u001b[1m312/312\u001b[0m \u001b[32m━━━━━━━━━━━━━━━━━━━━\u001b[0m\u001b[37m\u001b[0m \u001b[1m1s\u001b[0m 3ms/step - accuracy: 0.8910 - loss: 0.2481\n"
     ]
    },
    {
     "data": {
      "text/plain": [
       "<keras.src.callbacks.history.History at 0x1f544c80b10>"
      ]
     },
     "execution_count": 449,
     "metadata": {},
     "output_type": "execute_result"
    }
   ],
   "source": [
    "model.compile(loss='sparse_categorical_crossentropy', optimizer='adam', metrics=['accuracy'])\n",
    "model.fit(X_train, y_train, epochs =15, batch_size = 5, shuffle=True, verbose=1)\n"
   ]
  },
  {
   "cell_type": "code",
   "execution_count": 450,
   "id": "436f0534-4234-49e9-a978-60db7c932a3f",
   "metadata": {},
   "outputs": [
    {
     "name": "stdout",
     "output_type": "stream",
     "text": [
      "\u001b[1m21/21\u001b[0m \u001b[32m━━━━━━━━━━━━━━━━━━━━\u001b[0m\u001b[37m\u001b[0m \u001b[1m0s\u001b[0m 12ms/step\n"
     ]
    }
   ],
   "source": [
    "# y_pred_ann = model.predict(X_test).round()\n",
    "y_pred_prob = model.predict(X_test)\n",
    "y_pred_ann = tf.argmax(y_pred_prob, axis=1)"
   ]
  },
  {
   "cell_type": "code",
   "execution_count": 451,
   "id": "708889ea-86ed-46bb-88da-0b2778d6b865",
   "metadata": {},
   "outputs": [
    {
     "name": "stdout",
     "output_type": "stream",
     "text": [
      "F1 Score: 0.912\n",
      "Accuracy: 0.913\n",
      "Recall 0.913\n",
      "Precision 0.914\n"
     ]
    }
   ],
   "source": [
    "print(\"F1 Score:\",round(f1_score(y_test, y_pred_ann, average='macro'),3))\n",
    "print(\"Accuracy:\",round(accuracy_score(y_test, y_pred_ann),3))\n",
    "print(\"Recall\", round(recall_score(y_test, y_pred_ann, average='macro'), 3))\n",
    "print(\"Precision\", round(precision_score(y_test, y_pred_ann, average='macro'),3))"
   ]
  },
  {
   "cell_type": "markdown",
   "id": "a86c823d-e601-4e75-bd31-eaa1c41964f6",
   "metadata": {},
   "source": [
    "## Test 40"
   ]
  },
  {
   "cell_type": "code",
   "execution_count": 118,
   "id": "b9e4dc75-bba0-4996-ae74-f476a7839b62",
   "metadata": {},
   "outputs": [],
   "source": [
    "X_train, X_test, y_train, y_test = train_test_split(X, y, test_size=0.4, random_state=42)"
   ]
  },
  {
   "cell_type": "code",
   "execution_count": 119,
   "id": "71afd91d-dd58-4d8b-ab24-a9cfda463c1d",
   "metadata": {},
   "outputs": [
    {
     "data": {
      "text/html": [
       "<div>\n",
       "<style scoped>\n",
       "    .dataframe tbody tr th:only-of-type {\n",
       "        vertical-align: middle;\n",
       "    }\n",
       "\n",
       "    .dataframe tbody tr th {\n",
       "        vertical-align: top;\n",
       "    }\n",
       "\n",
       "    .dataframe thead th {\n",
       "        text-align: right;\n",
       "    }\n",
       "</style>\n",
       "<table border=\"1\" class=\"dataframe\">\n",
       "  <thead>\n",
       "    <tr style=\"text-align: right;\">\n",
       "      <th></th>\n",
       "      <th>kanal</th>\n",
       "      <th>spasi_kanal_(ghz)</th>\n",
       "      <th>power_(dbm)</th>\n",
       "      <th>panjang_kabel_(km)</th>\n",
       "      <th>redaman_(dbm/km)</th>\n",
       "      <th>osnr_(db)</th>\n",
       "      <th>q_factor</th>\n",
       "    </tr>\n",
       "  </thead>\n",
       "  <tbody>\n",
       "    <tr>\n",
       "      <th>1618</th>\n",
       "      <td>4</td>\n",
       "      <td>50</td>\n",
       "      <td>3</td>\n",
       "      <td>70</td>\n",
       "      <td>0.137244</td>\n",
       "      <td>22.056071</td>\n",
       "      <td>5.052551</td>\n",
       "    </tr>\n",
       "    <tr>\n",
       "      <th>1071</th>\n",
       "      <td>8</td>\n",
       "      <td>50</td>\n",
       "      <td>4</td>\n",
       "      <td>60</td>\n",
       "      <td>0.000000</td>\n",
       "      <td>22.122880</td>\n",
       "      <td>5.848479</td>\n",
       "    </tr>\n",
       "    <tr>\n",
       "      <th>1541</th>\n",
       "      <td>8</td>\n",
       "      <td>50</td>\n",
       "      <td>4</td>\n",
       "      <td>60</td>\n",
       "      <td>0.189053</td>\n",
       "      <td>22.096716</td>\n",
       "      <td>5.775621</td>\n",
       "    </tr>\n",
       "    <tr>\n",
       "      <th>1179</th>\n",
       "      <td>16</td>\n",
       "      <td>50</td>\n",
       "      <td>0</td>\n",
       "      <td>60</td>\n",
       "      <td>0.179429</td>\n",
       "      <td>22.042057</td>\n",
       "      <td>5.790000</td>\n",
       "    </tr>\n",
       "    <tr>\n",
       "      <th>609</th>\n",
       "      <td>4</td>\n",
       "      <td>100</td>\n",
       "      <td>2</td>\n",
       "      <td>50</td>\n",
       "      <td>0.200000</td>\n",
       "      <td>31.890000</td>\n",
       "      <td>13.010000</td>\n",
       "    </tr>\n",
       "    <tr>\n",
       "      <th>...</th>\n",
       "      <td>...</td>\n",
       "      <td>...</td>\n",
       "      <td>...</td>\n",
       "      <td>...</td>\n",
       "      <td>...</td>\n",
       "      <td>...</td>\n",
       "      <td>...</td>\n",
       "    </tr>\n",
       "    <tr>\n",
       "      <th>1638</th>\n",
       "      <td>16</td>\n",
       "      <td>50</td>\n",
       "      <td>4</td>\n",
       "      <td>70</td>\n",
       "      <td>0.118620</td>\n",
       "      <td>22.133724</td>\n",
       "      <td>5.131862</td>\n",
       "    </tr>\n",
       "    <tr>\n",
       "      <th>1095</th>\n",
       "      <td>4</td>\n",
       "      <td>50</td>\n",
       "      <td>5</td>\n",
       "      <td>60</td>\n",
       "      <td>0.226623</td>\n",
       "      <td>22.092013</td>\n",
       "      <td>5.852045</td>\n",
       "    </tr>\n",
       "    <tr>\n",
       "      <th>1130</th>\n",
       "      <td>4</td>\n",
       "      <td>200</td>\n",
       "      <td>0</td>\n",
       "      <td>65</td>\n",
       "      <td>0.345067</td>\n",
       "      <td>36.898027</td>\n",
       "      <td>6.533240</td>\n",
       "    </tr>\n",
       "    <tr>\n",
       "      <th>1294</th>\n",
       "      <td>16</td>\n",
       "      <td>50</td>\n",
       "      <td>2</td>\n",
       "      <td>60</td>\n",
       "      <td>0.091845</td>\n",
       "      <td>22.129399</td>\n",
       "      <td>5.794292</td>\n",
       "    </tr>\n",
       "    <tr>\n",
       "      <th>860</th>\n",
       "      <td>8</td>\n",
       "      <td>150</td>\n",
       "      <td>5</td>\n",
       "      <td>60</td>\n",
       "      <td>0.200000</td>\n",
       "      <td>36.350000</td>\n",
       "      <td>10.300000</td>\n",
       "    </tr>\n",
       "  </tbody>\n",
       "</table>\n",
       "<p>1333 rows × 7 columns</p>\n",
       "</div>"
      ],
      "text/plain": [
       "      kanal  spasi_kanal_(ghz)  power_(dbm)  panjang_kabel_(km)  \\\n",
       "1618      4                 50            3                  70   \n",
       "1071      8                 50            4                  60   \n",
       "1541      8                 50            4                  60   \n",
       "1179     16                 50            0                  60   \n",
       "609       4                100            2                  50   \n",
       "...     ...                ...          ...                 ...   \n",
       "1638     16                 50            4                  70   \n",
       "1095      4                 50            5                  60   \n",
       "1130      4                200            0                  65   \n",
       "1294     16                 50            2                  60   \n",
       "860       8                150            5                  60   \n",
       "\n",
       "      redaman_(dbm/km)  osnr_(db)   q_factor  \n",
       "1618          0.137244  22.056071   5.052551  \n",
       "1071          0.000000  22.122880   5.848479  \n",
       "1541          0.189053  22.096716   5.775621  \n",
       "1179          0.179429  22.042057   5.790000  \n",
       "609           0.200000  31.890000  13.010000  \n",
       "...                ...        ...        ...  \n",
       "1638          0.118620  22.133724   5.131862  \n",
       "1095          0.226623  22.092013   5.852045  \n",
       "1130          0.345067  36.898027   6.533240  \n",
       "1294          0.091845  22.129399   5.794292  \n",
       "860           0.200000  36.350000  10.300000  \n",
       "\n",
       "[1333 rows x 7 columns]"
      ]
     },
     "execution_count": 119,
     "metadata": {},
     "output_type": "execute_result"
    }
   ],
   "source": [
    "X_train"
   ]
  },
  {
   "cell_type": "markdown",
   "id": "358e3ab3-1fab-4d4f-8a44-4e043c79153e",
   "metadata": {},
   "source": [
    "### KNeighbors"
   ]
  },
  {
   "cell_type": "code",
   "execution_count": 120,
   "id": "1c78ca61-e444-4149-8802-a0eb83669e4a",
   "metadata": {},
   "outputs": [],
   "source": [
    "knn = KNeighborsClassifier()\n",
    "knn.fit(X_train, y_train)\n",
    "\n",
    "y_pred_knn = knn.predict(X_test)"
   ]
  },
  {
   "cell_type": "code",
   "execution_count": 121,
   "id": "835e82b6-bd24-4ffb-955a-1167c5b31104",
   "metadata": {},
   "outputs": [
    {
     "name": "stdout",
     "output_type": "stream",
     "text": [
      "              precision    recall  f1-score   support\n",
      "\n",
      "           0       0.99      0.97      0.98       305\n",
      "           1       0.96      0.99      0.97       279\n",
      "           2       1.00      0.99      0.99       306\n",
      "\n",
      "    accuracy                           0.98       890\n",
      "   macro avg       0.98      0.98      0.98       890\n",
      "weighted avg       0.98      0.98      0.98       890\n",
      "\n"
     ]
    }
   ],
   "source": [
    "print(classification_report(y_test, y_pred_knn))"
   ]
  },
  {
   "cell_type": "code",
   "execution_count": 122,
   "id": "44b8d448-00f0-4669-805d-31c255d6a167",
   "metadata": {},
   "outputs": [
    {
     "name": "stdout",
     "output_type": "stream",
     "text": [
      "F1 Score: 0.983\n",
      "Accuracy: 0.983\n",
      "Recall 0.983\n",
      "Precision 0.983\n"
     ]
    }
   ],
   "source": [
    "print(\"F1 Score:\",round(f1_score(y_test, y_pred_knn, average='macro'),3))\n",
    "print(\"Accuracy:\",round(accuracy_score(y_test, y_pred_knn),3))\n",
    "print(\"Recall\", round(recall_score(y_test, y_pred_knn, average='macro'), 3))\n",
    "print(\"Precision\", round(precision_score(y_test, y_pred_knn, average='macro'),3))"
   ]
  },
  {
   "cell_type": "markdown",
   "id": "e1954b24-279f-45fc-a148-202d488ebd66",
   "metadata": {},
   "source": [
    "### Decision Tree"
   ]
  },
  {
   "cell_type": "code",
   "execution_count": 123,
   "id": "f074cf87-df26-4c2e-a2b9-f3de8e316733",
   "metadata": {},
   "outputs": [],
   "source": [
    "dtc = DecisionTreeClassifier()\n",
    "dtc.fit(X_train, y_train)\n",
    "y_pred_dtc = dtc.predict(X_test)"
   ]
  },
  {
   "cell_type": "code",
   "execution_count": 124,
   "id": "cdb464a6-3e9b-47ad-90cd-712907d89850",
   "metadata": {},
   "outputs": [
    {
     "name": "stdout",
     "output_type": "stream",
     "text": [
      "              precision    recall  f1-score   support\n",
      "\n",
      "           0       1.00      1.00      1.00       305\n",
      "           1       1.00      1.00      1.00       279\n",
      "           2       1.00      1.00      1.00       306\n",
      "\n",
      "    accuracy                           1.00       890\n",
      "   macro avg       1.00      1.00      1.00       890\n",
      "weighted avg       1.00      1.00      1.00       890\n",
      "\n"
     ]
    }
   ],
   "source": [
    "print(classification_report(y_test, y_pred_dtc))"
   ]
  },
  {
   "cell_type": "code",
   "execution_count": 125,
   "id": "bb95f0a3-5d8b-4500-9d32-0f6842be9bf0",
   "metadata": {},
   "outputs": [
    {
     "name": "stdout",
     "output_type": "stream",
     "text": [
      "F1 Score: 1.0\n",
      "Accuracy: 1.0\n",
      "Recall 1.0\n",
      "Precision 1.0\n"
     ]
    }
   ],
   "source": [
    "print(\"F1 Score:\",round(f1_score(y_test, y_pred_dtc, average='macro'),3))\n",
    "print(\"Accuracy:\",round(accuracy_score(y_test, y_pred_dtc),3))\n",
    "print(\"Recall\", round(recall_score(y_test, y_pred_dtc, average='macro'), 3))\n",
    "print(\"Precision\", round(precision_score(y_test, y_pred_dtc, average='macro'),3))"
   ]
  },
  {
   "cell_type": "markdown",
   "id": "08bc5406-cffb-4ac5-bfbb-cd6aab7e5294",
   "metadata": {},
   "source": [
    "### Random Forest"
   ]
  },
  {
   "cell_type": "code",
   "execution_count": 126,
   "id": "7f82532c-d0e1-41f6-bfc2-305c44d6e968",
   "metadata": {},
   "outputs": [],
   "source": [
    "rf = RandomForestClassifier(n_estimators=40)\n",
    "rf.fit(X_train, y_train)\n",
    "y_pred_rf = rf.predict(X_test)"
   ]
  },
  {
   "cell_type": "code",
   "execution_count": 127,
   "id": "b7fb7a4a-2036-481e-b35c-27d7a1570f0f",
   "metadata": {},
   "outputs": [
    {
     "name": "stdout",
     "output_type": "stream",
     "text": [
      "              precision    recall  f1-score   support\n",
      "\n",
      "           0       1.00      1.00      1.00       305\n",
      "           1       1.00      1.00      1.00       279\n",
      "           2       1.00      1.00      1.00       306\n",
      "\n",
      "    accuracy                           1.00       890\n",
      "   macro avg       1.00      1.00      1.00       890\n",
      "weighted avg       1.00      1.00      1.00       890\n",
      "\n"
     ]
    }
   ],
   "source": [
    "print(classification_report(y_test, y_pred_rf))"
   ]
  },
  {
   "cell_type": "code",
   "execution_count": 128,
   "id": "3906a43a-ff57-46e5-bc10-f9905ae6b358",
   "metadata": {},
   "outputs": [
    {
     "name": "stdout",
     "output_type": "stream",
     "text": [
      "F1 Score: 1.0\n",
      "Accuracy: 1.0\n",
      "Recall 1.0\n",
      "Precision 1.0\n"
     ]
    }
   ],
   "source": [
    "print(\"F1 Score:\",round(f1_score(y_test, y_pred_rf, average='macro'),3))\n",
    "print(\"Accuracy:\",round(accuracy_score(y_test, y_pred_rf),3))\n",
    "print(\"Recall\", round(recall_score(y_test, y_pred_rf, average='macro'), 3))\n",
    "print(\"Precision\", round(precision_score(y_test, y_pred_rf, average='macro'),3))"
   ]
  },
  {
   "cell_type": "markdown",
   "id": "35886d9f-10e4-4aec-84cc-2761b2062c13",
   "metadata": {},
   "source": [
    "### Gradient Boosting"
   ]
  },
  {
   "cell_type": "code",
   "execution_count": 129,
   "id": "638e0754-8fb0-4997-a0a5-b6c18382b103",
   "metadata": {},
   "outputs": [],
   "source": [
    "gb = GradientBoostingClassifier()\n",
    "gb.fit(X_train, y_train)\n",
    "y_pred_gb = gb.predict(X_test)"
   ]
  },
  {
   "cell_type": "code",
   "execution_count": 130,
   "id": "d960ea89-b46e-41a5-8c5b-b261e1b77c03",
   "metadata": {},
   "outputs": [
    {
     "name": "stdout",
     "output_type": "stream",
     "text": [
      "              precision    recall  f1-score   support\n",
      "\n",
      "           0       1.00      1.00      1.00       305\n",
      "           1       1.00      1.00      1.00       279\n",
      "           2       1.00      1.00      1.00       306\n",
      "\n",
      "    accuracy                           1.00       890\n",
      "   macro avg       1.00      1.00      1.00       890\n",
      "weighted avg       1.00      1.00      1.00       890\n",
      "\n"
     ]
    }
   ],
   "source": [
    "print(classification_report(y_test, y_pred_gb))"
   ]
  },
  {
   "cell_type": "code",
   "execution_count": 131,
   "id": "de723807-8435-4eec-911a-eee54e3073d4",
   "metadata": {},
   "outputs": [
    {
     "name": "stdout",
     "output_type": "stream",
     "text": [
      "F1 Score: 1.0\n",
      "Accuracy: 1.0\n",
      "Recall 1.0\n",
      "Precision 1.0\n"
     ]
    }
   ],
   "source": [
    "print(\"F1 Score:\",round(f1_score(y_test, y_pred_gb, average='macro'),3))\n",
    "print(\"Accuracy:\",round(accuracy_score(y_test, y_pred_gb),3))\n",
    "print(\"Recall\", round(recall_score(y_test, y_pred_gb, average='macro'), 3))\n",
    "print(\"Precision\", round(precision_score(y_test, y_pred_gb, average='macro'),3))"
   ]
  },
  {
   "cell_type": "markdown",
   "id": "079f3b3e-9852-4803-b9c5-5e7de0342fdc",
   "metadata": {},
   "source": [
    "### XGB"
   ]
  },
  {
   "cell_type": "code",
   "execution_count": 132,
   "id": "e49d901f-c883-4a27-8331-035a87e9b332",
   "metadata": {},
   "outputs": [],
   "source": [
    "xgb = XGBClassifier()\n",
    "xgb.fit(X_train, y_train)\n",
    "y_pred_xgb = xgb.predict(X_test)"
   ]
  },
  {
   "cell_type": "code",
   "execution_count": 133,
   "id": "a0156cde-6d3c-41f3-babd-9ff0909e9778",
   "metadata": {},
   "outputs": [
    {
     "name": "stdout",
     "output_type": "stream",
     "text": [
      "              precision    recall  f1-score   support\n",
      "\n",
      "           0       1.00      1.00      1.00       305\n",
      "           1       0.99      1.00      1.00       279\n",
      "           2       1.00      0.99      1.00       306\n",
      "\n",
      "    accuracy                           1.00       890\n",
      "   macro avg       1.00      1.00      1.00       890\n",
      "weighted avg       1.00      1.00      1.00       890\n",
      "\n"
     ]
    }
   ],
   "source": [
    "print(classification_report(y_test, y_pred_xgb))"
   ]
  },
  {
   "cell_type": "code",
   "execution_count": 134,
   "id": "6700682b-9335-43be-b56b-6d56925c7498",
   "metadata": {},
   "outputs": [
    {
     "name": "stdout",
     "output_type": "stream",
     "text": [
      "F1 Score: 0.998\n",
      "Accuracy: 0.998\n",
      "Recall 0.998\n",
      "Precision 0.998\n"
     ]
    }
   ],
   "source": [
    "print(\"F1 Score:\",round(f1_score(y_test, y_pred_xgb, average='macro'),3))\n",
    "print(\"Accuracy:\",round(accuracy_score(y_test, y_pred_xgb),3))\n",
    "print(\"Recall\", round(recall_score(y_test, y_pred_xgb, average='macro'), 3))\n",
    "print(\"Precision\", round(precision_score(y_test, y_pred_xgb, average='macro'),3))"
   ]
  },
  {
   "cell_type": "markdown",
   "id": "9fa55509-467b-4dd6-9fde-b0f4f067b5b0",
   "metadata": {},
   "source": [
    "### Support Vector"
   ]
  },
  {
   "cell_type": "code",
   "execution_count": 135,
   "id": "c24bf337-3ba9-4d09-8436-76189fc29ec0",
   "metadata": {},
   "outputs": [],
   "source": [
    "svc = SVC(kernel='rbf',\n",
    "               gamma=0.5,\n",
    "               C=0.1)\n",
    "svc.fit(X_train, y_train)\n",
    "\n",
    "y_pred_svc = svc.predict(X_test)"
   ]
  },
  {
   "cell_type": "code",
   "execution_count": 136,
   "id": "e9e07bcf-ce24-41cc-8e48-e926d314adbf",
   "metadata": {},
   "outputs": [
    {
     "name": "stdout",
     "output_type": "stream",
     "text": [
      "              precision    recall  f1-score   support\n",
      "\n",
      "           0       0.82      1.00      0.90       305\n",
      "           1       0.75      0.80      0.77       279\n",
      "           2       1.00      0.72      0.84       306\n",
      "\n",
      "    accuracy                           0.84       890\n",
      "   macro avg       0.86      0.84      0.84       890\n",
      "weighted avg       0.86      0.84      0.84       890\n",
      "\n"
     ]
    }
   ],
   "source": [
    "print(classification_report(y_test, y_pred_svc))"
   ]
  },
  {
   "cell_type": "code",
   "execution_count": 137,
   "id": "44f5de9f-6daf-4de6-b010-63ef7cbd206d",
   "metadata": {},
   "outputs": [
    {
     "name": "stdout",
     "output_type": "stream",
     "text": [
      "F1 Score: 0.836\n",
      "Accuracy: 0.839\n",
      "Recall 0.838\n",
      "Precision 0.855\n"
     ]
    }
   ],
   "source": [
    "print(\"F1 Score:\",round(f1_score(y_test, y_pred_svc, average='macro'),3))\n",
    "print(\"Accuracy:\",round(accuracy_score(y_test, y_pred_svc),3))\n",
    "print(\"Recall\", round(recall_score(y_test, y_pred_svc, average='macro'), 3))\n",
    "print(\"Precision\", round(precision_score(y_test, y_pred_svc, average='macro'),3))"
   ]
  },
  {
   "cell_type": "markdown",
   "id": "7bcd68c9-3952-454c-bc7e-d5501a6c4099",
   "metadata": {},
   "source": [
    "### Naive Bayes"
   ]
  },
  {
   "cell_type": "code",
   "execution_count": 138,
   "id": "33c1fe25-bb5e-42ef-8ac4-a8e6df92c9ac",
   "metadata": {},
   "outputs": [],
   "source": [
    "nb = CategoricalNB()\n",
    "nb.fit(X_train, y_train)\n",
    "y_pred_nb = nb.predict(X_test)"
   ]
  },
  {
   "cell_type": "code",
   "execution_count": 139,
   "id": "dcb69aba-4f40-45b8-9d55-a7a76f157aca",
   "metadata": {},
   "outputs": [
    {
     "name": "stdout",
     "output_type": "stream",
     "text": [
      "              precision    recall  f1-score   support\n",
      "\n",
      "           0       0.99      0.99      0.99       305\n",
      "           1       0.82      0.89      0.85       279\n",
      "           2       0.90      0.84      0.87       306\n",
      "\n",
      "    accuracy                           0.90       890\n",
      "   macro avg       0.90      0.90      0.90       890\n",
      "weighted avg       0.91      0.90      0.90       890\n",
      "\n"
     ]
    }
   ],
   "source": [
    "print(classification_report(y_test, y_pred_nb))"
   ]
  },
  {
   "cell_type": "code",
   "execution_count": 140,
   "id": "213db79a-70c9-40fe-9d98-f4732ee4a463",
   "metadata": {},
   "outputs": [
    {
     "name": "stdout",
     "output_type": "stream",
     "text": [
      "F1 Score: 0.983\n",
      "Accuracy: 0.983\n",
      "Recall 0.983\n",
      "Precision 0.983\n"
     ]
    }
   ],
   "source": [
    "print(\"F1 Score:\",round(f1_score(y_test, y_pred_knn, average='macro'),3))\n",
    "print(\"Accuracy:\",round(accuracy_score(y_test, y_pred_knn),3))\n",
    "print(\"Recall\", round(recall_score(y_test, y_pred_knn, average='macro'), 3))\n",
    "print(\"Precision\", round(precision_score(y_test, y_pred_knn, average='macro'),3))"
   ]
  },
  {
   "cell_type": "markdown",
   "id": "f06b8292-0508-44ff-be71-348f05b93389",
   "metadata": {},
   "source": [
    "### Logistic Regression Multinomial"
   ]
  },
  {
   "cell_type": "code",
   "execution_count": 141,
   "id": "6de02683-1df0-46d2-9518-ad67414341e4",
   "metadata": {},
   "outputs": [
    {
     "name": "stderr",
     "output_type": "stream",
     "text": [
      "C:\\Users\\hanan\\anaconda3\\envs\\notebook\\Lib\\site-packages\\sklearn\\linear_model\\_logistic.py:469: ConvergenceWarning: lbfgs failed to converge (status=1):\n",
      "STOP: TOTAL NO. of ITERATIONS REACHED LIMIT.\n",
      "\n",
      "Increase the number of iterations (max_iter) or scale the data as shown in:\n",
      "    https://scikit-learn.org/stable/modules/preprocessing.html\n",
      "Please also refer to the documentation for alternative solver options:\n",
      "    https://scikit-learn.org/stable/modules/linear_model.html#logistic-regression\n",
      "  n_iter_i = _check_optimize_result(\n"
     ]
    }
   ],
   "source": [
    "lr = LogisticRegression(multi_class='multinomial', solver='lbfgs')\n",
    "lr.fit(X_train, y_train)\n",
    "y_pred_lr = lr.predict(X_test)"
   ]
  },
  {
   "cell_type": "code",
   "execution_count": 142,
   "id": "e921cabc-5e95-4154-a634-da6977c16160",
   "metadata": {},
   "outputs": [
    {
     "name": "stdout",
     "output_type": "stream",
     "text": [
      "              precision    recall  f1-score   support\n",
      "\n",
      "           0       0.97      0.86      0.91       305\n",
      "           1       0.79      0.96      0.87       279\n",
      "           2       0.99      0.91      0.95       306\n",
      "\n",
      "    accuracy                           0.91       890\n",
      "   macro avg       0.92      0.91      0.91       890\n",
      "weighted avg       0.92      0.91      0.91       890\n",
      "\n"
     ]
    }
   ],
   "source": [
    "print(classification_report(y_test, y_pred_lr))"
   ]
  },
  {
   "cell_type": "code",
   "execution_count": 143,
   "id": "7629a877-412f-4098-b3e0-26c4c241a322",
   "metadata": {},
   "outputs": [
    {
     "name": "stdout",
     "output_type": "stream",
     "text": [
      "F1 Score: 0.907\n",
      "Accuracy: 0.907\n",
      "Recall 0.908\n",
      "Precision 0.916\n"
     ]
    }
   ],
   "source": [
    "print(\"F1 Score:\",round(f1_score(y_test, y_pred_lr, average='macro'),3))\n",
    "print(\"Accuracy:\",round(accuracy_score(y_test, y_pred_lr),3))\n",
    "print(\"Recall\", round(recall_score(y_test, y_pred_lr, average='macro'), 3))\n",
    "print(\"Precision\", round(precision_score(y_test, y_pred_lr, average='macro'),3))"
   ]
  },
  {
   "cell_type": "markdown",
   "id": "c32d9fcc-b06b-4c1b-9af1-d6fc4b40a25d",
   "metadata": {},
   "source": [
    "### ANN"
   ]
  },
  {
   "cell_type": "code",
   "execution_count": 475,
   "id": "829bbfdb-d2d4-4a88-83b7-126ab66a77e2",
   "metadata": {},
   "outputs": [
    {
     "name": "stderr",
     "output_type": "stream",
     "text": [
      "C:\\Users\\hanan\\anaconda3\\envs\\notebook\\Lib\\site-packages\\keras\\src\\layers\\core\\dense.py:87: UserWarning: Do not pass an `input_shape`/`input_dim` argument to a layer. When using Sequential models, prefer using an `Input(shape)` object as the first layer in the model instead.\n",
      "  super().__init__(activity_regularizer=activity_regularizer, **kwargs)\n"
     ]
    }
   ],
   "source": [
    "model = Sequential()\n",
    "model.add(Dense(8, input_shape=(X.shape[1],), activation='relu'))\n",
    "model.add(Dense(10, activation='relu'))\n",
    "model.add(Dense(10, activation='relu'))\n",
    "model.add(Dense(10, activation='relu'))\n",
    "model.add(Dense(3, activation='softmax'))"
   ]
  },
  {
   "cell_type": "code",
   "execution_count": 476,
   "id": "f3d3ad59-0b36-4842-b574-2064c0e6d6cf",
   "metadata": {},
   "outputs": [
    {
     "data": {
      "text/html": [
       "<pre style=\"white-space:pre;overflow-x:auto;line-height:normal;font-family:Menlo,'DejaVu Sans Mono',consolas,'Courier New',monospace\"><span style=\"font-weight: bold\">Model: \"sequential_42\"</span>\n",
       "</pre>\n"
      ],
      "text/plain": [
       "\u001b[1mModel: \"sequential_42\"\u001b[0m\n"
      ]
     },
     "metadata": {},
     "output_type": "display_data"
    },
    {
     "data": {
      "text/html": [
       "<pre style=\"white-space:pre;overflow-x:auto;line-height:normal;font-family:Menlo,'DejaVu Sans Mono',consolas,'Courier New',monospace\">┏━━━━━━━━━━━━━━━━━━━━━━━━━━━━━━━━━┳━━━━━━━━━━━━━━━━━━━━━━━━┳━━━━━━━━━━━━━━━┓\n",
       "┃<span style=\"font-weight: bold\"> Layer (type)                    </span>┃<span style=\"font-weight: bold\"> Output Shape           </span>┃<span style=\"font-weight: bold\">       Param # </span>┃\n",
       "┡━━━━━━━━━━━━━━━━━━━━━━━━━━━━━━━━━╇━━━━━━━━━━━━━━━━━━━━━━━━╇━━━━━━━━━━━━━━━┩\n",
       "│ dense_171 (<span style=\"color: #0087ff; text-decoration-color: #0087ff\">Dense</span>)               │ (<span style=\"color: #00d7ff; text-decoration-color: #00d7ff\">None</span>, <span style=\"color: #00af00; text-decoration-color: #00af00\">8</span>)              │            <span style=\"color: #00af00; text-decoration-color: #00af00\">64</span> │\n",
       "├─────────────────────────────────┼────────────────────────┼───────────────┤\n",
       "│ dense_172 (<span style=\"color: #0087ff; text-decoration-color: #0087ff\">Dense</span>)               │ (<span style=\"color: #00d7ff; text-decoration-color: #00d7ff\">None</span>, <span style=\"color: #00af00; text-decoration-color: #00af00\">10</span>)             │            <span style=\"color: #00af00; text-decoration-color: #00af00\">90</span> │\n",
       "├─────────────────────────────────┼────────────────────────┼───────────────┤\n",
       "│ dense_173 (<span style=\"color: #0087ff; text-decoration-color: #0087ff\">Dense</span>)               │ (<span style=\"color: #00d7ff; text-decoration-color: #00d7ff\">None</span>, <span style=\"color: #00af00; text-decoration-color: #00af00\">10</span>)             │           <span style=\"color: #00af00; text-decoration-color: #00af00\">110</span> │\n",
       "├─────────────────────────────────┼────────────────────────┼───────────────┤\n",
       "│ dense_174 (<span style=\"color: #0087ff; text-decoration-color: #0087ff\">Dense</span>)               │ (<span style=\"color: #00d7ff; text-decoration-color: #00d7ff\">None</span>, <span style=\"color: #00af00; text-decoration-color: #00af00\">10</span>)             │           <span style=\"color: #00af00; text-decoration-color: #00af00\">110</span> │\n",
       "├─────────────────────────────────┼────────────────────────┼───────────────┤\n",
       "│ dense_175 (<span style=\"color: #0087ff; text-decoration-color: #0087ff\">Dense</span>)               │ (<span style=\"color: #00d7ff; text-decoration-color: #00d7ff\">None</span>, <span style=\"color: #00af00; text-decoration-color: #00af00\">3</span>)              │            <span style=\"color: #00af00; text-decoration-color: #00af00\">33</span> │\n",
       "└─────────────────────────────────┴────────────────────────┴───────────────┘\n",
       "</pre>\n"
      ],
      "text/plain": [
       "┏━━━━━━━━━━━━━━━━━━━━━━━━━━━━━━━━━┳━━━━━━━━━━━━━━━━━━━━━━━━┳━━━━━━━━━━━━━━━┓\n",
       "┃\u001b[1m \u001b[0m\u001b[1mLayer (type)                   \u001b[0m\u001b[1m \u001b[0m┃\u001b[1m \u001b[0m\u001b[1mOutput Shape          \u001b[0m\u001b[1m \u001b[0m┃\u001b[1m \u001b[0m\u001b[1m      Param #\u001b[0m\u001b[1m \u001b[0m┃\n",
       "┡━━━━━━━━━━━━━━━━━━━━━━━━━━━━━━━━━╇━━━━━━━━━━━━━━━━━━━━━━━━╇━━━━━━━━━━━━━━━┩\n",
       "│ dense_171 (\u001b[38;5;33mDense\u001b[0m)               │ (\u001b[38;5;45mNone\u001b[0m, \u001b[38;5;34m8\u001b[0m)              │            \u001b[38;5;34m64\u001b[0m │\n",
       "├─────────────────────────────────┼────────────────────────┼───────────────┤\n",
       "│ dense_172 (\u001b[38;5;33mDense\u001b[0m)               │ (\u001b[38;5;45mNone\u001b[0m, \u001b[38;5;34m10\u001b[0m)             │            \u001b[38;5;34m90\u001b[0m │\n",
       "├─────────────────────────────────┼────────────────────────┼───────────────┤\n",
       "│ dense_173 (\u001b[38;5;33mDense\u001b[0m)               │ (\u001b[38;5;45mNone\u001b[0m, \u001b[38;5;34m10\u001b[0m)             │           \u001b[38;5;34m110\u001b[0m │\n",
       "├─────────────────────────────────┼────────────────────────┼───────────────┤\n",
       "│ dense_174 (\u001b[38;5;33mDense\u001b[0m)               │ (\u001b[38;5;45mNone\u001b[0m, \u001b[38;5;34m10\u001b[0m)             │           \u001b[38;5;34m110\u001b[0m │\n",
       "├─────────────────────────────────┼────────────────────────┼───────────────┤\n",
       "│ dense_175 (\u001b[38;5;33mDense\u001b[0m)               │ (\u001b[38;5;45mNone\u001b[0m, \u001b[38;5;34m3\u001b[0m)              │            \u001b[38;5;34m33\u001b[0m │\n",
       "└─────────────────────────────────┴────────────────────────┴───────────────┘\n"
      ]
     },
     "metadata": {},
     "output_type": "display_data"
    },
    {
     "data": {
      "text/html": [
       "<pre style=\"white-space:pre;overflow-x:auto;line-height:normal;font-family:Menlo,'DejaVu Sans Mono',consolas,'Courier New',monospace\"><span style=\"font-weight: bold\"> Total params: </span><span style=\"color: #00af00; text-decoration-color: #00af00\">407</span> (1.59 KB)\n",
       "</pre>\n"
      ],
      "text/plain": [
       "\u001b[1m Total params: \u001b[0m\u001b[38;5;34m407\u001b[0m (1.59 KB)\n"
      ]
     },
     "metadata": {},
     "output_type": "display_data"
    },
    {
     "data": {
      "text/html": [
       "<pre style=\"white-space:pre;overflow-x:auto;line-height:normal;font-family:Menlo,'DejaVu Sans Mono',consolas,'Courier New',monospace\"><span style=\"font-weight: bold\"> Trainable params: </span><span style=\"color: #00af00; text-decoration-color: #00af00\">407</span> (1.59 KB)\n",
       "</pre>\n"
      ],
      "text/plain": [
       "\u001b[1m Trainable params: \u001b[0m\u001b[38;5;34m407\u001b[0m (1.59 KB)\n"
      ]
     },
     "metadata": {},
     "output_type": "display_data"
    },
    {
     "data": {
      "text/html": [
       "<pre style=\"white-space:pre;overflow-x:auto;line-height:normal;font-family:Menlo,'DejaVu Sans Mono',consolas,'Courier New',monospace\"><span style=\"font-weight: bold\"> Non-trainable params: </span><span style=\"color: #00af00; text-decoration-color: #00af00\">0</span> (0.00 B)\n",
       "</pre>\n"
      ],
      "text/plain": [
       "\u001b[1m Non-trainable params: \u001b[0m\u001b[38;5;34m0\u001b[0m (0.00 B)\n"
      ]
     },
     "metadata": {},
     "output_type": "display_data"
    }
   ],
   "source": [
    "model.summary()"
   ]
  },
  {
   "cell_type": "code",
   "execution_count": 477,
   "id": "ddd19e90-e8e5-41b4-b5a7-4ccc8132ad5b",
   "metadata": {},
   "outputs": [
    {
     "name": "stdout",
     "output_type": "stream",
     "text": [
      "Epoch 1/15\n",
      "\u001b[1m267/267\u001b[0m \u001b[32m━━━━━━━━━━━━━━━━━━━━\u001b[0m\u001b[37m\u001b[0m \u001b[1m4s\u001b[0m 3ms/step - accuracy: 0.5234 - loss: 1.0113\n",
      "Epoch 2/15\n",
      "\u001b[1m267/267\u001b[0m \u001b[32m━━━━━━━━━━━━━━━━━━━━\u001b[0m\u001b[37m\u001b[0m \u001b[1m1s\u001b[0m 4ms/step - accuracy: 0.7489 - loss: 0.5879\n",
      "Epoch 3/15\n",
      "\u001b[1m267/267\u001b[0m \u001b[32m━━━━━━━━━━━━━━━━━━━━\u001b[0m\u001b[37m\u001b[0m \u001b[1m1s\u001b[0m 4ms/step - accuracy: 0.7927 - loss: 0.4999\n",
      "Epoch 4/15\n",
      "\u001b[1m267/267\u001b[0m \u001b[32m━━━━━━━━━━━━━━━━━━━━\u001b[0m\u001b[37m\u001b[0m \u001b[1m1s\u001b[0m 3ms/step - accuracy: 0.8053 - loss: 0.4507\n",
      "Epoch 5/15\n",
      "\u001b[1m267/267\u001b[0m \u001b[32m━━━━━━━━━━━━━━━━━━━━\u001b[0m\u001b[37m\u001b[0m \u001b[1m1s\u001b[0m 3ms/step - accuracy: 0.8300 - loss: 0.4256\n",
      "Epoch 6/15\n",
      "\u001b[1m267/267\u001b[0m \u001b[32m━━━━━━━━━━━━━━━━━━━━\u001b[0m\u001b[37m\u001b[0m \u001b[1m1s\u001b[0m 3ms/step - accuracy: 0.8191 - loss: 0.4145\n",
      "Epoch 7/15\n",
      "\u001b[1m267/267\u001b[0m \u001b[32m━━━━━━━━━━━━━━━━━━━━\u001b[0m\u001b[37m\u001b[0m \u001b[1m1s\u001b[0m 3ms/step - accuracy: 0.8454 - loss: 0.3685\n",
      "Epoch 8/15\n",
      "\u001b[1m267/267\u001b[0m \u001b[32m━━━━━━━━━━━━━━━━━━━━\u001b[0m\u001b[37m\u001b[0m \u001b[1m1s\u001b[0m 5ms/step - accuracy: 0.8596 - loss: 0.3558\n",
      "Epoch 9/15\n",
      "\u001b[1m267/267\u001b[0m \u001b[32m━━━━━━━━━━━━━━━━━━━━\u001b[0m\u001b[37m\u001b[0m \u001b[1m1s\u001b[0m 5ms/step - accuracy: 0.8505 - loss: 0.3341\n",
      "Epoch 10/15\n",
      "\u001b[1m267/267\u001b[0m \u001b[32m━━━━━━━━━━━━━━━━━━━━\u001b[0m\u001b[37m\u001b[0m \u001b[1m1s\u001b[0m 4ms/step - accuracy: 0.8595 - loss: 0.3341\n",
      "Epoch 11/15\n",
      "\u001b[1m267/267\u001b[0m \u001b[32m━━━━━━━━━━━━━━━━━━━━\u001b[0m\u001b[37m\u001b[0m \u001b[1m1s\u001b[0m 4ms/step - accuracy: 0.8719 - loss: 0.3153\n",
      "Epoch 12/15\n",
      "\u001b[1m267/267\u001b[0m \u001b[32m━━━━━━━━━━━━━━━━━━━━\u001b[0m\u001b[37m\u001b[0m \u001b[1m1s\u001b[0m 4ms/step - accuracy: 0.8776 - loss: 0.2845\n",
      "Epoch 13/15\n",
      "\u001b[1m267/267\u001b[0m \u001b[32m━━━━━━━━━━━━━━━━━━━━\u001b[0m\u001b[37m\u001b[0m \u001b[1m1s\u001b[0m 3ms/step - accuracy: 0.8876 - loss: 0.2752\n",
      "Epoch 14/15\n",
      "\u001b[1m267/267\u001b[0m \u001b[32m━━━━━━━━━━━━━━━━━━━━\u001b[0m\u001b[37m\u001b[0m \u001b[1m1s\u001b[0m 3ms/step - accuracy: 0.8869 - loss: 0.2624\n",
      "Epoch 15/15\n",
      "\u001b[1m267/267\u001b[0m \u001b[32m━━━━━━━━━━━━━━━━━━━━\u001b[0m\u001b[37m\u001b[0m \u001b[1m1s\u001b[0m 4ms/step - accuracy: 0.8971 - loss: 0.2584\n"
     ]
    },
    {
     "data": {
      "text/plain": [
       "<keras.src.callbacks.history.History at 0x1f548117950>"
      ]
     },
     "execution_count": 477,
     "metadata": {},
     "output_type": "execute_result"
    }
   ],
   "source": [
    "model.compile(loss='sparse_categorical_crossentropy', optimizer='adam', metrics=['accuracy'])\n",
    "model.fit(X_train, y_train, epochs =15, batch_size = 5, shuffle=True, verbose=1)\n"
   ]
  },
  {
   "cell_type": "code",
   "execution_count": 478,
   "id": "76db7972-13fb-4c91-8665-27d1fd1e6f7f",
   "metadata": {},
   "outputs": [
    {
     "name": "stdout",
     "output_type": "stream",
     "text": [
      "\u001b[1m28/28\u001b[0m \u001b[32m━━━━━━━━━━━━━━━━━━━━\u001b[0m\u001b[37m\u001b[0m \u001b[1m1s\u001b[0m 17ms/step\n"
     ]
    }
   ],
   "source": [
    "# y_pred_ann = model.predict(X_test).round()\n",
    "y_pred_prob = model.predict(X_test)\n",
    "y_pred_ann = tf.argmax(y_pred_prob, axis=1)"
   ]
  },
  {
   "cell_type": "code",
   "execution_count": 479,
   "id": "0cd05cc5-7a4b-4260-bc7f-fb6e437b2bd4",
   "metadata": {},
   "outputs": [
    {
     "name": "stdout",
     "output_type": "stream",
     "text": [
      "F1 Score: 0.858\n",
      "Accuracy: 0.858\n",
      "Recall 0.858\n",
      "Precision 0.872\n"
     ]
    }
   ],
   "source": [
    "print(\"F1 Score:\",round(f1_score(y_test, y_pred_ann, average='micro'),3))\n",
    "print(\"Accuracy:\",round(accuracy_score(y_test, y_pred_ann),3))\n",
    "print(\"Recall\", round(recall_score(y_test, y_pred_ann, average='macro'), 3))\n",
    "print(\"Precision\", round(precision_score(y_test, y_pred_ann, average='macro'),3))"
   ]
  },
  {
   "cell_type": "code",
   "execution_count": null,
   "id": "1257cabb-59c8-49f6-8c5d-be82c775e392",
   "metadata": {},
   "outputs": [],
   "source": []
  }
 ],
 "metadata": {
  "kernelspec": {
   "display_name": "Python 3 (ipykernel)",
   "language": "python",
   "name": "python3"
  },
  "language_info": {
   "codemirror_mode": {
    "name": "ipython",
    "version": 3
   },
   "file_extension": ".py",
   "mimetype": "text/x-python",
   "name": "python",
   "nbconvert_exporter": "python",
   "pygments_lexer": "ipython3",
   "version": "3.11.8"
  }
 },
 "nbformat": 4,
 "nbformat_minor": 5
}
